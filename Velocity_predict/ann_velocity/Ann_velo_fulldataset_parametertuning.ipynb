{
 "cells": [
  {
   "cell_type": "code",
   "execution_count": 26,
   "id": "f698cecb",
   "metadata": {},
   "outputs": [
    {
     "name": "stdout",
     "output_type": "stream",
     "text": [
      "Requirement already satisfied: keras-tuner in c:\\users\\ssinghai\\anaconda3\\lib\\site-packages (1.1.3)\n",
      "Requirement already satisfied: requests in c:\\users\\ssinghai\\anaconda3\\lib\\site-packages (from keras-tuner) (2.27.1)\n",
      "Requirement already satisfied: numpy in c:\\users\\ssinghai\\anaconda3\\lib\\site-packages (from keras-tuner) (1.21.5)\n",
      "Requirement already satisfied: tensorboard in c:\\users\\ssinghai\\anaconda3\\lib\\site-packages (from keras-tuner) (2.9.1)\n",
      "Requirement already satisfied: kt-legacy in c:\\users\\ssinghai\\anaconda3\\lib\\site-packages (from keras-tuner) (1.0.4)\n",
      "Requirement already satisfied: ipython in c:\\users\\ssinghai\\anaconda3\\lib\\site-packages (from keras-tuner) (8.2.0)\n",
      "Requirement already satisfied: packaging in c:\\users\\ssinghai\\anaconda3\\lib\\site-packages (from keras-tuner) (21.3)\n",
      "Requirement already satisfied: setuptools>=18.5 in c:\\users\\ssinghai\\anaconda3\\lib\\site-packages (from ipython->keras-tuner) (61.2.0)\n",
      "Requirement already satisfied: matplotlib-inline in c:\\users\\ssinghai\\anaconda3\\lib\\site-packages (from ipython->keras-tuner) (0.1.2)\n",
      "Requirement already satisfied: pygments>=2.4.0 in c:\\users\\ssinghai\\anaconda3\\lib\\site-packages (from ipython->keras-tuner) (2.11.2)\n",
      "Requirement already satisfied: jedi>=0.16 in c:\\users\\ssinghai\\anaconda3\\lib\\site-packages (from ipython->keras-tuner) (0.18.1)\n",
      "Requirement already satisfied: prompt-toolkit!=3.0.0,!=3.0.1,<3.1.0,>=2.0.0 in c:\\users\\ssinghai\\anaconda3\\lib\\site-packages (from ipython->keras-tuner) (3.0.20)\n",
      "Requirement already satisfied: traitlets>=5 in c:\\users\\ssinghai\\anaconda3\\lib\\site-packages (from ipython->keras-tuner) (5.1.1)\n",
      "Requirement already satisfied: stack-data in c:\\users\\ssinghai\\anaconda3\\lib\\site-packages (from ipython->keras-tuner) (0.2.0)\n",
      "Requirement already satisfied: backcall in c:\\users\\ssinghai\\anaconda3\\lib\\site-packages (from ipython->keras-tuner) (0.2.0)\n",
      "Requirement already satisfied: colorama in c:\\users\\ssinghai\\anaconda3\\lib\\site-packages (from ipython->keras-tuner) (0.4.4)\n",
      "Requirement already satisfied: pickleshare in c:\\users\\ssinghai\\anaconda3\\lib\\site-packages (from ipython->keras-tuner) (0.7.5)\n",
      "Requirement already satisfied: decorator in c:\\users\\ssinghai\\anaconda3\\lib\\site-packages (from ipython->keras-tuner) (5.1.1)\n",
      "Requirement already satisfied: parso<0.9.0,>=0.8.0 in c:\\users\\ssinghai\\anaconda3\\lib\\site-packages (from jedi>=0.16->ipython->keras-tuner) (0.8.3)\n",
      "Requirement already satisfied: wcwidth in c:\\users\\ssinghai\\anaconda3\\lib\\site-packages (from prompt-toolkit!=3.0.0,!=3.0.1,<3.1.0,>=2.0.0->ipython->keras-tuner) (0.2.5)\n",
      "Requirement already satisfied: pyparsing!=3.0.5,>=2.0.2 in c:\\users\\ssinghai\\anaconda3\\lib\\site-packages (from packaging->keras-tuner) (3.0.4)\n",
      "Requirement already satisfied: urllib3<1.27,>=1.21.1 in c:\\users\\ssinghai\\anaconda3\\lib\\site-packages (from requests->keras-tuner) (1.26.9)\n",
      "Requirement already satisfied: certifi>=2017.4.17 in c:\\users\\ssinghai\\anaconda3\\lib\\site-packages (from requests->keras-tuner) (2021.10.8)\n",
      "Requirement already satisfied: idna<4,>=2.5 in c:\\users\\ssinghai\\anaconda3\\lib\\site-packages (from requests->keras-tuner) (3.3)\n",
      "Requirement already satisfied: charset-normalizer~=2.0.0 in c:\\users\\ssinghai\\anaconda3\\lib\\site-packages (from requests->keras-tuner) (2.0.4)\n",
      "Requirement already satisfied: executing in c:\\users\\ssinghai\\anaconda3\\lib\\site-packages (from stack-data->ipython->keras-tuner) (0.8.3)\n",
      "Requirement already satisfied: pure-eval in c:\\users\\ssinghai\\anaconda3\\lib\\site-packages (from stack-data->ipython->keras-tuner) (0.2.2)\n",
      "Requirement already satisfied: asttokens in c:\\users\\ssinghai\\anaconda3\\lib\\site-packages (from stack-data->ipython->keras-tuner) (2.0.5)\n",
      "Requirement already satisfied: six in c:\\users\\ssinghai\\anaconda3\\lib\\site-packages (from asttokens->stack-data->ipython->keras-tuner) (1.16.0)\n",
      "Requirement already satisfied: google-auth<3,>=1.6.3 in c:\\users\\ssinghai\\anaconda3\\lib\\site-packages (from tensorboard->keras-tuner) (1.33.0)\n",
      "Requirement already satisfied: absl-py>=0.4 in c:\\users\\ssinghai\\anaconda3\\lib\\site-packages (from tensorboard->keras-tuner) (1.2.0)\n",
      "Requirement already satisfied: tensorboard-data-server<0.7.0,>=0.6.0 in c:\\users\\ssinghai\\anaconda3\\lib\\site-packages (from tensorboard->keras-tuner) (0.6.1)\n",
      "Requirement already satisfied: tensorboard-plugin-wit>=1.6.0 in c:\\users\\ssinghai\\anaconda3\\lib\\site-packages (from tensorboard->keras-tuner) (1.8.1)\n",
      "Requirement already satisfied: werkzeug>=1.0.1 in c:\\users\\ssinghai\\anaconda3\\lib\\site-packages (from tensorboard->keras-tuner) (2.0.3)\n",
      "Requirement already satisfied: google-auth-oauthlib<0.5,>=0.4.1 in c:\\users\\ssinghai\\anaconda3\\lib\\site-packages (from tensorboard->keras-tuner) (0.4.6)\n",
      "Requirement already satisfied: grpcio>=1.24.3 in c:\\users\\ssinghai\\anaconda3\\lib\\site-packages (from tensorboard->keras-tuner) (1.42.0)\n",
      "Requirement already satisfied: markdown>=2.6.8 in c:\\users\\ssinghai\\anaconda3\\lib\\site-packages (from tensorboard->keras-tuner) (3.3.4)\n",
      "Requirement already satisfied: wheel>=0.26 in c:\\users\\ssinghai\\anaconda3\\lib\\site-packages (from tensorboard->keras-tuner) (0.37.1)\n",
      "Requirement already satisfied: protobuf<3.20,>=3.9.2 in c:\\users\\ssinghai\\anaconda3\\lib\\site-packages (from tensorboard->keras-tuner) (3.19.1)\n",
      "Requirement already satisfied: pyasn1-modules>=0.2.1 in c:\\users\\ssinghai\\anaconda3\\lib\\site-packages (from google-auth<3,>=1.6.3->tensorboard->keras-tuner) (0.2.8)\n",
      "Requirement already satisfied: cachetools<5.0,>=2.0.0 in c:\\users\\ssinghai\\anaconda3\\lib\\site-packages (from google-auth<3,>=1.6.3->tensorboard->keras-tuner) (4.2.2)\n",
      "Requirement already satisfied: rsa<5,>=3.1.4 in c:\\users\\ssinghai\\anaconda3\\lib\\site-packages (from google-auth<3,>=1.6.3->tensorboard->keras-tuner) (4.7.2)\n",
      "Requirement already satisfied: requests-oauthlib>=0.7.0 in c:\\users\\ssinghai\\anaconda3\\lib\\site-packages (from google-auth-oauthlib<0.5,>=0.4.1->tensorboard->keras-tuner) (1.3.1)\n",
      "Requirement already satisfied: pyasn1<0.5.0,>=0.4.6 in c:\\users\\ssinghai\\anaconda3\\lib\\site-packages (from pyasn1-modules>=0.2.1->google-auth<3,>=1.6.3->tensorboard->keras-tuner) (0.4.8)\n",
      "Requirement already satisfied: oauthlib>=3.0.0 in c:\\users\\ssinghai\\anaconda3\\lib\\site-packages (from requests-oauthlib>=0.7.0->google-auth-oauthlib<0.5,>=0.4.1->tensorboard->keras-tuner) (3.2.0)\n",
      "Requirement already satisfied: tensorflow_addons in c:\\users\\ssinghai\\anaconda3\\lib\\site-packages (0.17.1)\n",
      "Requirement already satisfied: typeguard>=2.7 in c:\\users\\ssinghai\\anaconda3\\lib\\site-packages (from tensorflow_addons) (2.13.3)\n",
      "Requirement already satisfied: packaging in c:\\users\\ssinghai\\anaconda3\\lib\\site-packages (from tensorflow_addons) (21.3)\n",
      "Requirement already satisfied: pyparsing!=3.0.5,>=2.0.2 in c:\\users\\ssinghai\\anaconda3\\lib\\site-packages (from packaging->tensorflow_addons) (3.0.4)\n"
     ]
    }
   ],
   "source": [
    "!pip install keras-tuner\n",
    "!pip install tensorflow_addons\n",
    "import pandas as pd\n",
    "import numpy as np\n",
    "import matplotlib.pyplot as plt\n",
    "import tensorflow as tf\n",
    "from tensorflow import keras\n",
    "from tensorflow.keras.models import Sequential\n",
    "import pandas as pd\n",
    "from tensorflow import keras\n",
    "from tensorflow.keras import layers\n",
    "from kerastuner.tuners import RandomSearch\n",
    "import tensorflow_addons as tfa"
   ]
  },
  {
   "cell_type": "code",
   "execution_count": 27,
   "id": "6be8c8cc",
   "metadata": {},
   "outputs": [
    {
     "name": "stdout",
     "output_type": "stream",
     "text": [
      "Num GPUs Available:  1\n"
     ]
    }
   ],
   "source": [
    "import tensorflow as tf\n",
    "#sess = tf.Session(config=tf.ConfigProto(log_device_placement=True))\n",
    "print(\"Num GPUs Available: \", len(tf.config.list_physical_devices('GPU')))"
   ]
  },
  {
   "cell_type": "code",
   "execution_count": 28,
   "id": "6fee37a9",
   "metadata": {},
   "outputs": [],
   "source": [
    "#Importing Input data\n",
    "data_cohesion = np.load('Inputs/4ft_cohesion.npy')\n",
    "data_friction = np.load('Inputs/4ft_friction.npy')\n",
    "data_poly = np.load('Inputs/4ft_poly_feature.npy')\n",
    "data_watertable = np.load('Inputs/4ft_water_table.npy')\n",
    "data_velo = np.load(\"Targets/4ft_velocity_plots.npy\")\n",
    "data_watertable = np.squeeze(data_watertable)"
   ]
  },
  {
   "cell_type": "code",
   "execution_count": 29,
   "id": "a5427e71",
   "metadata": {},
   "outputs": [
    {
     "name": "stdout",
     "output_type": "stream",
     "text": [
      "(144807, 16)\n",
      "(144807, 16)\n",
      "(144807,)\n",
      "(33, 33, 144807)\n"
     ]
    }
   ],
   "source": [
    "#Size\n",
    "data_cohesion = np.transpose(data_cohesion)\n",
    "data_friction = np.transpose(data_friction)\n",
    "data_watertable = np.transpose(data_watertable)\n",
    "data_watertable = np.squeeze(data_watertable)\n",
    "print(np.shape(data_cohesion))\n",
    "print(np.shape(data_friction))\n",
    "print(np.shape(data_watertable))\n",
    "print(np.shape(data_velo))\n",
    "m = np.shape(data_cohesion)[1]\n",
    "n_sim = np.shape(data_velo)[2]\n",
    "n_final_test = 0\n",
    "n_remain = n_sim - n_final_test\n",
    "mo = np.shape(data_velo)[0]"
   ]
  },
  {
   "cell_type": "code",
   "execution_count": 30,
   "id": "a6fe6cac",
   "metadata": {},
   "outputs": [],
   "source": [
    "li= []\n",
    "for i in range (n_sim):\n",
    "    temp = np.reshape(data_velo[:,:,i],(mo*mo,1))\n",
    "    li.append(temp)\n",
    "data = np.array(li)"
   ]
  },
  {
   "cell_type": "code",
   "execution_count": 31,
   "id": "206e8c5e",
   "metadata": {},
   "outputs": [],
   "source": [
    "data_arr= np.zeros((n_remain,2*m + 1))\n",
    "data_arr[0:n_remain,0:m] = data_cohesion[0:n_remain,:]\n",
    "data_arr[0:n_remain,m:2*m] = data_friction[0:n_remain,:]\n",
    "data_arr[0:n_remain,2*m] = data_watertable[0:n_remain]"
   ]
  },
  {
   "cell_type": "code",
   "execution_count": 32,
   "id": "7aaa6452",
   "metadata": {},
   "outputs": [],
   "source": [
    "data_x = data_arr\n",
    "data_y = data[0:n_remain,:,:]\n",
    "data_y = np.reshape(data_y, (n_remain,mo*mo))"
   ]
  },
  {
   "cell_type": "code",
   "execution_count": 33,
   "id": "c637d5a4",
   "metadata": {},
   "outputs": [
    {
     "data": {
      "text/plain": [
       "(144807, 1089)"
      ]
     },
     "execution_count": 33,
     "metadata": {},
     "output_type": "execute_result"
    }
   ],
   "source": [
    "np.shape(data_y)"
   ]
  },
  {
   "cell_type": "code",
   "execution_count": 34,
   "id": "6566fde5",
   "metadata": {},
   "outputs": [
    {
     "data": {
      "text/plain": [
       "(144807, 33)"
      ]
     },
     "execution_count": 34,
     "metadata": {},
     "output_type": "execute_result"
    }
   ],
   "source": [
    "np.shape(data_arr)"
   ]
  },
  {
   "cell_type": "code",
   "execution_count": 35,
   "id": "b7f47101",
   "metadata": {},
   "outputs": [],
   "source": [
    "def build_model(hp):\n",
    "    \n",
    "    model = keras.Sequential()\n",
    "    for i in range(hp.Int('num_layers', 3, 10)):\n",
    "        model.add(layers.Dense(units=hp.Int('units_' + str(i),\n",
    "                                            min_value=512,\n",
    "                                            max_value=4068,\n",
    "                                            step=64),\n",
    "                               activation='relu'))\n",
    "    model.add(layers.Dense(1089, activation='linear'))\n",
    "    metric = tfa.metrics.r_square.RSquare()\n",
    "    model.compile(\n",
    "        optimizer=keras.optimizers.Adam(\n",
    "            hp.Choice('learning_rate', [1e-2, 1e-3, 1e-4])),\n",
    "        loss='mean_absolute_error',\n",
    "        metrics='mean_squared_error')\n",
    "    return model"
   ]
  },
  {
   "cell_type": "code",
   "execution_count": 36,
   "id": "893d8210",
   "metadata": {},
   "outputs": [
    {
     "name": "stdout",
     "output_type": "stream",
     "text": [
      "INFO:tensorflow:Reloading Oracle from existing project project\\Velocity Field\\oracle.json\n"
     ]
    }
   ],
   "source": [
    "tuner = RandomSearch(\n",
    "    build_model,\n",
    "    objective='val_mean_absolute_error',\n",
    "    max_trials=5,\n",
    "    executions_per_trial=3,\n",
    "    directory='project',\n",
    "    project_name='Velocity Field')"
   ]
  },
  {
   "cell_type": "code",
   "execution_count": 37,
   "id": "3d7c081d",
   "metadata": {},
   "outputs": [
    {
     "name": "stdout",
     "output_type": "stream",
     "text": [
      "Search space summary\n",
      "Default search space size: 5\n",
      "num_layers (Int)\n",
      "{'default': None, 'conditions': [], 'min_value': 3, 'max_value': 10, 'step': 1, 'sampling': None}\n",
      "units_0 (Int)\n",
      "{'default': None, 'conditions': [], 'min_value': 512, 'max_value': 4068, 'step': 64, 'sampling': None}\n",
      "units_1 (Int)\n",
      "{'default': None, 'conditions': [], 'min_value': 512, 'max_value': 4068, 'step': 64, 'sampling': None}\n",
      "units_2 (Int)\n",
      "{'default': None, 'conditions': [], 'min_value': 512, 'max_value': 4068, 'step': 64, 'sampling': None}\n",
      "learning_rate (Choice)\n",
      "{'default': 0.01, 'conditions': [], 'values': [0.01, 0.001, 0.0001], 'ordered': True}\n"
     ]
    }
   ],
   "source": [
    "tuner.search_space_summary()"
   ]
  },
  {
   "cell_type": "code",
   "execution_count": 38,
   "id": "48db0ec7",
   "metadata": {},
   "outputs": [],
   "source": [
    "from sklearn.model_selection import train_test_split\n",
    "x_train, x_test, y_train, y_test = train_test_split(data_x, data_y, test_size=0.1, random_state = 42)"
   ]
  },
  {
   "cell_type": "code",
   "execution_count": 39,
   "id": "09c5fce9",
   "metadata": {},
   "outputs": [
    {
     "name": "stdout",
     "output_type": "stream",
     "text": [
      "\n",
      "Search: Running Trial #1\n",
      "\n",
      "Value             |Best Value So Far |Hyperparameter\n",
      "6                 |?                 |num_layers\n",
      "1920              |?                 |units_0\n",
      "3328              |?                 |units_1\n",
      "1856              |?                 |units_2\n",
      "0.001             |?                 |learning_rate\n",
      "\n",
      "Epoch 1/100\n",
      "   1/4073 [..............................] - ETA: 26:02 - loss: 1666.2600 - mean_squared_error: 4607567.0000WARNING:tensorflow:Callback method `on_train_batch_end` is slow compared to the batch time (batch time: 0.0036s vs `on_train_batch_end` time: 0.0043s). Check your callbacks.\n",
      "4073/4073 [==============================] - 31s 8ms/step - loss: 2.3859 - mean_squared_error: 7000.8042 - val_loss: 1.0906e-04 - val_mean_squared_error: 1.9278e-08\n",
      "Epoch 2/100\n",
      "4073/4073 [==============================] - 32s 8ms/step - loss: 1.1201e-04 - mean_squared_error: 2.0381e-08 - val_loss: 1.1792e-04 - val_mean_squared_error: 2.1924e-08\n",
      "Epoch 3/100\n",
      "4073/4073 [==============================] - 34s 8ms/step - loss: 1.1208e-04 - mean_squared_error: 2.0422e-08 - val_loss: 1.1172e-04 - val_mean_squared_error: 2.0645e-08\n",
      "Epoch 4/100\n",
      "4073/4073 [==============================] - 34s 8ms/step - loss: 1.1211e-04 - mean_squared_error: 2.0441e-08 - val_loss: 1.1082e-04 - val_mean_squared_error: 1.9531e-08\n",
      "Epoch 5/100\n",
      "4073/4073 [==============================] - 33s 8ms/step - loss: 1.1230e-04 - mean_squared_error: 2.0476e-08 - val_loss: 1.1207e-04 - val_mean_squared_error: 2.0132e-08\n",
      "Epoch 6/100\n",
      "4073/4073 [==============================] - 33s 8ms/step - loss: 1.1220e-04 - mean_squared_error: 2.0430e-08 - val_loss: 1.1391e-04 - val_mean_squared_error: 2.0817e-08\n",
      "Epoch 7/100\n",
      "4073/4073 [==============================] - 34s 8ms/step - loss: 1.1280e-04 - mean_squared_error: 2.0694e-08 - val_loss: 1.1281e-04 - val_mean_squared_error: 2.0268e-08\n",
      "Epoch 8/100\n",
      "4073/4073 [==============================] - 34s 8ms/step - loss: 1.1337e-04 - mean_squared_error: 2.0860e-08 - val_loss: 1.0983e-04 - val_mean_squared_error: 1.9260e-08\n",
      "Epoch 9/100\n",
      "4073/4073 [==============================] - 35s 9ms/step - loss: 1.1246e-04 - mean_squared_error: 2.0512e-08 - val_loss: 1.1977e-04 - val_mean_squared_error: 2.2730e-08\n",
      "Epoch 10/100\n",
      "4073/4073 [==============================] - 34s 8ms/step - loss: 1.1304e-04 - mean_squared_error: 2.0670e-08 - val_loss: 1.1370e-04 - val_mean_squared_error: 2.1387e-08\n",
      "Epoch 11/100\n",
      "4073/4073 [==============================] - 34s 8ms/step - loss: 1.1245e-04 - mean_squared_error: 2.0504e-08 - val_loss: 1.1581e-04 - val_mean_squared_error: 2.1576e-08\n",
      "Epoch 12/100\n",
      "4073/4073 [==============================] - 55s 14ms/step - loss: 1.1228e-04 - mean_squared_error: 2.0518e-08 - val_loss: 1.0938e-04 - val_mean_squared_error: 1.9484e-08\n",
      "Epoch 13/100\n",
      "4073/4073 [==============================] - 61s 15ms/step - loss: 1.1314e-04 - mean_squared_error: 2.0760e-08 - val_loss: 1.1492e-04 - val_mean_squared_error: 2.1568e-08\n",
      "Epoch 14/100\n",
      "4073/4073 [==============================] - 61s 15ms/step - loss: 1.1257e-04 - mean_squared_error: 2.0501e-08 - val_loss: 1.1063e-04 - val_mean_squared_error: 1.9818e-08\n",
      "Epoch 15/100\n",
      "4073/4073 [==============================] - 61s 15ms/step - loss: 1.1278e-04 - mean_squared_error: 2.0611e-08 - val_loss: 1.1475e-04 - val_mean_squared_error: 2.1734e-08\n",
      "Epoch 16/100\n",
      "4073/4073 [==============================] - 63s 15ms/step - loss: 1.1253e-04 - mean_squared_error: 2.0570e-08 - val_loss: 1.1693e-04 - val_mean_squared_error: 2.2363e-08\n",
      "Epoch 17/100\n",
      "4073/4073 [==============================] - 61s 15ms/step - loss: 1.1271e-04 - mean_squared_error: 2.0605e-08 - val_loss: 1.1305e-04 - val_mean_squared_error: 2.0666e-08\n",
      "Epoch 18/100\n",
      "4073/4073 [==============================] - 61s 15ms/step - loss: 1.1289e-04 - mean_squared_error: 2.0634e-08 - val_loss: 1.0790e-04 - val_mean_squared_error: 1.8585e-08\n",
      "Epoch 19/100\n",
      "4073/4073 [==============================] - 62s 15ms/step - loss: 1.1245e-04 - mean_squared_error: 2.0496e-08 - val_loss: 1.1169e-04 - val_mean_squared_error: 1.9970e-08\n",
      "Epoch 20/100\n",
      "4073/4073 [==============================] - 61s 15ms/step - loss: 1.1294e-04 - mean_squared_error: 2.0665e-08 - val_loss: 1.1284e-04 - val_mean_squared_error: 2.0878e-08\n",
      "Epoch 21/100\n",
      "4073/4073 [==============================] - 61s 15ms/step - loss: 1.1292e-04 - mean_squared_error: 2.0654e-08 - val_loss: 1.1655e-04 - val_mean_squared_error: 2.1750e-08\n",
      "Epoch 22/100\n",
      "4073/4073 [==============================] - 60s 15ms/step - loss: 1.1352e-04 - mean_squared_error: 2.0833e-08 - val_loss: 1.1914e-04 - val_mean_squared_error: 2.2785e-08\n",
      "Epoch 23/100\n",
      "4073/4073 [==============================] - 61s 15ms/step - loss: 1.1335e-04 - mean_squared_error: 2.0865e-08 - val_loss: 1.0692e-04 - val_mean_squared_error: 1.8429e-08\n",
      "Epoch 24/100\n",
      "4073/4073 [==============================] - 60s 15ms/step - loss: 1.1321e-04 - mean_squared_error: 2.0788e-08 - val_loss: 1.1106e-04 - val_mean_squared_error: 2.0233e-08\n",
      "Epoch 25/100\n",
      "4073/4073 [==============================] - 61s 15ms/step - loss: 1.1291e-04 - mean_squared_error: 2.0629e-08 - val_loss: 1.1408e-04 - val_mean_squared_error: 2.0977e-08\n",
      "Epoch 26/100\n",
      "4073/4073 [==============================] - 61s 15ms/step - loss: 1.1311e-04 - mean_squared_error: 2.0701e-08 - val_loss: 1.1530e-04 - val_mean_squared_error: 2.0984e-08\n",
      "Epoch 27/100\n",
      "4073/4073 [==============================] - 61s 15ms/step - loss: 1.1324e-04 - mean_squared_error: 2.0746e-08 - val_loss: 1.0845e-04 - val_mean_squared_error: 1.9567e-08\n",
      "Epoch 28/100\n",
      "4073/4073 [==============================] - 61s 15ms/step - loss: 1.1327e-04 - mean_squared_error: 2.0772e-08 - val_loss: 1.1818e-04 - val_mean_squared_error: 2.2274e-08\n",
      "Epoch 29/100\n",
      "4073/4073 [==============================] - 61s 15ms/step - loss: 1.1290e-04 - mean_squared_error: 2.0646e-08 - val_loss: 1.1191e-04 - val_mean_squared_error: 1.9909e-08\n",
      "Epoch 30/100\n",
      "4073/4073 [==============================] - 61s 15ms/step - loss: 1.1332e-04 - mean_squared_error: 2.0787e-08 - val_loss: 1.1260e-04 - val_mean_squared_error: 2.0806e-08\n",
      "Epoch 31/100\n",
      "4073/4073 [==============================] - 62s 15ms/step - loss: 1.1360e-04 - mean_squared_error: 2.0843e-08 - val_loss: 1.0943e-04 - val_mean_squared_error: 1.9293e-08\n",
      "Epoch 32/100\n",
      "4073/4073 [==============================] - 62s 15ms/step - loss: 1.1300e-04 - mean_squared_error: 2.0678e-08 - val_loss: 1.1139e-04 - val_mean_squared_error: 1.9738e-08\n",
      "Epoch 33/100\n",
      "4073/4073 [==============================] - 62s 15ms/step - loss: 1.1342e-04 - mean_squared_error: 2.0860e-08 - val_loss: 1.0935e-04 - val_mean_squared_error: 1.9705e-08\n",
      "Epoch 34/100\n",
      "4073/4073 [==============================] - 62s 15ms/step - loss: 1.1310e-04 - mean_squared_error: 2.0756e-08 - val_loss: 1.1436e-04 - val_mean_squared_error: 2.1639e-08\n",
      "Epoch 35/100\n",
      "4073/4073 [==============================] - 62s 15ms/step - loss: 1.1320e-04 - mean_squared_error: 2.0778e-08 - val_loss: 1.0656e-04 - val_mean_squared_error: 1.8811e-08\n",
      "Epoch 36/100\n",
      "4073/4073 [==============================] - 64s 16ms/step - loss: 1.1321e-04 - mean_squared_error: 2.0725e-08 - val_loss: 1.1008e-04 - val_mean_squared_error: 1.9615e-08\n",
      "Epoch 37/100\n",
      "4073/4073 [==============================] - 61s 15ms/step - loss: 1.1325e-04 - mean_squared_error: 2.0736e-08 - val_loss: 1.1643e-04 - val_mean_squared_error: 2.1330e-08\n",
      "Epoch 38/100\n",
      "4073/4073 [==============================] - 62s 15ms/step - loss: 1.1298e-04 - mean_squared_error: 2.0703e-08 - val_loss: 1.1493e-04 - val_mean_squared_error: 2.1234e-08\n",
      "Epoch 39/100\n",
      "4073/4073 [==============================] - 63s 15ms/step - loss: 1.1252e-04 - mean_squared_error: 2.0571e-08 - val_loss: 1.1089e-04 - val_mean_squared_error: 1.9473e-08\n",
      "Epoch 40/100\n",
      "4073/4073 [==============================] - 61s 15ms/step - loss: 1.1278e-04 - mean_squared_error: 2.0636e-08 - val_loss: 1.1014e-04 - val_mean_squared_error: 1.9946e-08\n",
      "Epoch 41/100\n",
      "4073/4073 [==============================] - 62s 15ms/step - loss: 1.1262e-04 - mean_squared_error: 2.0591e-08 - val_loss: 1.1639e-04 - val_mean_squared_error: 2.2007e-08\n",
      "Epoch 42/100\n"
     ]
    },
    {
     "name": "stdout",
     "output_type": "stream",
     "text": [
      "4073/4073 [==============================] - 61s 15ms/step - loss: 1.1330e-04 - mean_squared_error: 2.0773e-08 - val_loss: 1.1156e-04 - val_mean_squared_error: 2.0088e-08\n",
      "Epoch 43/100\n",
      "4073/4073 [==============================] - 62s 15ms/step - loss: 1.1352e-04 - mean_squared_error: 2.0834e-08 - val_loss: 1.1471e-04 - val_mean_squared_error: 2.1563e-08\n",
      "Epoch 44/100\n",
      "4073/4073 [==============================] - 62s 15ms/step - loss: 1.1301e-04 - mean_squared_error: 2.0717e-08 - val_loss: 1.0987e-04 - val_mean_squared_error: 1.9470e-08\n",
      "Epoch 45/100\n",
      "4073/4073 [==============================] - 62s 15ms/step - loss: 1.1346e-04 - mean_squared_error: 2.0838e-08 - val_loss: 1.0799e-04 - val_mean_squared_error: 1.9267e-08\n",
      "Epoch 46/100\n",
      "4073/4073 [==============================] - 61s 15ms/step - loss: 1.1327e-04 - mean_squared_error: 2.0749e-08 - val_loss: 1.1107e-04 - val_mean_squared_error: 2.0109e-08\n",
      "Epoch 47/100\n",
      "4073/4073 [==============================] - 62s 15ms/step - loss: 1.1391e-04 - mean_squared_error: 2.0995e-08 - val_loss: 1.1929e-04 - val_mean_squared_error: 2.2397e-08\n",
      "Epoch 48/100\n",
      "4073/4073 [==============================] - 61s 15ms/step - loss: 1.1429e-04 - mean_squared_error: 2.1124e-08 - val_loss: 1.1891e-04 - val_mean_squared_error: 2.3220e-08\n",
      "Epoch 49/100\n",
      "4073/4073 [==============================] - 60s 15ms/step - loss: 1.1383e-04 - mean_squared_error: 2.1018e-08 - val_loss: 1.1680e-04 - val_mean_squared_error: 2.1816e-08\n",
      "Epoch 50/100\n",
      "4073/4073 [==============================] - 40s 10ms/step - loss: 1.1341e-04 - mean_squared_error: 2.0827e-08 - val_loss: 1.1616e-04 - val_mean_squared_error: 2.2133e-08\n",
      "Epoch 51/100\n",
      "4073/4073 [==============================] - 32s 8ms/step - loss: 1.1373e-04 - mean_squared_error: 2.0911e-08 - val_loss: 1.1847e-04 - val_mean_squared_error: 2.2715e-08\n",
      "Epoch 52/100\n",
      "4073/4073 [==============================] - 32s 8ms/step - loss: 1.1362e-04 - mean_squared_error: 2.0920e-08 - val_loss: 1.1192e-04 - val_mean_squared_error: 2.0094e-08\n",
      "Epoch 53/100\n",
      "4073/4073 [==============================] - 34s 8ms/step - loss: 1.1399e-04 - mean_squared_error: 2.1036e-08 - val_loss: 1.1296e-04 - val_mean_squared_error: 1.9856e-08\n",
      "Epoch 54/100\n",
      "4073/4073 [==============================] - 32s 8ms/step - loss: 1.1332e-04 - mean_squared_error: 2.0791e-08 - val_loss: 1.1943e-04 - val_mean_squared_error: 2.2605e-08\n",
      "Epoch 55/100\n",
      "4073/4073 [==============================] - 34s 8ms/step - loss: 1.1347e-04 - mean_squared_error: 2.0824e-08 - val_loss: 1.1504e-04 - val_mean_squared_error: 2.1489e-08\n",
      "Epoch 56/100\n",
      "4073/4073 [==============================] - 34s 8ms/step - loss: 1.1340e-04 - mean_squared_error: 2.0845e-08 - val_loss: 1.0923e-04 - val_mean_squared_error: 1.9359e-08\n",
      "Epoch 57/100\n",
      "4073/4073 [==============================] - 33s 8ms/step - loss: 1.1334e-04 - mean_squared_error: 2.0809e-08 - val_loss: 1.1739e-04 - val_mean_squared_error: 2.1518e-08\n",
      "Epoch 58/100\n",
      "4073/4073 [==============================] - 34s 8ms/step - loss: 1.1375e-04 - mean_squared_error: 2.0966e-08 - val_loss: 1.1339e-04 - val_mean_squared_error: 2.1095e-08\n",
      "Epoch 59/100\n",
      "4073/4073 [==============================] - 34s 8ms/step - loss: 1.1327e-04 - mean_squared_error: 2.0784e-08 - val_loss: 1.1394e-04 - val_mean_squared_error: 2.1348e-08\n",
      "Epoch 60/100\n",
      "4073/4073 [==============================] - 36s 9ms/step - loss: 1.1386e-04 - mean_squared_error: 2.0987e-08 - val_loss: 1.0588e-04 - val_mean_squared_error: 1.8572e-08\n",
      "Epoch 61/100\n",
      "4073/4073 [==============================] - 32s 8ms/step - loss: 1.1354e-04 - mean_squared_error: 2.0838e-08 - val_loss: 1.1089e-04 - val_mean_squared_error: 1.9954e-08\n",
      "Epoch 62/100\n",
      "4073/4073 [==============================] - 47s 11ms/step - loss: 1.1382e-04 - mean_squared_error: 2.1004e-08 - val_loss: 1.1428e-04 - val_mean_squared_error: 2.0795e-08\n",
      "Epoch 63/100\n",
      "4073/4073 [==============================] - 51s 12ms/step - loss: 1.1373e-04 - mean_squared_error: 2.0941e-08 - val_loss: 1.1165e-04 - val_mean_squared_error: 2.0211e-08\n",
      "Epoch 64/100\n",
      "4073/4073 [==============================] - 77s 19ms/step - loss: 1.1424e-04 - mean_squared_error: 2.1039e-08 - val_loss: 1.1329e-04 - val_mean_squared_error: 2.0812e-08\n",
      "Epoch 65/100\n",
      "4073/4073 [==============================] - 92s 23ms/step - loss: 1.1367e-04 - mean_squared_error: 2.0920e-08 - val_loss: 1.1427e-04 - val_mean_squared_error: 2.0724e-08\n",
      "Epoch 66/100\n",
      "4073/4073 [==============================] - 92s 23ms/step - loss: 1.1350e-04 - mean_squared_error: 2.0835e-08 - val_loss: 1.1162e-04 - val_mean_squared_error: 1.9947e-08\n",
      "Epoch 67/100\n",
      "4073/4073 [==============================] - 94s 23ms/step - loss: 1.1368e-04 - mean_squared_error: 2.0908e-08 - val_loss: 1.1067e-04 - val_mean_squared_error: 1.9676e-08\n",
      "Epoch 68/100\n",
      "4073/4073 [==============================] - 95s 23ms/step - loss: 1.1331e-04 - mean_squared_error: 2.0779e-08 - val_loss: 1.2047e-04 - val_mean_squared_error: 2.3864e-08\n",
      "Epoch 69/100\n",
      "4073/4073 [==============================] - 96s 23ms/step - loss: 1.1421e-04 - mean_squared_error: 2.1093e-08 - val_loss: 1.1157e-04 - val_mean_squared_error: 2.0468e-08\n",
      "Epoch 70/100\n",
      "4073/4073 [==============================] - 94s 23ms/step - loss: 1.1392e-04 - mean_squared_error: 2.1025e-08 - val_loss: 1.1114e-04 - val_mean_squared_error: 2.1096e-08\n",
      "Epoch 71/100\n",
      "4073/4073 [==============================] - 96s 24ms/step - loss: 1.1389e-04 - mean_squared_error: 2.1003e-08 - val_loss: 1.1787e-04 - val_mean_squared_error: 2.1701e-08\n",
      "Epoch 72/100\n",
      "4073/4073 [==============================] - 96s 24ms/step - loss: 1.1334e-04 - mean_squared_error: 2.0794e-08 - val_loss: 1.1317e-04 - val_mean_squared_error: 2.1083e-08\n",
      "Epoch 73/100\n",
      "4073/4073 [==============================] - 98s 24ms/step - loss: 1.1360e-04 - mean_squared_error: 2.0866e-08 - val_loss: 1.1218e-04 - val_mean_squared_error: 2.0110e-08\n",
      "Epoch 74/100\n",
      "4073/4073 [==============================] - 97s 24ms/step - loss: 1.1356e-04 - mean_squared_error: 2.0923e-08 - val_loss: 1.1356e-04 - val_mean_squared_error: 2.0855e-08\n",
      "Epoch 75/100\n",
      "1889/4073 [============>.................] - ETA: 49s - loss: 1.1365e-04 - mean_squared_error: 2.0967e-08"
     ]
    },
    {
     "ename": "KeyboardInterrupt",
     "evalue": "",
     "output_type": "error",
     "traceback": [
      "\u001b[1;31m---------------------------------------------------------------------------\u001b[0m",
      "\u001b[1;31mKeyboardInterrupt\u001b[0m                         Traceback (most recent call last)",
      "Input \u001b[1;32mIn [39]\u001b[0m, in \u001b[0;36m<cell line: 1>\u001b[1;34m()\u001b[0m\n\u001b[1;32m----> 1\u001b[0m \u001b[43mtuner\u001b[49m\u001b[38;5;241;43m.\u001b[39;49m\u001b[43msearch\u001b[49m\u001b[43m(\u001b[49m\u001b[43mx_train\u001b[49m\u001b[43m,\u001b[49m\u001b[43m \u001b[49m\u001b[43my_train\u001b[49m\u001b[43m,\u001b[49m\n\u001b[0;32m      2\u001b[0m \u001b[43m             \u001b[49m\u001b[43mepochs\u001b[49m\u001b[38;5;241;43m=\u001b[39;49m\u001b[38;5;241;43m100\u001b[39;49m\u001b[43m,\u001b[49m\n\u001b[0;32m      3\u001b[0m \u001b[43m             \u001b[49m\u001b[43mvalidation_data\u001b[49m\u001b[38;5;241;43m=\u001b[39;49m\u001b[43m(\u001b[49m\u001b[43mx_test\u001b[49m\u001b[43m,\u001b[49m\u001b[43m \u001b[49m\u001b[43my_test\u001b[49m\u001b[43m)\u001b[49m\u001b[43m)\u001b[49m\n",
      "File \u001b[1;32m~\\Anaconda3\\lib\\site-packages\\keras_tuner\\engine\\base_tuner.py:183\u001b[0m, in \u001b[0;36mBaseTuner.search\u001b[1;34m(self, *fit_args, **fit_kwargs)\u001b[0m\n\u001b[0;32m    180\u001b[0m     \u001b[38;5;28;01mcontinue\u001b[39;00m\n\u001b[0;32m    182\u001b[0m \u001b[38;5;28mself\u001b[39m\u001b[38;5;241m.\u001b[39mon_trial_begin(trial)\n\u001b[1;32m--> 183\u001b[0m results \u001b[38;5;241m=\u001b[39m \u001b[38;5;28mself\u001b[39m\u001b[38;5;241m.\u001b[39mrun_trial(trial, \u001b[38;5;241m*\u001b[39mfit_args, \u001b[38;5;241m*\u001b[39m\u001b[38;5;241m*\u001b[39mfit_kwargs)\n\u001b[0;32m    184\u001b[0m \u001b[38;5;66;03m# `results` is None indicates user updated oracle in `run_trial()`.\u001b[39;00m\n\u001b[0;32m    185\u001b[0m \u001b[38;5;28;01mif\u001b[39;00m results \u001b[38;5;129;01mis\u001b[39;00m \u001b[38;5;28;01mNone\u001b[39;00m:\n",
      "File \u001b[1;32m~\\Anaconda3\\lib\\site-packages\\keras_tuner\\engine\\tuner.py:295\u001b[0m, in \u001b[0;36mTuner.run_trial\u001b[1;34m(self, trial, *args, **kwargs)\u001b[0m\n\u001b[0;32m    293\u001b[0m     callbacks\u001b[38;5;241m.\u001b[39mappend(model_checkpoint)\n\u001b[0;32m    294\u001b[0m     copied_kwargs[\u001b[38;5;124m\"\u001b[39m\u001b[38;5;124mcallbacks\u001b[39m\u001b[38;5;124m\"\u001b[39m] \u001b[38;5;241m=\u001b[39m callbacks\n\u001b[1;32m--> 295\u001b[0m     obj_value \u001b[38;5;241m=\u001b[39m \u001b[38;5;28mself\u001b[39m\u001b[38;5;241m.\u001b[39m_build_and_fit_model(trial, \u001b[38;5;241m*\u001b[39margs, \u001b[38;5;241m*\u001b[39m\u001b[38;5;241m*\u001b[39mcopied_kwargs)\n\u001b[0;32m    297\u001b[0m     histories\u001b[38;5;241m.\u001b[39mappend(obj_value)\n\u001b[0;32m    298\u001b[0m \u001b[38;5;28;01mreturn\u001b[39;00m histories\n",
      "File \u001b[1;32m~\\Anaconda3\\lib\\site-packages\\keras_tuner\\engine\\tuner.py:222\u001b[0m, in \u001b[0;36mTuner._build_and_fit_model\u001b[1;34m(self, trial, *args, **kwargs)\u001b[0m\n\u001b[0;32m    220\u001b[0m hp \u001b[38;5;241m=\u001b[39m trial\u001b[38;5;241m.\u001b[39mhyperparameters\n\u001b[0;32m    221\u001b[0m model \u001b[38;5;241m=\u001b[39m \u001b[38;5;28mself\u001b[39m\u001b[38;5;241m.\u001b[39m_try_build(hp)\n\u001b[1;32m--> 222\u001b[0m results \u001b[38;5;241m=\u001b[39m \u001b[38;5;28mself\u001b[39m\u001b[38;5;241m.\u001b[39mhypermodel\u001b[38;5;241m.\u001b[39mfit(hp, model, \u001b[38;5;241m*\u001b[39margs, \u001b[38;5;241m*\u001b[39m\u001b[38;5;241m*\u001b[39mkwargs)\n\u001b[0;32m    223\u001b[0m tuner_utils\u001b[38;5;241m.\u001b[39mvalidate_trial_results(\n\u001b[0;32m    224\u001b[0m     results, \u001b[38;5;28mself\u001b[39m\u001b[38;5;241m.\u001b[39moracle\u001b[38;5;241m.\u001b[39mobjective, \u001b[38;5;124m\"\u001b[39m\u001b[38;5;124mHyperModel.fit()\u001b[39m\u001b[38;5;124m\"\u001b[39m\n\u001b[0;32m    225\u001b[0m )\n\u001b[0;32m    226\u001b[0m \u001b[38;5;28;01mreturn\u001b[39;00m results\n",
      "File \u001b[1;32m~\\Anaconda3\\lib\\site-packages\\keras_tuner\\engine\\hypermodel.py:140\u001b[0m, in \u001b[0;36mHyperModel.fit\u001b[1;34m(self, hp, model, *args, **kwargs)\u001b[0m\n\u001b[0;32m    116\u001b[0m \u001b[38;5;28;01mdef\u001b[39;00m \u001b[38;5;21mfit\u001b[39m(\u001b[38;5;28mself\u001b[39m, hp, model, \u001b[38;5;241m*\u001b[39margs, \u001b[38;5;241m*\u001b[39m\u001b[38;5;241m*\u001b[39mkwargs):\n\u001b[0;32m    117\u001b[0m     \u001b[38;5;124;03m\"\"\"Train the model.\u001b[39;00m\n\u001b[0;32m    118\u001b[0m \n\u001b[0;32m    119\u001b[0m \u001b[38;5;124;03m    Args:\u001b[39;00m\n\u001b[1;32m   (...)\u001b[0m\n\u001b[0;32m    138\u001b[0m \u001b[38;5;124;03m        If return a float, it should be the `objective` value.\u001b[39;00m\n\u001b[0;32m    139\u001b[0m \u001b[38;5;124;03m    \"\"\"\u001b[39;00m\n\u001b[1;32m--> 140\u001b[0m     \u001b[38;5;28;01mreturn\u001b[39;00m model\u001b[38;5;241m.\u001b[39mfit(\u001b[38;5;241m*\u001b[39margs, \u001b[38;5;241m*\u001b[39m\u001b[38;5;241m*\u001b[39mkwargs)\n",
      "File \u001b[1;32m~\\Anaconda3\\lib\\site-packages\\keras\\utils\\traceback_utils.py:64\u001b[0m, in \u001b[0;36mfilter_traceback.<locals>.error_handler\u001b[1;34m(*args, **kwargs)\u001b[0m\n\u001b[0;32m     62\u001b[0m filtered_tb \u001b[38;5;241m=\u001b[39m \u001b[38;5;28;01mNone\u001b[39;00m\n\u001b[0;32m     63\u001b[0m \u001b[38;5;28;01mtry\u001b[39;00m:\n\u001b[1;32m---> 64\u001b[0m   \u001b[38;5;28;01mreturn\u001b[39;00m fn(\u001b[38;5;241m*\u001b[39margs, \u001b[38;5;241m*\u001b[39m\u001b[38;5;241m*\u001b[39mkwargs)\n\u001b[0;32m     65\u001b[0m \u001b[38;5;28;01mexcept\u001b[39;00m \u001b[38;5;167;01mException\u001b[39;00m \u001b[38;5;28;01mas\u001b[39;00m e:  \u001b[38;5;66;03m# pylint: disable=broad-except\u001b[39;00m\n\u001b[0;32m     66\u001b[0m   filtered_tb \u001b[38;5;241m=\u001b[39m _process_traceback_frames(e\u001b[38;5;241m.\u001b[39m__traceback__)\n",
      "File \u001b[1;32m~\\Anaconda3\\lib\\site-packages\\keras\\engine\\training.py:1409\u001b[0m, in \u001b[0;36mModel.fit\u001b[1;34m(self, x, y, batch_size, epochs, verbose, callbacks, validation_split, validation_data, shuffle, class_weight, sample_weight, initial_epoch, steps_per_epoch, validation_steps, validation_batch_size, validation_freq, max_queue_size, workers, use_multiprocessing)\u001b[0m\n\u001b[0;32m   1402\u001b[0m \u001b[38;5;28;01mwith\u001b[39;00m tf\u001b[38;5;241m.\u001b[39mprofiler\u001b[38;5;241m.\u001b[39mexperimental\u001b[38;5;241m.\u001b[39mTrace(\n\u001b[0;32m   1403\u001b[0m     \u001b[38;5;124m'\u001b[39m\u001b[38;5;124mtrain\u001b[39m\u001b[38;5;124m'\u001b[39m,\n\u001b[0;32m   1404\u001b[0m     epoch_num\u001b[38;5;241m=\u001b[39mepoch,\n\u001b[0;32m   1405\u001b[0m     step_num\u001b[38;5;241m=\u001b[39mstep,\n\u001b[0;32m   1406\u001b[0m     batch_size\u001b[38;5;241m=\u001b[39mbatch_size,\n\u001b[0;32m   1407\u001b[0m     _r\u001b[38;5;241m=\u001b[39m\u001b[38;5;241m1\u001b[39m):\n\u001b[0;32m   1408\u001b[0m   callbacks\u001b[38;5;241m.\u001b[39mon_train_batch_begin(step)\n\u001b[1;32m-> 1409\u001b[0m   tmp_logs \u001b[38;5;241m=\u001b[39m \u001b[38;5;28;43mself\u001b[39;49m\u001b[38;5;241;43m.\u001b[39;49m\u001b[43mtrain_function\u001b[49m\u001b[43m(\u001b[49m\u001b[43miterator\u001b[49m\u001b[43m)\u001b[49m\n\u001b[0;32m   1410\u001b[0m   \u001b[38;5;28;01mif\u001b[39;00m data_handler\u001b[38;5;241m.\u001b[39mshould_sync:\n\u001b[0;32m   1411\u001b[0m     context\u001b[38;5;241m.\u001b[39masync_wait()\n",
      "File \u001b[1;32m~\\Anaconda3\\lib\\site-packages\\tensorflow\\python\\util\\traceback_utils.py:150\u001b[0m, in \u001b[0;36mfilter_traceback.<locals>.error_handler\u001b[1;34m(*args, **kwargs)\u001b[0m\n\u001b[0;32m    148\u001b[0m filtered_tb \u001b[38;5;241m=\u001b[39m \u001b[38;5;28;01mNone\u001b[39;00m\n\u001b[0;32m    149\u001b[0m \u001b[38;5;28;01mtry\u001b[39;00m:\n\u001b[1;32m--> 150\u001b[0m   \u001b[38;5;28;01mreturn\u001b[39;00m fn(\u001b[38;5;241m*\u001b[39margs, \u001b[38;5;241m*\u001b[39m\u001b[38;5;241m*\u001b[39mkwargs)\n\u001b[0;32m    151\u001b[0m \u001b[38;5;28;01mexcept\u001b[39;00m \u001b[38;5;167;01mException\u001b[39;00m \u001b[38;5;28;01mas\u001b[39;00m e:\n\u001b[0;32m    152\u001b[0m   filtered_tb \u001b[38;5;241m=\u001b[39m _process_traceback_frames(e\u001b[38;5;241m.\u001b[39m__traceback__)\n",
      "File \u001b[1;32m~\\Anaconda3\\lib\\site-packages\\tensorflow\\python\\eager\\def_function.py:915\u001b[0m, in \u001b[0;36mFunction.__call__\u001b[1;34m(self, *args, **kwds)\u001b[0m\n\u001b[0;32m    912\u001b[0m compiler \u001b[38;5;241m=\u001b[39m \u001b[38;5;124m\"\u001b[39m\u001b[38;5;124mxla\u001b[39m\u001b[38;5;124m\"\u001b[39m \u001b[38;5;28;01mif\u001b[39;00m \u001b[38;5;28mself\u001b[39m\u001b[38;5;241m.\u001b[39m_jit_compile \u001b[38;5;28;01melse\u001b[39;00m \u001b[38;5;124m\"\u001b[39m\u001b[38;5;124mnonXla\u001b[39m\u001b[38;5;124m\"\u001b[39m\n\u001b[0;32m    914\u001b[0m \u001b[38;5;28;01mwith\u001b[39;00m OptionalXlaContext(\u001b[38;5;28mself\u001b[39m\u001b[38;5;241m.\u001b[39m_jit_compile):\n\u001b[1;32m--> 915\u001b[0m   result \u001b[38;5;241m=\u001b[39m \u001b[38;5;28mself\u001b[39m\u001b[38;5;241m.\u001b[39m_call(\u001b[38;5;241m*\u001b[39margs, \u001b[38;5;241m*\u001b[39m\u001b[38;5;241m*\u001b[39mkwds)\n\u001b[0;32m    917\u001b[0m new_tracing_count \u001b[38;5;241m=\u001b[39m \u001b[38;5;28mself\u001b[39m\u001b[38;5;241m.\u001b[39mexperimental_get_tracing_count()\n\u001b[0;32m    918\u001b[0m without_tracing \u001b[38;5;241m=\u001b[39m (tracing_count \u001b[38;5;241m==\u001b[39m new_tracing_count)\n",
      "File \u001b[1;32m~\\Anaconda3\\lib\\site-packages\\tensorflow\\python\\eager\\def_function.py:947\u001b[0m, in \u001b[0;36mFunction._call\u001b[1;34m(self, *args, **kwds)\u001b[0m\n\u001b[0;32m    944\u001b[0m   \u001b[38;5;28mself\u001b[39m\u001b[38;5;241m.\u001b[39m_lock\u001b[38;5;241m.\u001b[39mrelease()\n\u001b[0;32m    945\u001b[0m   \u001b[38;5;66;03m# In this case we have created variables on the first call, so we run the\u001b[39;00m\n\u001b[0;32m    946\u001b[0m   \u001b[38;5;66;03m# defunned version which is guaranteed to never create variables.\u001b[39;00m\n\u001b[1;32m--> 947\u001b[0m   \u001b[38;5;28;01mreturn\u001b[39;00m \u001b[38;5;28mself\u001b[39m\u001b[38;5;241m.\u001b[39m_stateless_fn(\u001b[38;5;241m*\u001b[39margs, \u001b[38;5;241m*\u001b[39m\u001b[38;5;241m*\u001b[39mkwds)  \u001b[38;5;66;03m# pylint: disable=not-callable\u001b[39;00m\n\u001b[0;32m    948\u001b[0m \u001b[38;5;28;01melif\u001b[39;00m \u001b[38;5;28mself\u001b[39m\u001b[38;5;241m.\u001b[39m_stateful_fn \u001b[38;5;129;01mis\u001b[39;00m \u001b[38;5;129;01mnot\u001b[39;00m \u001b[38;5;28;01mNone\u001b[39;00m:\n\u001b[0;32m    949\u001b[0m   \u001b[38;5;66;03m# Release the lock early so that multiple threads can perform the call\u001b[39;00m\n\u001b[0;32m    950\u001b[0m   \u001b[38;5;66;03m# in parallel.\u001b[39;00m\n\u001b[0;32m    951\u001b[0m   \u001b[38;5;28mself\u001b[39m\u001b[38;5;241m.\u001b[39m_lock\u001b[38;5;241m.\u001b[39mrelease()\n",
      "File \u001b[1;32m~\\Anaconda3\\lib\\site-packages\\tensorflow\\python\\eager\\function.py:2453\u001b[0m, in \u001b[0;36mFunction.__call__\u001b[1;34m(self, *args, **kwargs)\u001b[0m\n\u001b[0;32m   2450\u001b[0m \u001b[38;5;28;01mwith\u001b[39;00m \u001b[38;5;28mself\u001b[39m\u001b[38;5;241m.\u001b[39m_lock:\n\u001b[0;32m   2451\u001b[0m   (graph_function,\n\u001b[0;32m   2452\u001b[0m    filtered_flat_args) \u001b[38;5;241m=\u001b[39m \u001b[38;5;28mself\u001b[39m\u001b[38;5;241m.\u001b[39m_maybe_define_function(args, kwargs)\n\u001b[1;32m-> 2453\u001b[0m \u001b[38;5;28;01mreturn\u001b[39;00m \u001b[43mgraph_function\u001b[49m\u001b[38;5;241;43m.\u001b[39;49m\u001b[43m_call_flat\u001b[49m\u001b[43m(\u001b[49m\n\u001b[0;32m   2454\u001b[0m \u001b[43m    \u001b[49m\u001b[43mfiltered_flat_args\u001b[49m\u001b[43m,\u001b[49m\u001b[43m \u001b[49m\u001b[43mcaptured_inputs\u001b[49m\u001b[38;5;241;43m=\u001b[39;49m\u001b[43mgraph_function\u001b[49m\u001b[38;5;241;43m.\u001b[39;49m\u001b[43mcaptured_inputs\u001b[49m\u001b[43m)\u001b[49m\n",
      "File \u001b[1;32m~\\Anaconda3\\lib\\site-packages\\tensorflow\\python\\eager\\function.py:1860\u001b[0m, in \u001b[0;36mConcreteFunction._call_flat\u001b[1;34m(self, args, captured_inputs, cancellation_manager)\u001b[0m\n\u001b[0;32m   1856\u001b[0m possible_gradient_type \u001b[38;5;241m=\u001b[39m gradients_util\u001b[38;5;241m.\u001b[39mPossibleTapeGradientTypes(args)\n\u001b[0;32m   1857\u001b[0m \u001b[38;5;28;01mif\u001b[39;00m (possible_gradient_type \u001b[38;5;241m==\u001b[39m gradients_util\u001b[38;5;241m.\u001b[39mPOSSIBLE_GRADIENT_TYPES_NONE\n\u001b[0;32m   1858\u001b[0m     \u001b[38;5;129;01mand\u001b[39;00m executing_eagerly):\n\u001b[0;32m   1859\u001b[0m   \u001b[38;5;66;03m# No tape is watching; skip to running the function.\u001b[39;00m\n\u001b[1;32m-> 1860\u001b[0m   \u001b[38;5;28;01mreturn\u001b[39;00m \u001b[38;5;28mself\u001b[39m\u001b[38;5;241m.\u001b[39m_build_call_outputs(\u001b[38;5;28;43mself\u001b[39;49m\u001b[38;5;241;43m.\u001b[39;49m\u001b[43m_inference_function\u001b[49m\u001b[38;5;241;43m.\u001b[39;49m\u001b[43mcall\u001b[49m\u001b[43m(\u001b[49m\n\u001b[0;32m   1861\u001b[0m \u001b[43m      \u001b[49m\u001b[43mctx\u001b[49m\u001b[43m,\u001b[49m\u001b[43m \u001b[49m\u001b[43margs\u001b[49m\u001b[43m,\u001b[49m\u001b[43m \u001b[49m\u001b[43mcancellation_manager\u001b[49m\u001b[38;5;241;43m=\u001b[39;49m\u001b[43mcancellation_manager\u001b[49m\u001b[43m)\u001b[49m)\n\u001b[0;32m   1862\u001b[0m forward_backward \u001b[38;5;241m=\u001b[39m \u001b[38;5;28mself\u001b[39m\u001b[38;5;241m.\u001b[39m_select_forward_and_backward_functions(\n\u001b[0;32m   1863\u001b[0m     args,\n\u001b[0;32m   1864\u001b[0m     possible_gradient_type,\n\u001b[0;32m   1865\u001b[0m     executing_eagerly)\n\u001b[0;32m   1866\u001b[0m forward_function, args_with_tangents \u001b[38;5;241m=\u001b[39m forward_backward\u001b[38;5;241m.\u001b[39mforward()\n",
      "File \u001b[1;32m~\\Anaconda3\\lib\\site-packages\\tensorflow\\python\\eager\\function.py:497\u001b[0m, in \u001b[0;36m_EagerDefinedFunction.call\u001b[1;34m(self, ctx, args, cancellation_manager)\u001b[0m\n\u001b[0;32m    495\u001b[0m \u001b[38;5;28;01mwith\u001b[39;00m _InterpolateFunctionError(\u001b[38;5;28mself\u001b[39m):\n\u001b[0;32m    496\u001b[0m   \u001b[38;5;28;01mif\u001b[39;00m cancellation_manager \u001b[38;5;129;01mis\u001b[39;00m \u001b[38;5;28;01mNone\u001b[39;00m:\n\u001b[1;32m--> 497\u001b[0m     outputs \u001b[38;5;241m=\u001b[39m \u001b[43mexecute\u001b[49m\u001b[38;5;241;43m.\u001b[39;49m\u001b[43mexecute\u001b[49m\u001b[43m(\u001b[49m\n\u001b[0;32m    498\u001b[0m \u001b[43m        \u001b[49m\u001b[38;5;28;43mstr\u001b[39;49m\u001b[43m(\u001b[49m\u001b[38;5;28;43mself\u001b[39;49m\u001b[38;5;241;43m.\u001b[39;49m\u001b[43msignature\u001b[49m\u001b[38;5;241;43m.\u001b[39;49m\u001b[43mname\u001b[49m\u001b[43m)\u001b[49m\u001b[43m,\u001b[49m\n\u001b[0;32m    499\u001b[0m \u001b[43m        \u001b[49m\u001b[43mnum_outputs\u001b[49m\u001b[38;5;241;43m=\u001b[39;49m\u001b[38;5;28;43mself\u001b[39;49m\u001b[38;5;241;43m.\u001b[39;49m\u001b[43m_num_outputs\u001b[49m\u001b[43m,\u001b[49m\n\u001b[0;32m    500\u001b[0m \u001b[43m        \u001b[49m\u001b[43minputs\u001b[49m\u001b[38;5;241;43m=\u001b[39;49m\u001b[43margs\u001b[49m\u001b[43m,\u001b[49m\n\u001b[0;32m    501\u001b[0m \u001b[43m        \u001b[49m\u001b[43mattrs\u001b[49m\u001b[38;5;241;43m=\u001b[39;49m\u001b[43mattrs\u001b[49m\u001b[43m,\u001b[49m\n\u001b[0;32m    502\u001b[0m \u001b[43m        \u001b[49m\u001b[43mctx\u001b[49m\u001b[38;5;241;43m=\u001b[39;49m\u001b[43mctx\u001b[49m\u001b[43m)\u001b[49m\n\u001b[0;32m    503\u001b[0m   \u001b[38;5;28;01melse\u001b[39;00m:\n\u001b[0;32m    504\u001b[0m     outputs \u001b[38;5;241m=\u001b[39m execute\u001b[38;5;241m.\u001b[39mexecute_with_cancellation(\n\u001b[0;32m    505\u001b[0m         \u001b[38;5;28mstr\u001b[39m(\u001b[38;5;28mself\u001b[39m\u001b[38;5;241m.\u001b[39msignature\u001b[38;5;241m.\u001b[39mname),\n\u001b[0;32m    506\u001b[0m         num_outputs\u001b[38;5;241m=\u001b[39m\u001b[38;5;28mself\u001b[39m\u001b[38;5;241m.\u001b[39m_num_outputs,\n\u001b[1;32m   (...)\u001b[0m\n\u001b[0;32m    509\u001b[0m         ctx\u001b[38;5;241m=\u001b[39mctx,\n\u001b[0;32m    510\u001b[0m         cancellation_manager\u001b[38;5;241m=\u001b[39mcancellation_manager)\n",
      "File \u001b[1;32m~\\Anaconda3\\lib\\site-packages\\tensorflow\\python\\eager\\execute.py:54\u001b[0m, in \u001b[0;36mquick_execute\u001b[1;34m(op_name, num_outputs, inputs, attrs, ctx, name)\u001b[0m\n\u001b[0;32m     52\u001b[0m \u001b[38;5;28;01mtry\u001b[39;00m:\n\u001b[0;32m     53\u001b[0m   ctx\u001b[38;5;241m.\u001b[39mensure_initialized()\n\u001b[1;32m---> 54\u001b[0m   tensors \u001b[38;5;241m=\u001b[39m \u001b[43mpywrap_tfe\u001b[49m\u001b[38;5;241;43m.\u001b[39;49m\u001b[43mTFE_Py_Execute\u001b[49m\u001b[43m(\u001b[49m\u001b[43mctx\u001b[49m\u001b[38;5;241;43m.\u001b[39;49m\u001b[43m_handle\u001b[49m\u001b[43m,\u001b[49m\u001b[43m \u001b[49m\u001b[43mdevice_name\u001b[49m\u001b[43m,\u001b[49m\u001b[43m \u001b[49m\u001b[43mop_name\u001b[49m\u001b[43m,\u001b[49m\n\u001b[0;32m     55\u001b[0m \u001b[43m                                      \u001b[49m\u001b[43minputs\u001b[49m\u001b[43m,\u001b[49m\u001b[43m \u001b[49m\u001b[43mattrs\u001b[49m\u001b[43m,\u001b[49m\u001b[43m \u001b[49m\u001b[43mnum_outputs\u001b[49m\u001b[43m)\u001b[49m\n\u001b[0;32m     56\u001b[0m \u001b[38;5;28;01mexcept\u001b[39;00m core\u001b[38;5;241m.\u001b[39m_NotOkStatusException \u001b[38;5;28;01mas\u001b[39;00m e:\n\u001b[0;32m     57\u001b[0m   \u001b[38;5;28;01mif\u001b[39;00m name \u001b[38;5;129;01mis\u001b[39;00m \u001b[38;5;129;01mnot\u001b[39;00m \u001b[38;5;28;01mNone\u001b[39;00m:\n",
      "\u001b[1;31mKeyboardInterrupt\u001b[0m: "
     ]
    }
   ],
   "source": [
    "tuner.search(x_train, y_train,\n",
    "             epochs=100,\n",
    "             validation_data=(x_test, y_test))"
   ]
  },
  {
   "cell_type": "code",
   "execution_count": null,
   "id": "b4016d8a",
   "metadata": {},
   "outputs": [],
   "source": [
    "tunes.result_summary()"
   ]
  },
  {
   "cell_type": "code",
   "execution_count": null,
   "id": "b7eef0c4",
   "metadata": {},
   "outputs": [],
   "source": []
  },
  {
   "cell_type": "code",
   "execution_count": 11,
   "id": "2c4c5c28",
   "metadata": {},
   "outputs": [
    {
     "name": "stdout",
     "output_type": "stream",
     "text": [
      "906/906 [==============================] - 2s 2ms/step\n"
     ]
    },
    {
     "data": {
      "text/plain": [
       "0.6543499371097048"
      ]
     },
     "execution_count": 11,
     "metadata": {},
     "output_type": "execute_result"
    }
   ],
   "source": [
    "y_pred = ann1.predict(x_test)\n",
    "y_pred = sc.inverse_transform(y_pred)\n",
    "y_actual = sc.inverse_transform(y_test)\n",
    "from sklearn.metrics import r2_score,mean_absolute_error,mean_squared_error\n",
    "r2 = r2_score(y_actual,y_pred)\n",
    "r2"
   ]
  },
  {
   "cell_type": "code",
   "execution_count": 12,
   "id": "d4dd151f",
   "metadata": {},
   "outputs": [
    {
     "data": {
      "text/plain": [
       "(1089,)"
      ]
     },
     "execution_count": 12,
     "metadata": {},
     "output_type": "execute_result"
    }
   ],
   "source": [
    "np.shape(y_pred[0,:])"
   ]
  },
  {
   "cell_type": "code",
   "execution_count": 13,
   "id": "ad4c8790",
   "metadata": {},
   "outputs": [
    {
     "data": {
      "text/plain": [
       "<matplotlib.image.AxesImage at 0x1da6a08a4c0>"
      ]
     },
     "execution_count": 13,
     "metadata": {},
     "output_type": "execute_result"
    },
    {
     "data": {
      "image/png": "[encoded data removed]",
      "text/plain": [
       "<Figure size 432x288 with 1 Axes>"
      ]
     },
     "metadata": {
      "needs_background": "light"
     },
     "output_type": "display_data"
    }
   ],
   "source": [
    "a = np.reshape(y_pred[0,:],(33,33))\n",
    "plt.imshow(a)"
   ]
  },
  {
   "cell_type": "code",
   "execution_count": 14,
   "id": "36fa7ed1",
   "metadata": {},
   "outputs": [
    {
     "data": {
      "text/plain": [
       "<matplotlib.image.AxesImage at 0x1db20f1b5e0>"
      ]
     },
     "execution_count": 14,
     "metadata": {},
     "output_type": "execute_result"
    },
    {
     "data": {
      "image/png": "[encoded data removed]",
      "text/plain": [
       "<Figure size 432x288 with 1 Axes>"
      ]
     },
     "metadata": {
      "needs_background": "light"
     },
     "output_type": "display_data"
    }
   ],
   "source": [
    "b = np.reshape(y_actual[0,:],(33,33))\n",
    "plt.imshow(b)"
   ]
  },
  {
   "cell_type": "code",
   "execution_count": null,
   "id": "65d14d4e",
   "metadata": {},
   "outputs": [],
   "source": [
    "def build_model(hp):\n",
    "    model = keras.Sequential()\n",
    "    for i in range(hp.Int('num_layers', 2, 20)):\n",
    "        model.add(layers.Dense(units=hp.Int('units_' + str(i),\n",
    "                                            min_value=32,\n",
    "                                            max_value=512,\n",
    "                                            step=32),\n",
    "                               activation='relu'))\n",
    "    model.add(layers.Dense(1, activation='linear'))\n",
    "    model.compile(\n",
    "        optimizer=keras.optimizers.Adam(\n",
    "            hp.Choice('learning_rate', [1e-2, 1e-3, 1e-4])),\n",
    "        loss='mean_absolute_error',\n",
    "        metrics=['mean_absolute_error'])\n",
    "    return model"
   ]
  },
  {
   "cell_type": "code",
   "execution_count": null,
   "id": "2b8b9536",
   "metadata": {},
   "outputs": [],
   "source": []
  }
 ],
 "metadata": {
  "kernelspec": {
   "display_name": "Python 3 (ipykernel)",
   "language": "python",
   "name": "python3"
  },
  "language_info": {
   "codemirror_mode": {
    "name": "ipython",
    "version": 3
   },
   "file_extension": ".py",
   "mimetype": "text/x-python",
   "name": "python",
   "nbconvert_exporter": "python",
   "pygments_lexer": "ipython3",
   "version": "3.9.12"
  }
 },
 "nbformat": 4,
 "nbformat_minor": 5
}
