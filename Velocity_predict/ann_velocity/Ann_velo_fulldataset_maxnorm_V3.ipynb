{
 "cells": [
  {
   "cell_type": "code",
   "execution_count": 1,
   "id": "f698cecb",
   "metadata": {},
   "outputs": [
    {
     "name": "stdout",
     "output_type": "stream",
     "text": [
      "Requirement already satisfied: tensorflow_addons in c:\\users\\ssinghai\\anaconda3\\envs\\tensorflow-gpu\\lib\\site-packages (0.17.1)\n",
      "Requirement already satisfied: typeguard>=2.7 in c:\\users\\ssinghai\\anaconda3\\envs\\tensorflow-gpu\\lib\\site-packages (from tensorflow_addons) (2.13.3)\n",
      "Requirement already satisfied: packaging in c:\\users\\ssinghai\\anaconda3\\envs\\tensorflow-gpu\\lib\\site-packages (from tensorflow_addons) (20.9)\n",
      "Requirement already satisfied: pyparsing>=2.0.2 in c:\\users\\ssinghai\\anaconda3\\envs\\tensorflow-gpu\\lib\\site-packages (from packaging->tensorflow_addons) (3.0.9)\n"
     ]
    }
   ],
   "source": [
    "import pandas as pd\n",
    "import numpy as np\n",
    "import matplotlib.pyplot as plt\n",
    "import tensorflow as tf\n",
    "from tensorflow import keras\n",
    "from tensorflow.keras.models import Sequential\n",
    "from sklearn.datasets import make_blobs\n",
    "from sklearn.model_selection import train_test_split\n",
    "from sklearn.preprocessing import MinMaxScaler\n",
    "from sklearn.linear_model import LogisticRegression\n",
    "from pickle import dump\n",
    "!pip install tensorflow_addons\n",
    "import tensorflow_addons as tfa"
   ]
  },
  {
   "cell_type": "code",
   "execution_count": 2,
   "id": "6be8c8cc",
   "metadata": {},
   "outputs": [
    {
     "name": "stdout",
     "output_type": "stream",
     "text": [
      "Num GPUs Available:  1\n"
     ]
    }
   ],
   "source": [
    "import tensorflow as tf\n",
    "#sess = tf.Session(config=tf.ConfigProto(log_device_placement=True))\n",
    "print(\"Num GPUs Available: \", len(tf.config.list_physical_devices('GPU')))"
   ]
  },
  {
   "cell_type": "code",
   "execution_count": 3,
   "id": "6fee37a9",
   "metadata": {},
   "outputs": [],
   "source": [
    "#Importing Input data\n",
    "data_cohesion = np.load('Inputs/4ft_cohesion.npy')\n",
    "data_friction = np.load('Inputs/4ft_friction.npy')\n",
    "data_poly = np.load('Inputs/4ft_poly_feature.npy')\n",
    "data_watertable = np.load('Inputs/4ft_water_table.npy')\n",
    "data_velo = np.load(\"Targets/4ft_velocity_plots.npy\")\n",
    "data_watertable = np.squeeze(data_watertable)"
   ]
  },
  {
   "cell_type": "code",
   "execution_count": 4,
   "id": "a5427e71",
   "metadata": {},
   "outputs": [
    {
     "name": "stdout",
     "output_type": "stream",
     "text": [
      "(236091, 16)\n",
      "(236091, 16)\n",
      "(236091,)\n",
      "(33, 33, 236091)\n"
     ]
    }
   ],
   "source": [
    "#Size\n",
    "data_cohesion = np.transpose(data_cohesion)\n",
    "data_friction = np.transpose(data_friction)\n",
    "data_watertable = np.transpose(data_watertable)\n",
    "data_watertable = np.squeeze(data_watertable)\n",
    "data_velo = data_velo[0:33,:,:]\n",
    "print(np.shape(data_cohesion))\n",
    "print(np.shape(data_friction))\n",
    "print(np.shape(data_watertable))\n",
    "print(np.shape(data_velo))\n",
    "m = np.shape(data_cohesion)[1]\n",
    "n_sim = np.shape(data_velo)[2]\n",
    "n_final_test = 0\n",
    "n_remain = n_sim - n_final_test\n",
    "mo = np.shape(data_velo)[0]"
   ]
  },
  {
   "cell_type": "code",
   "execution_count": 5,
   "id": "a6fe6cac",
   "metadata": {},
   "outputs": [],
   "source": [
    "li= []\n",
    "for i in range (n_sim):\n",
    "    temp = np.reshape(data_velo[:,:,i],(mo*mo,1))\n",
    "    li.append(temp)\n",
    "data = np.array(li)"
   ]
  },
  {
   "cell_type": "code",
   "execution_count": 6,
   "id": "206e8c5e",
   "metadata": {},
   "outputs": [],
   "source": [
    "data_arr= np.zeros((n_remain,2*m + 1))\n",
    "data_arr[0:n_remain,0:m] = data_cohesion[0:n_remain,:]\n",
    "data_arr[0:n_remain,m:2*m] = data_friction[0:n_remain,:]\n",
    "data_arr[0:n_remain,2*m] = data_watertable[0:n_remain]"
   ]
  },
  {
   "cell_type": "code",
   "execution_count": 7,
   "id": "7aaa6452",
   "metadata": {},
   "outputs": [],
   "source": [
    "data_x = data_arr\n",
    "data_y = data[0:n_remain,:,:]\n",
    "data_y = np.reshape(data_y, (n_remain,mo*mo))"
   ]
  },
  {
   "cell_type": "code",
   "execution_count": 8,
   "id": "c637d5a4",
   "metadata": {},
   "outputs": [
    {
     "data": {
      "text/plain": [
       "(236091, 1089)"
      ]
     },
     "execution_count": 8,
     "metadata": {},
     "output_type": "execute_result"
    }
   ],
   "source": [
    "np.shape(data_y)"
   ]
  },
  {
   "cell_type": "code",
   "execution_count": 9,
   "id": "de0bafb0",
   "metadata": {},
   "outputs": [],
   "source": [
    "data_y1 = np.zeros((np.shape(data_y)))\n",
    "for i in range(n_sim):\n",
    "    data_y1[i,:] = data_y[i,:]/np.max(data_y[i,:]) \n",
    "    "
   ]
  },
  {
   "cell_type": "code",
   "execution_count": 10,
   "id": "6566fde5",
   "metadata": {},
   "outputs": [
    {
     "data": {
      "text/plain": [
       "(236091, 33)"
      ]
     },
     "execution_count": 10,
     "metadata": {},
     "output_type": "execute_result"
    }
   ],
   "source": [
    "np.shape(data_arr)"
   ]
  },
  {
   "cell_type": "code",
   "execution_count": 12,
   "id": "b7f47101",
   "metadata": {},
   "outputs": [
    {
     "name": "stdout",
     "output_type": "stream",
     "text": [
      "Epoch 1/100\n",
      "6641/6641 [==============================] - 53s 8ms/step - loss: 0.0548 - r_square: 0.1599\n",
      "Epoch 2/100\n",
      "6641/6641 [==============================] - 52s 8ms/step - loss: 0.0404 - r_square: 0.4102\n",
      "Epoch 3/100\n",
      "6641/6641 [==============================] - 56s 9ms/step - loss: 0.0359 - r_square: 0.4897\n",
      "Epoch 4/100\n",
      "6641/6641 [==============================] - 54s 8ms/step - loss: 0.0331 - r_square: 0.5335\n",
      "Epoch 5/100\n",
      "6641/6641 [==============================] - 55s 8ms/step - loss: 0.0303 - r_square: 0.5658\n",
      "Epoch 6/100\n",
      "6641/6641 [==============================] - 56s 8ms/step - loss: 0.0278 - r_square: 0.5995\n",
      "Epoch 7/100\n",
      "6641/6641 [==============================] - 63s 9ms/step - loss: 0.0263 - r_square: 0.6236\n",
      "Epoch 8/100\n",
      "6641/6641 [==============================] - 55s 8ms/step - loss: 0.0252 - r_square: 0.6424\n",
      "Epoch 9/100\n",
      "6641/6641 [==============================] - 62s 9ms/step - loss: 0.0241 - r_square: 0.6575\n",
      "Epoch 10/100\n",
      "6641/6641 [==============================] - 60s 9ms/step - loss: 0.0230 - r_square: 0.6729\n",
      "Epoch 11/100\n",
      "6641/6641 [==============================] - 58s 9ms/step - loss: 0.0221 - r_square: 0.6875\n",
      "Epoch 12/100\n",
      "6641/6641 [==============================] - 56s 8ms/step - loss: 0.0213 - r_square: 0.6987\n",
      "Epoch 13/100\n",
      "6641/6641 [==============================] - 55s 8ms/step - loss: 0.0206 - r_square: 0.7101\n",
      "Epoch 14/100\n",
      "6641/6641 [==============================] - 55s 8ms/step - loss: 0.0199 - r_square: 0.7209\n",
      "Epoch 15/100\n",
      "6641/6641 [==============================] - 63s 10ms/step - loss: 0.0192 - r_square: 0.7310\n",
      "Epoch 16/100\n",
      "6641/6641 [==============================] - 60s 9ms/step - loss: 0.0185 - r_square: 0.7397\n",
      "Epoch 17/100\n",
      "6641/6641 [==============================] - 63s 9ms/step - loss: 0.0179 - r_square: 0.7472\n",
      "Epoch 18/100\n",
      "6641/6641 [==============================] - 61s 9ms/step - loss: 0.0173 - r_square: 0.7543\n",
      "Epoch 19/100\n",
      "6641/6641 [==============================] - 62s 9ms/step - loss: 0.0168 - r_square: 0.7618\n",
      "Epoch 20/100\n",
      "6641/6641 [==============================] - 64s 10ms/step - loss: 0.0163 - r_square: 0.7677\n",
      "Epoch 21/100\n",
      "6641/6641 [==============================] - 59s 9ms/step - loss: 0.0159 - r_square: 0.7736\n",
      "Epoch 22/100\n",
      "6641/6641 [==============================] - 63s 9ms/step - loss: 0.0155 - r_square: 0.7789\n",
      "Epoch 23/100\n",
      "6641/6641 [==============================] - 65s 10ms/step - loss: 0.0151 - r_square: 0.7851\n",
      "Epoch 24/100\n",
      "6641/6641 [==============================] - 62s 9ms/step - loss: 0.0146 - r_square: 0.7903\n",
      "Epoch 25/100\n",
      "6641/6641 [==============================] - 59s 9ms/step - loss: 0.0142 - r_square: 0.7951\n",
      "Epoch 26/100\n",
      "6641/6641 [==============================] - 58s 9ms/step - loss: 0.0139 - r_square: 0.7991\n",
      "Epoch 27/100\n",
      "6641/6641 [==============================] - 57s 9ms/step - loss: 0.0136 - r_square: 0.8034\n",
      "Epoch 28/100\n",
      "6641/6641 [==============================] - 67s 10ms/step - loss: 0.0133 - r_square: 0.8073\n",
      "Epoch 29/100\n",
      "6641/6641 [==============================] - 61s 9ms/step - loss: 0.0131 - r_square: 0.8116\n",
      "Epoch 30/100\n",
      "6641/6641 [==============================] - 64s 10ms/step - loss: 0.0128 - r_square: 0.8157\n",
      "Epoch 31/100\n",
      "6641/6641 [==============================] - 60s 9ms/step - loss: 0.0126 - r_square: 0.8197\n",
      "Epoch 32/100\n",
      "6641/6641 [==============================] - 61s 9ms/step - loss: 0.0124 - r_square: 0.8237\n",
      "Epoch 33/100\n",
      "6641/6641 [==============================] - 58s 9ms/step - loss: 0.0122 - r_square: 0.8283\n",
      "Epoch 34/100\n",
      "6641/6641 [==============================] - 55s 8ms/step - loss: 0.0120 - r_square: 0.8310\n",
      "Epoch 35/100\n",
      "6641/6641 [==============================] - 57s 9ms/step - loss: 0.0118 - r_square: 0.8345\n",
      "Epoch 36/100\n",
      "6641/6641 [==============================] - 60s 9ms/step - loss: 0.0117 - r_square: 0.8371\n",
      "Epoch 37/100\n",
      "6641/6641 [==============================] - 56s 8ms/step - loss: 0.0115 - r_square: 0.8398\n",
      "Epoch 38/100\n",
      "6641/6641 [==============================] - 55s 8ms/step - loss: 0.0114 - r_square: 0.8424\n",
      "Epoch 39/100\n",
      "6641/6641 [==============================] - 55s 8ms/step - loss: 0.0112 - r_square: 0.8449\n",
      "Epoch 40/100\n",
      "6641/6641 [==============================] - 55s 8ms/step - loss: 0.0111 - r_square: 0.8465\n",
      "Epoch 41/100\n",
      "6641/6641 [==============================] - 56s 8ms/step - loss: 0.0109 - r_square: 0.8483\n",
      "Epoch 42/100\n",
      "6641/6641 [==============================] - 56s 8ms/step - loss: 0.0108 - r_square: 0.8506\n",
      "Epoch 43/100\n",
      "6641/6641 [==============================] - 58s 9ms/step - loss: 0.0107 - r_square: 0.8520\n",
      "Epoch 44/100\n",
      "6641/6641 [==============================] - 62s 9ms/step - loss: 0.0106 - r_square: 0.8539\n",
      "Epoch 45/100\n",
      "6641/6641 [==============================] - 58s 9ms/step - loss: 0.0104 - r_square: 0.8573\n",
      "Epoch 46/100\n",
      "6641/6641 [==============================] - 62s 9ms/step - loss: 0.0103 - r_square: 0.8600\n",
      "Epoch 47/100\n",
      "6641/6641 [==============================] - 64s 10ms/step - loss: 0.0102 - r_square: 0.8627\n",
      "Epoch 48/100\n",
      "6641/6641 [==============================] - 55s 8ms/step - loss: 0.0102 - r_square: 0.8647\n",
      "Epoch 49/100\n",
      "6641/6641 [==============================] - 55s 8ms/step - loss: 0.0100 - r_square: 0.8660\n",
      "Epoch 50/100\n",
      "6641/6641 [==============================] - 56s 8ms/step - loss: 0.0100 - r_square: 0.8680\n",
      "Epoch 51/100\n",
      "6641/6641 [==============================] - 57s 9ms/step - loss: 0.0099 - r_square: 0.8687\n",
      "Epoch 52/100\n",
      "6641/6641 [==============================] - 58s 9ms/step - loss: 0.0098 - r_square: 0.8700\n",
      "Epoch 53/100\n",
      "6641/6641 [==============================] - 58s 9ms/step - loss: 0.0097 - r_square: 0.8706\n",
      "Epoch 54/100\n",
      "6641/6641 [==============================] - 58s 9ms/step - loss: 0.0096 - r_square: 0.8715\n",
      "Epoch 55/100\n",
      "6641/6641 [==============================] - 57s 9ms/step - loss: 0.0095 - r_square: 0.8726\n",
      "Epoch 56/100\n",
      "6641/6641 [==============================] - 57s 9ms/step - loss: 0.0095 - r_square: 0.8744\n",
      "Epoch 57/100\n",
      "6641/6641 [==============================] - 58s 9ms/step - loss: 0.0094 - r_square: 0.8753\n",
      "Epoch 58/100\n",
      "6641/6641 [==============================] - 57s 9ms/step - loss: 0.0093 - r_square: 0.8768\n",
      "Epoch 59/100\n",
      "6641/6641 [==============================] - 57s 9ms/step - loss: 0.0092 - r_square: 0.8773\n",
      "Epoch 60/100\n",
      "6641/6641 [==============================] - 60s 9ms/step - loss: 0.0092 - r_square: 0.8781\n",
      "Epoch 61/100\n",
      "6641/6641 [==============================] - 59s 9ms/step - loss: 0.0091 - r_square: 0.8795\n",
      "Epoch 62/100\n",
      "6641/6641 [==============================] - 60s 9ms/step - loss: 0.0090 - r_square: 0.8808\n",
      "Epoch 63/100\n",
      "6641/6641 [==============================] - 59s 9ms/step - loss: 0.0090 - r_square: 0.8810\n",
      "Epoch 64/100\n",
      "6641/6641 [==============================] - 57s 9ms/step - loss: 0.0089 - r_square: 0.8818\n",
      "Epoch 65/100\n",
      "6641/6641 [==============================] - 56s 8ms/step - loss: 0.0089 - r_square: 0.8831\n",
      "Epoch 66/100\n",
      "6641/6641 [==============================] - 56s 8ms/step - loss: 0.0088 - r_square: 0.8846\n",
      "Epoch 67/100\n",
      "6641/6641 [==============================] - 56s 8ms/step - loss: 0.0087 - r_square: 0.8844\n",
      "Epoch 68/100\n",
      "6641/6641 [==============================] - 63s 9ms/step - loss: 0.0087 - r_square: 0.8846\n",
      "Epoch 69/100\n",
      "6641/6641 [==============================] - 56s 8ms/step - loss: 0.0086 - r_square: 0.8858\n",
      "Epoch 70/100\n",
      "6641/6641 [==============================] - 56s 9ms/step - loss: 0.0086 - r_square: 0.8858\n",
      "Epoch 71/100\n",
      "6641/6641 [==============================] - 57s 9ms/step - loss: 0.0085 - r_square: 0.8866\n",
      "Epoch 72/100\n",
      "6641/6641 [==============================] - 57s 9ms/step - loss: 0.0085 - r_square: 0.8873\n",
      "Epoch 73/100\n",
      "6641/6641 [==============================] - 57s 9ms/step - loss: 0.0084 - r_square: 0.8878\n",
      "Epoch 74/100\n",
      "6641/6641 [==============================] - 57s 9ms/step - loss: 0.0084 - r_square: 0.8880\n",
      "Epoch 75/100\n",
      "6641/6641 [==============================] - 57s 9ms/step - loss: 0.0083 - r_square: 0.8886\n",
      "Epoch 76/100\n",
      "6641/6641 [==============================] - 57s 9ms/step - loss: 0.0083 - r_square: 0.8891\n",
      "Epoch 77/100\n",
      "6641/6641 [==============================] - 58s 9ms/step - loss: 0.0082 - r_square: 0.8901\n",
      "Epoch 78/100\n",
      "6641/6641 [==============================] - 57s 9ms/step - loss: 0.0082 - r_square: 0.8901\n",
      "Epoch 79/100\n"
     ]
    },
    {
     "name": "stdout",
     "output_type": "stream",
     "text": [
      "6641/6641 [==============================] - 56s 8ms/step - loss: 0.0082 - r_square: 0.8908\n",
      "Epoch 80/100\n",
      "6641/6641 [==============================] - 56s 8ms/step - loss: 0.0081 - r_square: 0.8911\n",
      "Epoch 81/100\n",
      "6641/6641 [==============================] - 56s 8ms/step - loss: 0.0081 - r_square: 0.8914\n",
      "Epoch 82/100\n",
      "6641/6641 [==============================] - 57s 9ms/step - loss: 0.0080 - r_square: 0.8922\n",
      "Epoch 83/100\n",
      "6641/6641 [==============================] - 56s 8ms/step - loss: 0.0080 - r_square: 0.8929\n",
      "Epoch 84/100\n",
      "6641/6641 [==============================] - 56s 8ms/step - loss: 0.0080 - r_square: 0.8927\n",
      "Epoch 85/100\n",
      "6641/6641 [==============================] - 60s 9ms/step - loss: 0.0079 - r_square: 0.8926\n",
      "Epoch 86/100\n",
      "6641/6641 [==============================] - 57s 9ms/step - loss: 0.0079 - r_square: 0.8939\n",
      "Epoch 87/100\n",
      "6641/6641 [==============================] - 54s 8ms/step - loss: 0.0078 - r_square: 0.8937\n",
      "Epoch 88/100\n",
      "6641/6641 [==============================] - 54s 8ms/step - loss: 0.0078 - r_square: 0.8944\n",
      "Epoch 89/100\n",
      "6641/6641 [==============================] - 56s 8ms/step - loss: 0.0078 - r_square: 0.8944\n",
      "Epoch 90/100\n",
      "6641/6641 [==============================] - 57s 9ms/step - loss: 0.0077 - r_square: 0.8950\n",
      "Epoch 91/100\n",
      "6641/6641 [==============================] - 57s 9ms/step - loss: 0.0077 - r_square: 0.8951\n",
      "Epoch 92/100\n",
      "6641/6641 [==============================] - 56s 8ms/step - loss: 0.0077 - r_square: 0.8956\n",
      "Epoch 93/100\n",
      "6641/6641 [==============================] - 56s 8ms/step - loss: 0.0076 - r_square: 0.8964\n",
      "Epoch 94/100\n",
      "6641/6641 [==============================] - 56s 8ms/step - loss: 0.0076 - r_square: 0.8965\n",
      "Epoch 95/100\n",
      "6641/6641 [==============================] - 61s 9ms/step - loss: 0.0076 - r_square: 0.8966\n",
      "Epoch 96/100\n",
      "6641/6641 [==============================] - 63s 9ms/step - loss: 0.0076 - r_square: 0.8968\n",
      "Epoch 97/100\n",
      "6641/6641 [==============================] - 64s 10ms/step - loss: 0.0075 - r_square: 0.8976\n",
      "Epoch 98/100\n",
      "6641/6641 [==============================] - 60s 9ms/step - loss: 0.0075 - r_square: 0.8981\n",
      "Epoch 99/100\n",
      "6641/6641 [==============================] - 58s 9ms/step - loss: 0.0075 - r_square: 0.8987\n",
      "Epoch 100/100\n",
      "6641/6641 [==============================] - 55s 8ms/step - loss: 0.0075 - r_square: 0.8995\n"
     ]
    },
    {
     "data": {
      "text/plain": [
       "<keras.callbacks.History at 0x1f7d62e7b50>"
      ]
     },
     "execution_count": 12,
     "metadata": {},
     "output_type": "execute_result"
    }
   ],
   "source": [
    "import pandas as pd\n",
    "import numpy as np\n",
    "import matplotlib.pyplot as plt\n",
    "import tensorflow as tf\n",
    "from tensorflow import keras\n",
    "from tensorflow.keras.models import Sequential\n",
    "from sklearn.model_selection import train_test_split\n",
    "x_train, x_test, y_train, y_test = train_test_split(data_x, data_y1, test_size=0.1, random_state = 42)\n",
    "from sklearn.preprocessing import StandardScaler\n",
    "sc = StandardScaler()\n",
    "x_train = sc.fit_transform(x_train)\n",
    "x_test = sc.fit_transform(x_test)\n",
    "#y_train = sc.fit_transform(y_train)\n",
    "#y_test = sc.fit_transform(y_test)\n",
    "ann1 = tf.keras.models.Sequential()\n",
    "ann1.add(tf.keras.layers.Dense(units = 2752,activation = 'relu'))\n",
    "#ann1.add(tf.keras.layers.Dense(units = 512,activation = 'relu'))\n",
    "ann1.add(tf.keras.layers.Dense(units = 2500,activation = 'relu'))\n",
    "ann1.add(tf.keras.layers.Dense(units = 2560,activation = 'relu'))\n",
    "ann1.add(tf.keras.layers.Dense(units = 512,activation = 'relu'))\n",
    "ann1.add(tf.keras.layers.Dense(units = 512,activation = 'relu'))\n",
    "ann1.add(tf.keras.layers.Dense(units = 512,activation = 'relu'))\n",
    "#Output Layer\n",
    "ann1.add(tf.keras.layers.Dense(units = 1089 , activation = 'linear'))\n",
    "metric = tfa.metrics.r_square.RSquare()\n",
    "ann1.compile(\n",
    "        optimizer=keras.optimizers.Adam(learning_rate=  1e-4),\n",
    "        loss='mean_absolute_error',\n",
    "        metrics=[metric])\n",
    "ann1.fit(x_train,y_train,batch_size = 32, epochs = 100)\n",
    "#ann1.save('ann_velo_final_1.h5')"
   ]
  },
  {
   "cell_type": "code",
   "execution_count": 13,
   "id": "f0f42853",
   "metadata": {},
   "outputs": [
    {
     "name": "stdout",
     "output_type": "stream",
     "text": [
      "738/738 [==============================] - 1s 2ms/step\n"
     ]
    }
   ],
   "source": [
    "y_pred = ann1.predict(x_test)\n",
    "\n",
    "y_actual = y_test"
   ]
  },
  {
   "cell_type": "code",
   "execution_count": 14,
   "id": "39f3314b",
   "metadata": {},
   "outputs": [
    {
     "data": {
      "image/png": "[encoded data removed]",
      "text/plain": [
       "<Figure size 432x288 with 2 Axes>"
      ]
     },
     "metadata": {
      "needs_background": "light"
     },
     "output_type": "display_data"
    },
    {
     "data": {
      "image/png": "[encoded data removed]",
      "text/plain": [
       "<Figure size 432x288 with 2 Axes>"
      ]
     },
     "metadata": {
      "needs_background": "light"
     },
     "output_type": "display_data"
    }
   ],
   "source": [
    "case = 1800\n",
    "a = np.reshape(y_pred[case,:],(33,33))\n",
    "b = np.reshape(y_actual[case,:],(33,33))\n",
    "fig, ax1 = plt.subplots()\n",
    "im1 = ax1.imshow(a, interpolation='nearest', aspect=0.5)\n",
    "fig.colorbar(im1)\n",
    "plt.title(\"Velocity field - ML PREDICTION\")\n",
    "fig, ax2 = plt.subplots()\n",
    "im2 = ax2.imshow(b, interpolation='nearest',aspect = 0.5)\n",
    "fig.colorbar(im2)\n",
    "plt.title(\"Velocity field - SIMULATION\")\n",
    "plt.show()\n"
   ]
  },
  {
   "cell_type": "code",
   "execution_count": 14,
   "id": "262d7690",
   "metadata": {},
   "outputs": [],
   "source": [
    "ann1.save('ann_velo_v3.h5')"
   ]
  },
  {
   "cell_type": "code",
   "execution_count": 15,
   "id": "dfaae076",
   "metadata": {},
   "outputs": [],
   "source": [
    "# save the scaler\n",
    "dump(sc, open('scale_v3.pkl', 'wb'))"
   ]
  },
  {
   "cell_type": "code",
   "execution_count": 11,
   "id": "25d2cf9c",
   "metadata": {},
   "outputs": [],
   "source": [
    "import tensorflowjs as tfjs"
   ]
  },
  {
   "cell_type": "code",
   "execution_count": 16,
   "id": "93d654d9",
   "metadata": {},
   "outputs": [],
   "source": [
    "tfjs.converters.save_keras_model(ann1,'ann_velo')"
   ]
  },
  {
   "cell_type": "code",
   "execution_count": null,
   "id": "b606f698",
   "metadata": {},
   "outputs": [],
   "source": []
  }
 ],
 "metadata": {
  "kernelspec": {
   "display_name": "Python 3 (ipykernel)",
   "language": "python",
   "name": "python3"
  },
  "language_info": {
   "codemirror_mode": {
    "name": "ipython",
    "version": 3
   },
   "file_extension": ".py",
   "mimetype": "text/x-python",
   "name": "python",
   "nbconvert_exporter": "python",
   "pygments_lexer": "ipython3",
   "version": "3.10.4"
  }
 },
 "nbformat": 4,
 "nbformat_minor": 5
}
