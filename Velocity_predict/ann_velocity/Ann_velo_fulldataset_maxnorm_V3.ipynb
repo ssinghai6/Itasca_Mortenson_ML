{
 "cells": [
  {
   "cell_type": "code",
   "execution_count": 1,
   "id": "f698cecb",
   "metadata": {},
   "outputs": [
    {
     "name": "stdout",
     "output_type": "stream",
     "text": [
      "Requirement already satisfied: tensorflow_addons in c:\\users\\ssinghai\\anaconda3\\lib\\site-packages (0.17.1)\n",
      "Requirement already satisfied: typeguard>=2.7 in c:\\users\\ssinghai\\anaconda3\\lib\\site-packages (from tensorflow_addons) (2.13.3)\n",
      "Requirement already satisfied: packaging in c:\\users\\ssinghai\\anaconda3\\lib\\site-packages (from tensorflow_addons) (21.3)\n",
      "Requirement already satisfied: pyparsing!=3.0.5,>=2.0.2 in c:\\users\\ssinghai\\anaconda3\\lib\\site-packages (from packaging->tensorflow_addons) (3.0.4)\n"
     ]
    }
   ],
   "source": [
    "import pandas as pd\n",
    "import numpy as np\n",
    "import matplotlib.pyplot as plt\n",
    "import tensorflow as tf\n",
    "from tensorflow import keras\n",
    "from tensorflow.keras.models import Sequential\n",
    "from sklearn.datasets import make_blobs\n",
    "from sklearn.model_selection import train_test_split\n",
    "from sklearn.preprocessing import MinMaxScaler\n",
    "from sklearn.linear_model import LogisticRegression\n",
    "from pickle import dump\n",
    "!pip install tensorflow_addons\n",
    "import tensorflow_addons as tfa"
   ]
  },
  {
   "cell_type": "code",
   "execution_count": 2,
   "id": "6be8c8cc",
   "metadata": {},
   "outputs": [
    {
     "name": "stdout",
     "output_type": "stream",
     "text": [
      "Num GPUs Available:  1\n"
     ]
    }
   ],
   "source": [
    "import tensorflow as tf\n",
    "#sess = tf.Session(config=tf.ConfigProto(log_device_placement=True))\n",
    "print(\"Num GPUs Available: \", len(tf.config.list_physical_devices('GPU')))"
   ]
  },
  {
   "cell_type": "code",
   "execution_count": 3,
   "id": "6fee37a9",
   "metadata": {},
   "outputs": [],
   "source": [
    "#Importing Input data\n",
    "data_cohesion = np.load('Inputs/4ft_cohesion.npy')\n",
    "data_friction = np.load('Inputs/4ft_friction.npy')\n",
    "data_poly = np.load('Inputs/4ft_poly_feature.npy')\n",
    "data_watertable = np.load('Inputs/4ft_water_table.npy')\n",
    "data_velo = np.load(\"Targets/4ft_velocity_plots.npy\")\n",
    "data_watertable = np.squeeze(data_watertable)"
   ]
  },
  {
   "cell_type": "code",
   "execution_count": 4,
   "id": "a5427e71",
   "metadata": {},
   "outputs": [
    {
     "name": "stdout",
     "output_type": "stream",
     "text": [
      "(236091, 16)\n",
      "(236091, 16)\n",
      "(236091,)\n",
      "(33, 33, 236091)\n"
     ]
    }
   ],
   "source": [
    "#Size\n",
    "data_cohesion = np.transpose(data_cohesion)\n",
    "data_friction = np.transpose(data_friction)\n",
    "data_watertable = np.transpose(data_watertable)\n",
    "data_watertable = np.squeeze(data_watertable)\n",
    "data_velo = data_velo[0:33,:,:]\n",
    "print(np.shape(data_cohesion))\n",
    "print(np.shape(data_friction))\n",
    "print(np.shape(data_watertable))\n",
    "print(np.shape(data_velo))\n",
    "m = np.shape(data_cohesion)[1]\n",
    "n_sim = np.shape(data_velo)[2]\n",
    "n_final_test = 0\n",
    "n_remain = n_sim - n_final_test\n",
    "mo = np.shape(data_velo)[0]"
   ]
  },
  {
   "cell_type": "code",
   "execution_count": 5,
   "id": "a6fe6cac",
   "metadata": {},
   "outputs": [],
   "source": [
    "li= []\n",
    "for i in range (n_sim):\n",
    "    temp = np.reshape(data_velo[:,:,i],(mo*mo,1))\n",
    "    li.append(temp)\n",
    "data = np.array(li)"
   ]
  },
  {
   "cell_type": "code",
   "execution_count": 6,
   "id": "206e8c5e",
   "metadata": {},
   "outputs": [],
   "source": [
    "data_arr= np.zeros((n_remain,2*m + 1))\n",
    "data_arr[0:n_remain,0:m] = data_cohesion[0:n_remain,:]\n",
    "data_arr[0:n_remain,m:2*m] = data_friction[0:n_remain,:]\n",
    "data_arr[0:n_remain,2*m] = data_watertable[0:n_remain]"
   ]
  },
  {
   "cell_type": "code",
   "execution_count": 7,
   "id": "7aaa6452",
   "metadata": {},
   "outputs": [],
   "source": [
    "data_x = data_arr\n",
    "data_y = data[0:n_remain,:,:]\n",
    "data_y = np.reshape(data_y, (n_remain,mo*mo))"
   ]
  },
  {
   "cell_type": "code",
   "execution_count": 8,
   "id": "c637d5a4",
   "metadata": {},
   "outputs": [
    {
     "data": {
      "text/plain": [
       "(236091, 1089)"
      ]
     },
     "execution_count": 8,
     "metadata": {},
     "output_type": "execute_result"
    }
   ],
   "source": [
    "np.shape(data_y)"
   ]
  },
  {
   "cell_type": "code",
   "execution_count": 9,
   "id": "de0bafb0",
   "metadata": {},
   "outputs": [],
   "source": [
    "data_y1 = np.zeros((np.shape(data_y)))\n",
    "for i in range(n_sim):\n",
    "    data_y1[i,:] = data_y[i,:]/np.max(data_y[i,:]) \n",
    "    "
   ]
  },
  {
   "cell_type": "code",
   "execution_count": 10,
   "id": "6566fde5",
   "metadata": {},
   "outputs": [
    {
     "data": {
      "text/plain": [
       "(236091, 33)"
      ]
     },
     "execution_count": 10,
     "metadata": {},
     "output_type": "execute_result"
    }
   ],
   "source": [
    "np.shape(data_arr)"
   ]
  },
  {
   "cell_type": "code",
   "execution_count": 11,
   "id": "b7f47101",
   "metadata": {},
   "outputs": [
    {
     "name": "stdout",
     "output_type": "stream",
     "text": [
      "Epoch 1/100\n",
      "6641/6641 [==============================] - 52s 8ms/step - loss: 0.0536 - r_square: 0.1716\n",
      "Epoch 2/100\n",
      "6641/6641 [==============================] - 52s 8ms/step - loss: 0.0383 - r_square: 0.4341\n",
      "Epoch 3/100\n",
      "6641/6641 [==============================] - 57s 9ms/step - loss: 0.0332 - r_square: 0.5173\n",
      "Epoch 4/100\n",
      "6641/6641 [==============================] - 59s 9ms/step - loss: 0.0300 - r_square: 0.5628\n",
      "Epoch 5/100\n",
      "6641/6641 [==============================] - 59s 9ms/step - loss: 0.0276 - r_square: 0.5975\n",
      "Epoch 6/100\n",
      "6641/6641 [==============================] - 58s 9ms/step - loss: 0.0259 - r_square: 0.6237\n",
      "Epoch 7/100\n",
      "6641/6641 [==============================] - 58s 9ms/step - loss: 0.0244 - r_square: 0.6457\n",
      "Epoch 8/100\n",
      "6641/6641 [==============================] - 58s 9ms/step - loss: 0.0230 - r_square: 0.6638\n",
      "Epoch 9/100\n",
      "6641/6641 [==============================] - 58s 9ms/step - loss: 0.0220 - r_square: 0.6811\n",
      "Epoch 10/100\n",
      "6641/6641 [==============================] - 57s 9ms/step - loss: 0.0210 - r_square: 0.6955\n",
      "Epoch 11/100\n",
      "6641/6641 [==============================] - 56s 8ms/step - loss: 0.0202 - r_square: 0.7082\n",
      "Epoch 12/100\n",
      "6641/6641 [==============================] - 57s 9ms/step - loss: 0.0194 - r_square: 0.7197\n",
      "Epoch 13/100\n",
      "6641/6641 [==============================] - 57s 9ms/step - loss: 0.0186 - r_square: 0.7300\n",
      "Epoch 14/100\n",
      "6641/6641 [==============================] - 57s 9ms/step - loss: 0.0178 - r_square: 0.7415\n",
      "Epoch 15/100\n",
      "6641/6641 [==============================] - 58s 9ms/step - loss: 0.0172 - r_square: 0.7501\n",
      "Epoch 16/100\n",
      "6641/6641 [==============================] - 59s 9ms/step - loss: 0.0166 - r_square: 0.7596\n",
      "Epoch 17/100\n",
      "6641/6641 [==============================] - 58s 9ms/step - loss: 0.0161 - r_square: 0.7687\n",
      "Epoch 18/100\n",
      "6641/6641 [==============================] - 57s 9ms/step - loss: 0.0156 - r_square: 0.7771\n",
      "Epoch 19/100\n",
      "6641/6641 [==============================] - 58s 9ms/step - loss: 0.0151 - r_square: 0.7839\n",
      "Epoch 20/100\n",
      "6641/6641 [==============================] - 57s 9ms/step - loss: 0.0148 - r_square: 0.7893\n",
      "Epoch 21/100\n",
      "6641/6641 [==============================] - 58s 9ms/step - loss: 0.0144 - r_square: 0.7944\n",
      "Epoch 22/100\n",
      "6641/6641 [==============================] - 58s 9ms/step - loss: 0.0141 - r_square: 0.8001\n",
      "Epoch 23/100\n",
      "6641/6641 [==============================] - 58s 9ms/step - loss: 0.0137 - r_square: 0.8045\n",
      "Epoch 24/100\n",
      "6641/6641 [==============================] - 58s 9ms/step - loss: 0.0134 - r_square: 0.8075\n",
      "Epoch 25/100\n",
      "6641/6641 [==============================] - 58s 9ms/step - loss: 0.0132 - r_square: 0.8114\n",
      "Epoch 26/100\n",
      "6641/6641 [==============================] - 57s 9ms/step - loss: 0.0129 - r_square: 0.8145\n",
      "Epoch 27/100\n",
      "6641/6641 [==============================] - 57s 9ms/step - loss: 0.0127 - r_square: 0.8178\n",
      "Epoch 28/100\n",
      "6641/6641 [==============================] - 57s 9ms/step - loss: 0.0124 - r_square: 0.8200\n",
      "Epoch 29/100\n",
      "6641/6641 [==============================] - 58s 9ms/step - loss: 0.0122 - r_square: 0.8227\n",
      "Epoch 30/100\n",
      "6641/6641 [==============================] - 58s 9ms/step - loss: 0.0120 - r_square: 0.8248\n",
      "Epoch 31/100\n",
      "6641/6641 [==============================] - 57s 9ms/step - loss: 0.0119 - r_square: 0.8279\n",
      "Epoch 32/100\n",
      "6641/6641 [==============================] - 58s 9ms/step - loss: 0.0117 - r_square: 0.8299\n",
      "Epoch 33/100\n",
      "6641/6641 [==============================] - 58s 9ms/step - loss: 0.0115 - r_square: 0.8322\n",
      "Epoch 34/100\n",
      "6641/6641 [==============================] - 57s 9ms/step - loss: 0.0113 - r_square: 0.8344\n",
      "Epoch 35/100\n",
      "6641/6641 [==============================] - 57s 9ms/step - loss: 0.0112 - r_square: 0.8365\n",
      "Epoch 36/100\n",
      "6641/6641 [==============================] - 57s 9ms/step - loss: 0.0110 - r_square: 0.8386\n",
      "Epoch 37/100\n",
      "6641/6641 [==============================] - 57s 9ms/step - loss: 0.0109 - r_square: 0.8404\n",
      "Epoch 38/100\n",
      "6641/6641 [==============================] - 54s 8ms/step - loss: 0.0107 - r_square: 0.8427\n",
      "Epoch 39/100\n",
      "6641/6641 [==============================] - 55s 8ms/step - loss: 0.0106 - r_square: 0.8447\n",
      "Epoch 40/100\n",
      "6641/6641 [==============================] - 54s 8ms/step - loss: 0.0105 - r_square: 0.8474\n",
      "Epoch 41/100\n",
      "6641/6641 [==============================] - 55s 8ms/step - loss: 0.0103 - r_square: 0.8487\n",
      "Epoch 42/100\n",
      "6641/6641 [==============================] - 55s 8ms/step - loss: 0.0102 - r_square: 0.8504\n",
      "Epoch 43/100\n",
      "6641/6641 [==============================] - 56s 8ms/step - loss: 0.0101 - r_square: 0.8520\n",
      "Epoch 44/100\n",
      "6641/6641 [==============================] - 57s 9ms/step - loss: 0.0100 - r_square: 0.8537\n",
      "Epoch 45/100\n",
      "6641/6641 [==============================] - 58s 9ms/step - loss: 0.0099 - r_square: 0.8543\n",
      "Epoch 46/100\n",
      "6641/6641 [==============================] - 58s 9ms/step - loss: 0.0098 - r_square: 0.8567\n",
      "Epoch 47/100\n",
      "6641/6641 [==============================] - 58s 9ms/step - loss: 0.0097 - r_square: 0.8584\n",
      "Epoch 48/100\n",
      "6641/6641 [==============================] - 57s 9ms/step - loss: 0.0096 - r_square: 0.8612\n",
      "Epoch 49/100\n",
      "6641/6641 [==============================] - 58s 9ms/step - loss: 0.0095 - r_square: 0.8618\n",
      "Epoch 50/100\n",
      "6641/6641 [==============================] - 58s 9ms/step - loss: 0.0094 - r_square: 0.8641\n",
      "Epoch 51/100\n",
      "6641/6641 [==============================] - 58s 9ms/step - loss: 0.0093 - r_square: 0.8647\n",
      "Epoch 52/100\n",
      "6641/6641 [==============================] - 58s 9ms/step - loss: 0.0093 - r_square: 0.8669\n",
      "Epoch 53/100\n",
      "6641/6641 [==============================] - 57s 9ms/step - loss: 0.0092 - r_square: 0.8707\n",
      "Epoch 54/100\n",
      "6641/6641 [==============================] - 57s 9ms/step - loss: 0.0091 - r_square: 0.8735\n",
      "Epoch 55/100\n",
      "6641/6641 [==============================] - 57s 9ms/step - loss: 0.0090 - r_square: 0.8765\n",
      "Epoch 56/100\n",
      "6641/6641 [==============================] - 57s 9ms/step - loss: 0.0090 - r_square: 0.8785\n",
      "Epoch 57/100\n",
      "6641/6641 [==============================] - 57s 9ms/step - loss: 0.0089 - r_square: 0.8816\n",
      "Epoch 58/100\n",
      "6641/6641 [==============================] - 59s 9ms/step - loss: 0.0088 - r_square: 0.8838\n",
      "Epoch 59/100\n",
      "6641/6641 [==============================] - 57s 9ms/step - loss: 0.0087 - r_square: 0.8854\n",
      "Epoch 60/100\n",
      "6641/6641 [==============================] - 57s 9ms/step - loss: 0.0087 - r_square: 0.8866\n",
      "Epoch 61/100\n",
      "6641/6641 [==============================] - 57s 9ms/step - loss: 0.0086 - r_square: 0.8885\n",
      "Epoch 62/100\n",
      "6641/6641 [==============================] - 57s 9ms/step - loss: 0.0086 - r_square: 0.8906\n",
      "Epoch 63/100\n",
      "6641/6641 [==============================] - 57s 9ms/step - loss: 0.0085 - r_square: 0.8915\n",
      "Epoch 64/100\n",
      "6641/6641 [==============================] - 57s 9ms/step - loss: 0.0084 - r_square: 0.8924\n",
      "Epoch 65/100\n",
      "6641/6641 [==============================] - 57s 9ms/step - loss: 0.0084 - r_square: 0.8943\n",
      "Epoch 66/100\n",
      "6641/6641 [==============================] - 57s 9ms/step - loss: 0.0083 - r_square: 0.8944\n",
      "Epoch 67/100\n",
      "6641/6641 [==============================] - 57s 9ms/step - loss: 0.0083 - r_square: 0.8960\n",
      "Epoch 68/100\n",
      "6641/6641 [==============================] - 57s 9ms/step - loss: 0.0082 - r_square: 0.8966\n",
      "Epoch 69/100\n",
      "6641/6641 [==============================] - 57s 9ms/step - loss: 0.0082 - r_square: 0.8978\n",
      "Epoch 70/100\n",
      "6641/6641 [==============================] - 57s 9ms/step - loss: 0.0081 - r_square: 0.8985\n",
      "Epoch 71/100\n",
      "6641/6641 [==============================] - 57s 9ms/step - loss: 0.0081 - r_square: 0.8987\n",
      "Epoch 72/100\n",
      "6641/6641 [==============================] - 57s 9ms/step - loss: 0.0080 - r_square: 0.9002\n",
      "Epoch 73/100\n",
      "6641/6641 [==============================] - 57s 9ms/step - loss: 0.0080 - r_square: 0.9016\n",
      "Epoch 74/100\n",
      "6641/6641 [==============================] - 57s 9ms/step - loss: 0.0079 - r_square: 0.9017\n",
      "Epoch 75/100\n",
      "6641/6641 [==============================] - 57s 9ms/step - loss: 0.0079 - r_square: 0.9021\n",
      "Epoch 76/100\n",
      "6641/6641 [==============================] - 57s 9ms/step - loss: 0.0079 - r_square: 0.9036\n",
      "Epoch 77/100\n",
      "6641/6641 [==============================] - 57s 9ms/step - loss: 0.0078 - r_square: 0.9037\n",
      "Epoch 78/100\n",
      "6641/6641 [==============================] - 57s 9ms/step - loss: 0.0078 - r_square: 0.9043\n",
      "Epoch 79/100\n"
     ]
    },
    {
     "name": "stdout",
     "output_type": "stream",
     "text": [
      "6641/6641 [==============================] - 58s 9ms/step - loss: 0.0078 - r_square: 0.9045\n",
      "Epoch 80/100\n",
      "6641/6641 [==============================] - 57s 9ms/step - loss: 0.0077 - r_square: 0.9051\n",
      "Epoch 81/100\n",
      "6641/6641 [==============================] - 57s 9ms/step - loss: 0.0077 - r_square: 0.9051\n",
      "Epoch 82/100\n",
      "6641/6641 [==============================] - 57s 9ms/step - loss: 0.0076 - r_square: 0.9062\n",
      "Epoch 83/100\n",
      "6641/6641 [==============================] - 57s 9ms/step - loss: 0.0076 - r_square: 0.9067\n",
      "Epoch 84/100\n",
      "6641/6641 [==============================] - 57s 9ms/step - loss: 0.0075 - r_square: 0.9064\n",
      "Epoch 85/100\n",
      "6641/6641 [==============================] - 57s 9ms/step - loss: 0.0075 - r_square: 0.9081\n",
      "Epoch 86/100\n",
      "6641/6641 [==============================] - 57s 9ms/step - loss: 0.0075 - r_square: 0.9083\n",
      "Epoch 87/100\n",
      "6641/6641 [==============================] - 57s 9ms/step - loss: 0.0075 - r_square: 0.9082\n",
      "Epoch 88/100\n",
      "6641/6641 [==============================] - 57s 9ms/step - loss: 0.0074 - r_square: 0.9096\n",
      "Epoch 89/100\n",
      "6641/6641 [==============================] - 57s 9ms/step - loss: 0.0074 - r_square: 0.9094\n",
      "Epoch 90/100\n",
      "6641/6641 [==============================] - 57s 9ms/step - loss: 0.0074 - r_square: 0.9098\n",
      "Epoch 91/100\n",
      "6641/6641 [==============================] - 57s 9ms/step - loss: 0.0073 - r_square: 0.9099\n",
      "Epoch 92/100\n",
      "6641/6641 [==============================] - 57s 9ms/step - loss: 0.0073 - r_square: 0.9101\n",
      "Epoch 93/100\n",
      "6641/6641 [==============================] - 57s 9ms/step - loss: 0.0073 - r_square: 0.9111\n",
      "Epoch 94/100\n",
      "6641/6641 [==============================] - 57s 9ms/step - loss: 0.0072 - r_square: 0.9117\n",
      "Epoch 95/100\n",
      "6641/6641 [==============================] - 57s 9ms/step - loss: 0.0072 - r_square: 0.9121\n",
      "Epoch 96/100\n",
      "6641/6641 [==============================] - 57s 9ms/step - loss: 0.0072 - r_square: 0.9121\n",
      "Epoch 97/100\n",
      "6641/6641 [==============================] - 57s 9ms/step - loss: 0.0072 - r_square: 0.9122\n",
      "Epoch 98/100\n",
      "6641/6641 [==============================] - 57s 9ms/step - loss: 0.0071 - r_square: 0.9125\n",
      "Epoch 99/100\n",
      "6641/6641 [==============================] - 57s 9ms/step - loss: 0.0071 - r_square: 0.9133\n",
      "Epoch 100/100\n",
      "6641/6641 [==============================] - 58s 9ms/step - loss: 0.0071 - r_square: 0.9131\n"
     ]
    },
    {
     "data": {
      "text/plain": [
       "<keras.callbacks.History at 0x1c7b7c1cb20>"
      ]
     },
     "execution_count": 11,
     "metadata": {},
     "output_type": "execute_result"
    }
   ],
   "source": [
    "import pandas as pd\n",
    "import numpy as np\n",
    "import matplotlib.pyplot as plt\n",
    "import tensorflow as tf\n",
    "from tensorflow import keras\n",
    "from tensorflow.keras.models import Sequential\n",
    "from sklearn.model_selection import train_test_split\n",
    "x_train, x_test, y_train, y_test = train_test_split(data_x, data_y1, test_size=0.1, random_state = 42)\n",
    "from sklearn.preprocessing import StandardScaler\n",
    "sc = StandardScaler()\n",
    "x_train = sc.fit_transform(x_train)\n",
    "x_test = sc.fit_transform(x_test)\n",
    "#y_train = sc.fit_transform(y_train)\n",
    "#y_test = sc.fit_transform(y_test)\n",
    "ann1 = tf.keras.models.Sequential()\n",
    "ann1.add(tf.keras.layers.Dense(units = 2752,activation = 'relu'))\n",
    "#ann1.add(tf.keras.layers.Dense(units = 512,activation = 'relu'))\n",
    "ann1.add(tf.keras.layers.Dense(units = 2500,activation = 'relu'))\n",
    "ann1.add(tf.keras.layers.Dense(units = 2560,activation = 'relu'))\n",
    "ann1.add(tf.keras.layers.Dense(units = 512,activation = 'relu'))\n",
    "ann1.add(tf.keras.layers.Dense(units = 512,activation = 'relu'))\n",
    "ann1.add(tf.keras.layers.Dense(units = 512,activation = 'relu'))\n",
    "#Output Layer\n",
    "ann1.add(tf.keras.layers.Dense(units = 1089 , activation = 'linear'))\n",
    "metric = tfa.metrics.r_square.RSquare()\n",
    "ann1.compile(\n",
    "        optimizer=keras.optimizers.Adam(learning_rate=  1e-4),\n",
    "        loss='mean_absolute_error',\n",
    "        metrics=[metric])\n",
    "ann1.fit(x_train,y_train,batch_size = 32, epochs = 100)\n",
    "#ann1.save('ann_velo_final_1.h5')"
   ]
  },
  {
   "cell_type": "code",
   "execution_count": 13,
   "id": "39f3314b",
   "metadata": {},
   "outputs": [
    {
     "data": {
      "image/png": "[encoded data removed]",
      "text/plain": [
       "<Figure size 432x288 with 2 Axes>"
      ]
     },
     "metadata": {
      "needs_background": "light"
     },
     "output_type": "display_data"
    },
    {
     "data": {
      "image/png": "[encoded data removed]",
      "text/plain": [
       "<Figure size 432x288 with 2 Axes>"
      ]
     },
     "metadata": {
      "needs_background": "light"
     },
     "output_type": "display_data"
    }
   ],
   "source": [
    "case = 800\n",
    "a = np.reshape(y_pred[case,:],(33,33))\n",
    "b = np.reshape(y_actual[case,:],(33,33))\n",
    "fig, ax1 = plt.subplots()\n",
    "im1 = ax1.imshow(a, interpolation='nearest', aspect=0.5)\n",
    "fig.colorbar(im1)\n",
    "plt.title(\"Velocity field - ML PREDICTION\")\n",
    "fig, ax2 = plt.subplots()\n",
    "im2 = ax2.imshow(b, interpolation='nearest',aspect = 0.5)\n",
    "fig.colorbar(im2)\n",
    "plt.title(\"Velocity field - SIMULATION\")\n",
    "plt.show()\n"
   ]
  },
  {
   "cell_type": "code",
   "execution_count": 14,
   "id": "262d7690",
   "metadata": {},
   "outputs": [],
   "source": [
    "ann1.save('ann_velo_v3.h5')"
   ]
  },
  {
   "cell_type": "code",
   "execution_count": 15,
   "id": "dfaae076",
   "metadata": {},
   "outputs": [],
   "source": [
    "# save the scaler\n",
    "dump(sc, open('scale_v3.pkl', 'wb'))"
   ]
  }
 ],
 "metadata": {
  "kernelspec": {
   "display_name": "Python 3 (ipykernel)",
   "language": "python",
   "name": "python3"
  },
  "language_info": {
   "codemirror_mode": {
    "name": "ipython",
    "version": 3
   },
   "file_extension": ".py",
   "mimetype": "text/x-python",
   "name": "python",
   "nbconvert_exporter": "python",
   "pygments_lexer": "ipython3",
   "version": "3.9.12"
  }
 },
 "nbformat": 4,
 "nbformat_minor": 5
}
