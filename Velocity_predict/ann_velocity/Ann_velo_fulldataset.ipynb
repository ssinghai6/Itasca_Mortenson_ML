{
 "cells": [
  {
   "cell_type": "code",
   "execution_count": 1,
   "id": "f698cecb",
   "metadata": {},
   "outputs": [],
   "source": [
    "import pandas as pd\n",
    "import numpy as np\n",
    "import matplotlib.pyplot as plt\n",
    "import tensorflow as tf\n",
    "from tensorflow import keras\n",
    "from tensorflow.keras.models import Sequential"
   ]
  },
  {
   "cell_type": "code",
   "execution_count": 2,
   "id": "6be8c8cc",
   "metadata": {},
   "outputs": [
    {
     "name": "stdout",
     "output_type": "stream",
     "text": [
      "Num GPUs Available:  1\n"
     ]
    }
   ],
   "source": [
    "import tensorflow as tf\n",
    "#sess = tf.Session(config=tf.ConfigProto(log_device_placement=True))\n",
    "print(\"Num GPUs Available: \", len(tf.config.list_physical_devices('GPU')))"
   ]
  },
  {
   "cell_type": "code",
   "execution_count": 3,
   "id": "6fee37a9",
   "metadata": {},
   "outputs": [],
   "source": [
    "#Importing Input data\n",
    "data_cohesion = np.load('Inputs/4ft_cohesion.npy')\n",
    "data_friction = np.load('Inputs/4ft_friction.npy')\n",
    "data_poly = np.load('Inputs/4ft_poly_feature.npy')\n",
    "data_watertable = np.load('Inputs/4ft_water_table.npy')\n",
    "data_velo = np.load(\"Targets/4ft_velocity_plots.npy\")\n",
    "data_watertable = np.squeeze(data_watertable)"
   ]
  },
  {
   "cell_type": "code",
   "execution_count": 4,
   "id": "a5427e71",
   "metadata": {},
   "outputs": [
    {
     "name": "stdout",
     "output_type": "stream",
     "text": [
      "(144807, 16)\n",
      "(144807, 16)\n",
      "(144807,)\n",
      "(33, 33, 144807)\n"
     ]
    }
   ],
   "source": [
    "#Size\n",
    "data_cohesion = np.transpose(data_cohesion)\n",
    "data_friction = np.transpose(data_friction)\n",
    "data_watertable = np.transpose(data_watertable)\n",
    "data_watertable = np.squeeze(data_watertable)\n",
    "print(np.shape(data_cohesion))\n",
    "print(np.shape(data_friction))\n",
    "print(np.shape(data_watertable))\n",
    "print(np.shape(data_velo))\n",
    "m = np.shape(data_cohesion)[1]\n",
    "n_sim = np.shape(data_velo)[2]\n",
    "n_final_test = 0\n",
    "n_remain = n_sim - n_final_test\n",
    "mo = np.shape(data_velo)[0]"
   ]
  },
  {
   "cell_type": "code",
   "execution_count": 5,
   "id": "a6fe6cac",
   "metadata": {},
   "outputs": [],
   "source": [
    "li= []\n",
    "for i in range (n_sim):\n",
    "    temp = np.reshape(data_velo[:,:,i],(mo*mo,1))\n",
    "    li.append(temp)\n",
    "data = np.array(li)"
   ]
  },
  {
   "cell_type": "code",
   "execution_count": 6,
   "id": "206e8c5e",
   "metadata": {},
   "outputs": [],
   "source": [
    "data_arr= np.zeros((n_remain,2*m + 1))\n",
    "data_arr[0:n_remain,0:m] = data_cohesion[0:n_remain,:]\n",
    "data_arr[0:n_remain,m:2*m] = data_friction[0:n_remain,:]\n",
    "data_arr[0:n_remain,2*m] = data_watertable[0:n_remain]"
   ]
  },
  {
   "cell_type": "code",
   "execution_count": 7,
   "id": "7aaa6452",
   "metadata": {},
   "outputs": [],
   "source": [
    "data_x = data_arr\n",
    "data_y = data[0:n_remain,:,:]\n",
    "data_y = np.reshape(data_y, (n_remain,mo*mo))"
   ]
  },
  {
   "cell_type": "code",
   "execution_count": 8,
   "id": "c637d5a4",
   "metadata": {},
   "outputs": [
    {
     "data": {
      "text/plain": [
       "(144807, 1089)"
      ]
     },
     "execution_count": 8,
     "metadata": {},
     "output_type": "execute_result"
    }
   ],
   "source": [
    "np.shape(data_y)"
   ]
  },
  {
   "cell_type": "code",
   "execution_count": 9,
   "id": "6566fde5",
   "metadata": {},
   "outputs": [
    {
     "data": {
      "text/plain": [
       "(144807, 33)"
      ]
     },
     "execution_count": 9,
     "metadata": {},
     "output_type": "execute_result"
    }
   ],
   "source": [
    "np.shape(data_arr)"
   ]
  },
  {
   "cell_type": "code",
   "execution_count": 10,
   "id": "b7f47101",
   "metadata": {},
   "outputs": [
    {
     "name": "stdout",
     "output_type": "stream",
     "text": [
      "Epoch 1/200\n",
      "57/57 [==============================] - 5s 63ms/step - loss: 0.8066 - accuracy: 0.0085\n",
      "Epoch 2/200\n",
      "57/57 [==============================] - 4s 62ms/step - loss: 0.6244 - accuracy: 0.0256\n",
      "Epoch 3/200\n",
      "57/57 [==============================] - 4s 62ms/step - loss: 0.5309 - accuracy: 0.0507\n",
      "Epoch 4/200\n",
      "57/57 [==============================] - 4s 63ms/step - loss: 0.4663 - accuracy: 0.0663\n",
      "Epoch 5/200\n",
      "57/57 [==============================] - 4s 63ms/step - loss: 0.4174 - accuracy: 0.0939\n",
      "Epoch 6/200\n",
      "57/57 [==============================] - 4s 63ms/step - loss: 0.3749 - accuracy: 0.1220\n",
      "Epoch 7/200\n",
      "57/57 [==============================] - 4s 63ms/step - loss: 0.3412 - accuracy: 0.1348\n",
      "Epoch 8/200\n",
      "57/57 [==============================] - 4s 63ms/step - loss: 0.3068 - accuracy: 0.1414\n",
      "Epoch 9/200\n",
      "57/57 [==============================] - 4s 63ms/step - loss: 0.2821 - accuracy: 0.1498\n",
      "Epoch 10/200\n",
      "57/57 [==============================] - 4s 63ms/step - loss: 0.2697 - accuracy: 0.1576\n",
      "Epoch 11/200\n",
      "57/57 [==============================] - 4s 64ms/step - loss: 0.2399 - accuracy: 0.1645\n",
      "Epoch 12/200\n",
      "57/57 [==============================] - 4s 64ms/step - loss: 0.2143 - accuracy: 0.1718\n",
      "Epoch 13/200\n",
      "57/57 [==============================] - 4s 64ms/step - loss: 0.2061 - accuracy: 0.1791\n",
      "Epoch 14/200\n",
      "57/57 [==============================] - 4s 67ms/step - loss: 0.1930 - accuracy: 0.1836\n",
      "Epoch 15/200\n",
      "57/57 [==============================] - 4s 68ms/step - loss: 0.1776 - accuracy: 0.1925\n",
      "Epoch 16/200\n",
      "57/57 [==============================] - 4s 69ms/step - loss: 0.1833 - accuracy: 0.1954\n",
      "Epoch 17/200\n",
      "57/57 [==============================] - 4s 69ms/step - loss: 0.2000 - accuracy: 0.1973\n",
      "Epoch 18/200\n",
      "57/57 [==============================] - 4s 69ms/step - loss: 0.1662 - accuracy: 0.2035\n",
      "Epoch 19/200\n",
      "57/57 [==============================] - 4s 72ms/step - loss: 0.1463 - accuracy: 0.2096\n",
      "Epoch 20/200\n",
      "57/57 [==============================] - 4s 72ms/step - loss: 0.1324 - accuracy: 0.2132\n",
      "Epoch 21/200\n",
      "57/57 [==============================] - 4s 72ms/step - loss: 0.1214 - accuracy: 0.2169\n",
      "Epoch 22/200\n",
      "57/57 [==============================] - 4s 74ms/step - loss: 0.1128 - accuracy: 0.2225\n",
      "Epoch 23/200\n",
      "57/57 [==============================] - 4s 73ms/step - loss: 0.1119 - accuracy: 0.2260\n",
      "Epoch 24/200\n",
      "57/57 [==============================] - 4s 72ms/step - loss: 0.0997 - accuracy: 0.2290\n",
      "Epoch 25/200\n",
      "57/57 [==============================] - 4s 73ms/step - loss: 0.0939 - accuracy: 0.2311\n",
      "Epoch 26/200\n",
      "57/57 [==============================] - 4s 74ms/step - loss: 0.0927 - accuracy: 0.2349\n",
      "Epoch 27/200\n",
      "57/57 [==============================] - 4s 73ms/step - loss: 0.0907 - accuracy: 0.2384\n",
      "Epoch 28/200\n",
      "57/57 [==============================] - 4s 75ms/step - loss: 0.0847 - accuracy: 0.2404\n",
      "Epoch 29/200\n",
      "57/57 [==============================] - 4s 74ms/step - loss: 0.0800 - accuracy: 0.2433\n",
      "Epoch 30/200\n",
      "57/57 [==============================] - 4s 74ms/step - loss: 0.0813 - accuracy: 0.2449\n",
      "Epoch 31/200\n",
      "57/57 [==============================] - 4s 74ms/step - loss: 0.0707 - accuracy: 0.2485\n",
      "Epoch 32/200\n",
      "57/57 [==============================] - 4s 74ms/step - loss: 0.0660 - accuracy: 0.2515\n",
      "Epoch 33/200\n",
      "57/57 [==============================] - 4s 74ms/step - loss: 0.0649 - accuracy: 0.2544\n",
      "Epoch 34/200\n",
      "57/57 [==============================] - 4s 74ms/step - loss: 0.0720 - accuracy: 0.2546\n",
      "Epoch 35/200\n",
      "57/57 [==============================] - 4s 74ms/step - loss: 0.0640 - accuracy: 0.2574\n",
      "Epoch 36/200\n",
      "57/57 [==============================] - 4s 74ms/step - loss: 0.0638 - accuracy: 0.2593\n",
      "Epoch 37/200\n",
      "57/57 [==============================] - 4s 74ms/step - loss: 0.0588 - accuracy: 0.2630\n",
      "Epoch 38/200\n",
      "57/57 [==============================] - 4s 75ms/step - loss: 0.0623 - accuracy: 0.2648\n",
      "Epoch 39/200\n",
      "57/57 [==============================] - 4s 75ms/step - loss: 0.0578 - accuracy: 0.2679\n",
      "Epoch 40/200\n",
      "57/57 [==============================] - 4s 75ms/step - loss: 0.0542 - accuracy: 0.2700\n",
      "Epoch 41/200\n",
      "57/57 [==============================] - 4s 75ms/step - loss: 0.0512 - accuracy: 0.2722\n",
      "Epoch 42/200\n",
      "57/57 [==============================] - 4s 75ms/step - loss: 0.0500 - accuracy: 0.2750\n",
      "Epoch 43/200\n",
      "57/57 [==============================] - 4s 75ms/step - loss: 0.0560 - accuracy: 0.2747\n",
      "Epoch 44/200\n",
      "57/57 [==============================] - 4s 75ms/step - loss: 0.0603 - accuracy: 0.2750\n",
      "Epoch 45/200\n",
      "57/57 [==============================] - 4s 75ms/step - loss: 0.0550 - accuracy: 0.2779\n",
      "Epoch 46/200\n",
      "57/57 [==============================] - 4s 75ms/step - loss: 0.0534 - accuracy: 0.2762\n",
      "Epoch 47/200\n",
      "57/57 [==============================] - 4s 75ms/step - loss: 0.0485 - accuracy: 0.2819\n",
      "Epoch 48/200\n",
      "57/57 [==============================] - 4s 72ms/step - loss: 0.0459 - accuracy: 0.2834\n",
      "Epoch 49/200\n",
      "57/57 [==============================] - 4s 71ms/step - loss: 0.0408 - accuracy: 0.2885\n",
      "Epoch 50/200\n",
      "57/57 [==============================] - 4s 70ms/step - loss: 0.0411 - accuracy: 0.2895\n",
      "Epoch 51/200\n",
      "57/57 [==============================] - 4s 70ms/step - loss: 0.0422 - accuracy: 0.2904\n",
      "Epoch 52/200\n",
      "57/57 [==============================] - 4s 70ms/step - loss: 0.0439 - accuracy: 0.2923\n",
      "Epoch 53/200\n",
      "57/57 [==============================] - 4s 70ms/step - loss: 0.0466 - accuracy: 0.2897\n",
      "Epoch 54/200\n",
      "57/57 [==============================] - 4s 68ms/step - loss: 0.0469 - accuracy: 0.2930\n",
      "Epoch 55/200\n",
      "57/57 [==============================] - 4s 68ms/step - loss: 0.0436 - accuracy: 0.2942\n",
      "Epoch 56/200\n",
      "57/57 [==============================] - 4s 67ms/step - loss: 0.0437 - accuracy: 0.2962\n",
      "Epoch 57/200\n",
      "57/57 [==============================] - 4s 68ms/step - loss: 0.0483 - accuracy: 0.2961\n",
      "Epoch 58/200\n",
      "57/57 [==============================] - 4s 68ms/step - loss: 0.0397 - accuracy: 0.2988\n",
      "Epoch 59/200\n",
      "57/57 [==============================] - 4s 67ms/step - loss: 0.0367 - accuracy: 0.3027\n",
      "Epoch 60/200\n",
      "57/57 [==============================] - 4s 67ms/step - loss: 0.0346 - accuracy: 0.3047\n",
      "Epoch 61/200\n",
      "57/57 [==============================] - 4s 67ms/step - loss: 0.0350 - accuracy: 0.3063\n",
      "Epoch 62/200\n",
      "57/57 [==============================] - 4s 67ms/step - loss: 0.0357 - accuracy: 0.3089\n",
      "Epoch 63/200\n",
      "57/57 [==============================] - 4s 66ms/step - loss: 0.0385 - accuracy: 0.3093\n",
      "Epoch 64/200\n",
      "57/57 [==============================] - 4s 66ms/step - loss: 0.0339 - accuracy: 0.3105\n",
      "Epoch 65/200\n",
      "57/57 [==============================] - 4s 66ms/step - loss: 0.0324 - accuracy: 0.3143\n",
      "Epoch 66/200\n",
      "57/57 [==============================] - 4s 65ms/step - loss: 0.0314 - accuracy: 0.3151\n",
      "Epoch 67/200\n",
      "57/57 [==============================] - 4s 64ms/step - loss: 0.0300 - accuracy: 0.3169\n",
      "Epoch 68/200\n",
      "57/57 [==============================] - 4s 65ms/step - loss: 0.0335 - accuracy: 0.3162\n",
      "Epoch 69/200\n",
      "57/57 [==============================] - 4s 65ms/step - loss: 0.0324 - accuracy: 0.3187\n",
      "Epoch 70/200\n",
      "57/57 [==============================] - 4s 64ms/step - loss: 0.0328 - accuracy: 0.3176\n",
      "Epoch 71/200\n",
      "57/57 [==============================] - 4s 64ms/step - loss: 0.0345 - accuracy: 0.3182\n",
      "Epoch 72/200\n",
      "57/57 [==============================] - 4s 65ms/step - loss: 0.0437 - accuracy: 0.3111\n",
      "Epoch 73/200\n",
      "57/57 [==============================] - 4s 65ms/step - loss: 0.0473 - accuracy: 0.3116\n",
      "Epoch 74/200\n",
      "57/57 [==============================] - 4s 65ms/step - loss: 0.0440 - accuracy: 0.3099\n",
      "Epoch 75/200\n",
      "57/57 [==============================] - 4s 66ms/step - loss: 0.0411 - accuracy: 0.3142\n",
      "Epoch 76/200\n",
      "57/57 [==============================] - 4s 65ms/step - loss: 0.0410 - accuracy: 0.3167\n",
      "Epoch 77/200\n",
      "57/57 [==============================] - 4s 65ms/step - loss: 0.0614 - accuracy: 0.3091\n",
      "Epoch 78/200\n",
      "57/57 [==============================] - 4s 65ms/step - loss: 0.0589 - accuracy: 0.3064\n",
      "Epoch 79/200\n",
      "57/57 [==============================] - 4s 65ms/step - loss: 0.0468 - accuracy: 0.3145\n",
      "Epoch 80/200\n",
      "57/57 [==============================] - 4s 65ms/step - loss: 0.0384 - accuracy: 0.3192\n",
      "Epoch 81/200\n",
      "57/57 [==============================] - 4s 65ms/step - loss: 0.0343 - accuracy: 0.3221\n",
      "Epoch 82/200\n"
     ]
    },
    {
     "name": "stdout",
     "output_type": "stream",
     "text": [
      "57/57 [==============================] - 4s 65ms/step - loss: 0.0410 - accuracy: 0.3224\n",
      "Epoch 83/200\n",
      "57/57 [==============================] - 4s 65ms/step - loss: 0.0347 - accuracy: 0.3249\n",
      "Epoch 84/200\n",
      "57/57 [==============================] - 4s 64ms/step - loss: 0.0334 - accuracy: 0.3290\n",
      "Epoch 85/200\n",
      "57/57 [==============================] - 4s 64ms/step - loss: 0.0335 - accuracy: 0.3301\n",
      "Epoch 86/200\n",
      "57/57 [==============================] - 4s 64ms/step - loss: 0.0403 - accuracy: 0.3288\n",
      "Epoch 87/200\n",
      "57/57 [==============================] - 4s 64ms/step - loss: 0.0351 - accuracy: 0.3336\n",
      "Epoch 88/200\n",
      "57/57 [==============================] - 4s 64ms/step - loss: 0.0305 - accuracy: 0.3374\n",
      "Epoch 89/200\n",
      "57/57 [==============================] - 4s 64ms/step - loss: 0.0259 - accuracy: 0.3397\n",
      "Epoch 90/200\n",
      "57/57 [==============================] - 4s 64ms/step - loss: 0.0268 - accuracy: 0.3400\n",
      "Epoch 91/200\n",
      "57/57 [==============================] - 4s 64ms/step - loss: 0.0297 - accuracy: 0.3402\n",
      "Epoch 92/200\n",
      "57/57 [==============================] - 4s 64ms/step - loss: 0.0247 - accuracy: 0.3435\n",
      "Epoch 93/200\n",
      "57/57 [==============================] - 4s 64ms/step - loss: 0.0231 - accuracy: 0.3474\n",
      "Epoch 94/200\n",
      "57/57 [==============================] - 4s 64ms/step - loss: 0.0228 - accuracy: 0.3485\n",
      "Epoch 95/200\n",
      "57/57 [==============================] - 4s 64ms/step - loss: 0.0232 - accuracy: 0.3501\n",
      "Epoch 96/200\n",
      "57/57 [==============================] - 4s 65ms/step - loss: 0.0221 - accuracy: 0.3507\n",
      "Epoch 97/200\n",
      "57/57 [==============================] - 4s 65ms/step - loss: 0.0204 - accuracy: 0.3557\n",
      "Epoch 98/200\n",
      "57/57 [==============================] - 4s 65ms/step - loss: 0.0229 - accuracy: 0.3529\n",
      "Epoch 99/200\n",
      "57/57 [==============================] - 4s 64ms/step - loss: 0.0204 - accuracy: 0.3555\n",
      "Epoch 100/200\n",
      "57/57 [==============================] - 4s 65ms/step - loss: 0.0186 - accuracy: 0.3579\n",
      "Epoch 101/200\n",
      "57/57 [==============================] - 4s 64ms/step - loss: 0.0196 - accuracy: 0.3585\n",
      "Epoch 102/200\n",
      "57/57 [==============================] - 4s 64ms/step - loss: 0.0199 - accuracy: 0.3585\n",
      "Epoch 103/200\n",
      "57/57 [==============================] - 4s 64ms/step - loss: 0.0202 - accuracy: 0.3578\n",
      "Epoch 104/200\n",
      "57/57 [==============================] - 4s 64ms/step - loss: 0.0200 - accuracy: 0.3590\n",
      "Epoch 105/200\n",
      "57/57 [==============================] - 4s 64ms/step - loss: 0.0271 - accuracy: 0.3535\n",
      "Epoch 106/200\n",
      "57/57 [==============================] - 4s 64ms/step - loss: 0.0277 - accuracy: 0.3530\n",
      "Epoch 107/200\n",
      "57/57 [==============================] - 4s 64ms/step - loss: 0.0269 - accuracy: 0.3490\n",
      "Epoch 108/200\n",
      "57/57 [==============================] - 4s 64ms/step - loss: 0.0263 - accuracy: 0.3523\n",
      "Epoch 109/200\n",
      "57/57 [==============================] - 4s 64ms/step - loss: 0.0231 - accuracy: 0.3546\n",
      "Epoch 110/200\n",
      "57/57 [==============================] - 4s 64ms/step - loss: 0.0222 - accuracy: 0.3576\n",
      "Epoch 111/200\n",
      "57/57 [==============================] - 4s 64ms/step - loss: 0.0252 - accuracy: 0.3557\n",
      "Epoch 112/200\n",
      "57/57 [==============================] - 4s 64ms/step - loss: 0.0263 - accuracy: 0.3572\n",
      "Epoch 113/200\n",
      "57/57 [==============================] - 4s 64ms/step - loss: 0.0245 - accuracy: 0.3566\n",
      "Epoch 114/200\n",
      "57/57 [==============================] - 4s 64ms/step - loss: 0.0243 - accuracy: 0.3567\n",
      "Epoch 115/200\n",
      "57/57 [==============================] - 4s 64ms/step - loss: 0.0263 - accuracy: 0.3582\n",
      "Epoch 116/200\n",
      "57/57 [==============================] - 4s 64ms/step - loss: 0.0227 - accuracy: 0.3594\n",
      "Epoch 117/200\n",
      "57/57 [==============================] - 4s 64ms/step - loss: 0.0195 - accuracy: 0.3658\n",
      "Epoch 118/200\n",
      "57/57 [==============================] - 4s 64ms/step - loss: 0.0178 - accuracy: 0.3691\n",
      "Epoch 119/200\n",
      "57/57 [==============================] - 4s 65ms/step - loss: 0.0185 - accuracy: 0.3703\n",
      "Epoch 120/200\n",
      "57/57 [==============================] - 4s 65ms/step - loss: 0.0188 - accuracy: 0.3685\n",
      "Epoch 121/200\n",
      "57/57 [==============================] - 4s 65ms/step - loss: 0.0184 - accuracy: 0.3717\n",
      "Epoch 122/200\n",
      "57/57 [==============================] - 4s 64ms/step - loss: 0.0173 - accuracy: 0.3748\n",
      "Epoch 123/200\n",
      "57/57 [==============================] - 4s 64ms/step - loss: 0.0170 - accuracy: 0.3752\n",
      "Epoch 124/200\n",
      "57/57 [==============================] - 4s 64ms/step - loss: 0.0170 - accuracy: 0.3761\n",
      "Epoch 125/200\n",
      "57/57 [==============================] - 4s 64ms/step - loss: 0.0173 - accuracy: 0.3766\n",
      "Epoch 126/200\n",
      "57/57 [==============================] - 4s 64ms/step - loss: 0.0185 - accuracy: 0.3747\n",
      "Epoch 127/200\n",
      "57/57 [==============================] - 4s 64ms/step - loss: 0.0189 - accuracy: 0.3765\n",
      "Epoch 128/200\n",
      "57/57 [==============================] - 4s 64ms/step - loss: 0.0193 - accuracy: 0.3735\n",
      "Epoch 129/200\n",
      "57/57 [==============================] - 4s 64ms/step - loss: 0.0196 - accuracy: 0.3726\n",
      "Epoch 130/200\n",
      "57/57 [==============================] - 4s 64ms/step - loss: 0.0210 - accuracy: 0.3703\n",
      "Epoch 131/200\n",
      "57/57 [==============================] - 4s 64ms/step - loss: 0.0235 - accuracy: 0.3705\n",
      "Epoch 132/200\n",
      "57/57 [==============================] - 4s 64ms/step - loss: 0.0299 - accuracy: 0.3590\n",
      "Epoch 133/200\n",
      "57/57 [==============================] - 4s 64ms/step - loss: 0.0299 - accuracy: 0.3598\n",
      "Epoch 134/200\n",
      "57/57 [==============================] - 4s 64ms/step - loss: 0.0348 - accuracy: 0.3501\n",
      "Epoch 135/200\n",
      "57/57 [==============================] - 4s 64ms/step - loss: 0.0321 - accuracy: 0.3517\n",
      "Epoch 136/200\n",
      "57/57 [==============================] - 4s 64ms/step - loss: 0.0291 - accuracy: 0.3537\n",
      "Epoch 137/200\n",
      "57/57 [==============================] - 4s 64ms/step - loss: 0.0261 - accuracy: 0.3645\n",
      "Epoch 138/200\n",
      "57/57 [==============================] - 4s 64ms/step - loss: 0.0250 - accuracy: 0.3667\n",
      "Epoch 139/200\n",
      "57/57 [==============================] - 4s 64ms/step - loss: 0.0228 - accuracy: 0.3718\n",
      "Epoch 140/200\n",
      "57/57 [==============================] - 4s 64ms/step - loss: 0.0204 - accuracy: 0.3745\n",
      "Epoch 141/200\n",
      "57/57 [==============================] - 4s 65ms/step - loss: 0.0183 - accuracy: 0.3807\n",
      "Epoch 142/200\n",
      "57/57 [==============================] - 4s 64ms/step - loss: 0.0169 - accuracy: 0.3823\n",
      "Epoch 143/200\n",
      "57/57 [==============================] - 4s 64ms/step - loss: 0.0163 - accuracy: 0.3866\n",
      "Epoch 144/200\n",
      "57/57 [==============================] - 4s 64ms/step - loss: 0.0162 - accuracy: 0.3891\n",
      "Epoch 145/200\n",
      "57/57 [==============================] - 4s 64ms/step - loss: 0.0150 - accuracy: 0.3902\n",
      "Epoch 146/200\n",
      "57/57 [==============================] - 4s 64ms/step - loss: 0.0145 - accuracy: 0.3893\n",
      "Epoch 147/200\n",
      "57/57 [==============================] - 4s 64ms/step - loss: 0.0141 - accuracy: 0.3934\n",
      "Epoch 148/200\n",
      "57/57 [==============================] - 4s 64ms/step - loss: 0.0133 - accuracy: 0.3953\n",
      "Epoch 149/200\n",
      "57/57 [==============================] - 4s 64ms/step - loss: 0.0154 - accuracy: 0.3927\n",
      "Epoch 150/200\n",
      "57/57 [==============================] - 4s 64ms/step - loss: 0.0163 - accuracy: 0.3897\n",
      "Epoch 151/200\n",
      "57/57 [==============================] - 4s 64ms/step - loss: 0.0149 - accuracy: 0.3932\n",
      "Epoch 152/200\n",
      "57/57 [==============================] - 4s 64ms/step - loss: 0.0154 - accuracy: 0.3916\n",
      "Epoch 153/200\n",
      "57/57 [==============================] - 4s 64ms/step - loss: 0.0151 - accuracy: 0.3922\n",
      "Epoch 154/200\n",
      "57/57 [==============================] - 4s 64ms/step - loss: 0.0155 - accuracy: 0.3947\n",
      "Epoch 155/200\n",
      "57/57 [==============================] - 4s 64ms/step - loss: 0.0164 - accuracy: 0.3917\n",
      "Epoch 156/200\n",
      "57/57 [==============================] - 4s 64ms/step - loss: 0.0173 - accuracy: 0.3926\n",
      "Epoch 157/200\n",
      "57/57 [==============================] - 4s 65ms/step - loss: 0.0156 - accuracy: 0.3926\n",
      "Epoch 158/200\n",
      "57/57 [==============================] - 4s 64ms/step - loss: 0.0147 - accuracy: 0.3949\n",
      "Epoch 159/200\n",
      "57/57 [==============================] - 4s 64ms/step - loss: 0.0141 - accuracy: 0.3974\n",
      "Epoch 160/200\n",
      "57/57 [==============================] - 4s 64ms/step - loss: 0.0135 - accuracy: 0.3993\n",
      "Epoch 161/200\n",
      "57/57 [==============================] - 4s 64ms/step - loss: 0.0128 - accuracy: 0.4000\n",
      "Epoch 162/200\n"
     ]
    },
    {
     "name": "stdout",
     "output_type": "stream",
     "text": [
      "57/57 [==============================] - 4s 64ms/step - loss: 0.0128 - accuracy: 0.4024\n",
      "Epoch 163/200\n",
      "57/57 [==============================] - 4s 64ms/step - loss: 0.0129 - accuracy: 0.4023\n",
      "Epoch 164/200\n",
      "57/57 [==============================] - 4s 64ms/step - loss: 0.0130 - accuracy: 0.4018\n",
      "Epoch 165/200\n",
      "57/57 [==============================] - 4s 64ms/step - loss: 0.0128 - accuracy: 0.4026\n",
      "Epoch 166/200\n",
      "57/57 [==============================] - 4s 64ms/step - loss: 0.0128 - accuracy: 0.4035\n",
      "Epoch 167/200\n",
      "57/57 [==============================] - 4s 64ms/step - loss: 0.0131 - accuracy: 0.4040\n",
      "Epoch 168/200\n",
      "57/57 [==============================] - 4s 64ms/step - loss: 0.0143 - accuracy: 0.4014\n",
      "Epoch 169/200\n",
      "57/57 [==============================] - 4s 64ms/step - loss: 0.0154 - accuracy: 0.3965\n",
      "Epoch 170/200\n",
      "57/57 [==============================] - 4s 64ms/step - loss: 0.0164 - accuracy: 0.3957\n",
      "Epoch 171/200\n",
      "57/57 [==============================] - 4s 64ms/step - loss: 0.0188 - accuracy: 0.3910\n",
      "Epoch 172/200\n",
      "57/57 [==============================] - 4s 64ms/step - loss: 0.0195 - accuracy: 0.3898\n",
      "Epoch 173/200\n",
      "57/57 [==============================] - 4s 64ms/step - loss: 0.0203 - accuracy: 0.3904\n",
      "Epoch 174/200\n",
      "57/57 [==============================] - 4s 64ms/step - loss: 0.0203 - accuracy: 0.3827\n",
      "Epoch 175/200\n",
      "57/57 [==============================] - 4s 64ms/step - loss: 0.0225 - accuracy: 0.3832\n",
      "Epoch 176/200\n",
      "57/57 [==============================] - 4s 64ms/step - loss: 0.0236 - accuracy: 0.3799\n",
      "Epoch 177/200\n",
      "57/57 [==============================] - 4s 65ms/step - loss: 0.0269 - accuracy: 0.3753\n",
      "Epoch 178/200\n",
      "57/57 [==============================] - 4s 64ms/step - loss: 0.0288 - accuracy: 0.3745\n",
      "Epoch 179/200\n",
      "57/57 [==============================] - 4s 64ms/step - loss: 0.0278 - accuracy: 0.3687\n",
      "Epoch 180/200\n",
      "57/57 [==============================] - 4s 64ms/step - loss: 0.0264 - accuracy: 0.3776\n",
      "Epoch 181/200\n",
      "57/57 [==============================] - 4s 64ms/step - loss: 0.0389 - accuracy: 0.3645\n",
      "Epoch 182/200\n",
      "57/57 [==============================] - 4s 64ms/step - loss: 0.0330 - accuracy: 0.3778\n",
      "Epoch 183/200\n",
      "57/57 [==============================] - 4s 64ms/step - loss: 0.0248 - accuracy: 0.3774\n",
      "Epoch 184/200\n",
      "57/57 [==============================] - 4s 64ms/step - loss: 0.0207 - accuracy: 0.3878\n",
      "Epoch 185/200\n",
      "57/57 [==============================] - 4s 64ms/step - loss: 0.0192 - accuracy: 0.3947\n",
      "Epoch 186/200\n",
      "57/57 [==============================] - 4s 64ms/step - loss: 0.0157 - accuracy: 0.4041\n",
      "Epoch 187/200\n",
      "57/57 [==============================] - 4s 64ms/step - loss: 0.0147 - accuracy: 0.4035\n",
      "Epoch 188/200\n",
      "57/57 [==============================] - 4s 64ms/step - loss: 0.0149 - accuracy: 0.4083\n",
      "Epoch 189/200\n",
      "57/57 [==============================] - 4s 64ms/step - loss: 0.0161 - accuracy: 0.4036\n",
      "Epoch 190/200\n",
      "57/57 [==============================] - 4s 64ms/step - loss: 0.0148 - accuracy: 0.4100\n",
      "Epoch 191/200\n",
      "57/57 [==============================] - 4s 64ms/step - loss: 0.0228 - accuracy: 0.4004\n",
      "Epoch 192/200\n",
      "57/57 [==============================] - 4s 64ms/step - loss: 0.0165 - accuracy: 0.3984\n",
      "Epoch 193/200\n",
      "57/57 [==============================] - 4s 64ms/step - loss: 0.0155 - accuracy: 0.4081\n",
      "Epoch 194/200\n",
      "57/57 [==============================] - 4s 64ms/step - loss: 0.0156 - accuracy: 0.4122\n",
      "Epoch 195/200\n",
      "57/57 [==============================] - 4s 64ms/step - loss: 0.0209 - accuracy: 0.4009\n",
      "Epoch 196/200\n",
      "57/57 [==============================] - 4s 64ms/step - loss: 0.0260 - accuracy: 0.3948\n",
      "Epoch 197/200\n",
      "57/57 [==============================] - 4s 64ms/step - loss: 0.0242 - accuracy: 0.3834\n",
      "Epoch 198/200\n",
      "57/57 [==============================] - 4s 64ms/step - loss: 0.0232 - accuracy: 0.3916\n",
      "Epoch 199/200\n",
      "57/57 [==============================] - 4s 64ms/step - loss: 0.0258 - accuracy: 0.3901\n",
      "Epoch 200/200\n",
      "57/57 [==============================] - 4s 64ms/step - loss: 0.0331 - accuracy: 0.3833\n"
     ]
    },
    {
     "data": {
      "text/plain": [
       "<keras.callbacks.History at 0x1d9e6945f70>"
      ]
     },
     "execution_count": 10,
     "metadata": {},
     "output_type": "execute_result"
    }
   ],
   "source": [
    "import pandas as pd\n",
    "import numpy as np\n",
    "import matplotlib.pyplot as plt\n",
    "import tensorflow as tf\n",
    "from tensorflow import keras\n",
    "from tensorflow.keras.models import Sequential\n",
    "from sklearn.model_selection import train_test_split\n",
    "x_train, x_test, y_train, y_test = train_test_split(data_x, data_y, test_size=0.2, random_state = 42)\n",
    "from sklearn.preprocessing import StandardScaler\n",
    "sc = StandardScaler()\n",
    "x_train = sc.fit_transform(x_train)\n",
    "x_test = sc.fit_transform(x_test)\n",
    "y_train = sc.fit_transform(y_train)\n",
    "y_test = sc.fit_transform(y_test)\n",
    "ann1 = tf.keras.models.Sequential()\n",
    "ann1.add(tf.keras.layers.Dense(units = 4096,activation = 'relu'))\n",
    "ann1.add(tf.keras.layers.Dense(units = 4096,activation = 'relu'))\n",
    "ann1.add(tf.keras.layers.Dense(units = 2048,activation = 'relu'))\n",
    "ann1.add(tf.keras.layers.Dense(units = 1024,activation = 'relu'))\n",
    "#Output Layer\n",
    "ann1.add(tf.keras.layers.Dense(units = 1089 , activation = 'linear'))\n",
    "ann1.compile(optimizer = 'adam', loss = 'mean_squared_error',metrics = ['accuracy'] )\n",
    "ann1.fit(x_train,y_train,batch_size = 2048, epochs = 200)\n",
    "#ann1.save('ann_velo_final_1.h5')"
   ]
  },
  {
   "cell_type": "code",
   "execution_count": 11,
   "id": "2c4c5c28",
   "metadata": {},
   "outputs": [
    {
     "name": "stdout",
     "output_type": "stream",
     "text": [
      "906/906 [==============================] - 2s 2ms/step\n"
     ]
    },
    {
     "data": {
      "text/plain": [
       "0.6543499371097048"
      ]
     },
     "execution_count": 11,
     "metadata": {},
     "output_type": "execute_result"
    }
   ],
   "source": [
    "y_pred = ann1.predict(x_test)\n",
    "y_pred = sc.inverse_transform(y_pred)\n",
    "y_actual = sc.inverse_transform(y_test)\n",
    "from sklearn.metrics import r2_score,mean_absolute_error,mean_squared_error\n",
    "r2 = r2_score(y_actual,y_pred)\n",
    "r2"
   ]
  },
  {
   "cell_type": "code",
   "execution_count": 12,
   "id": "d4dd151f",
   "metadata": {},
   "outputs": [
    {
     "data": {
      "text/plain": [
       "(1089,)"
      ]
     },
     "execution_count": 12,
     "metadata": {},
     "output_type": "execute_result"
    }
   ],
   "source": [
    "np.shape(y_pred[0,:])"
   ]
  },
  {
   "cell_type": "code",
   "execution_count": 119,
   "id": "6b265808",
   "metadata": {},
   "outputs": [
    {
     "data": {
      "image/png": "[encoded data removed]",
      "text/plain": [
       "<Figure size 432x288 with 2 Axes>"
      ]
     },
     "metadata": {
      "needs_background": "light"
     },
     "output_type": "display_data"
    },
    {
     "data": {
      "image/png": "[encoded data removed]",
      "text/plain": [
       "<Figure size 432x288 with 2 Axes>"
      ]
     },
     "metadata": {
      "needs_background": "light"
     },
     "output_type": "display_data"
    }
   ],
   "source": [
    "case = 4111\n",
    "a = np.reshape(y_pred[case,:],(33,33))\n",
    "b = np.reshape(y_actual[case,:],(33,33))\n",
    "fig, ax1 = plt.subplots()\n",
    "im1 = ax1.imshow(a, interpolation='nearest', aspect=0.5)\n",
    "fig.colorbar(im1)\n",
    "plt.title(\"Velocity field - ML PREDICTION\")\n",
    "fig, ax2 = plt.subplots()\n",
    "im2 = ax2.imshow(b, interpolation='nearest',aspect = 0.5)\n",
    "fig.colorbar(im2)\n",
    "plt.title(\"Velocity field - SIMULATION\")\n",
    "plt.show()\n",
    "plt.show()"
   ]
  },
  {
   "cell_type": "code",
   "execution_count": null,
   "id": "80dd7b1e",
   "metadata": {},
   "outputs": [],
   "source": []
  }
 ],
 "metadata": {
  "kernelspec": {
   "display_name": "Python 3 (ipykernel)",
   "language": "python",
   "name": "python3"
  },
  "language_info": {
   "codemirror_mode": {
    "name": "ipython",
    "version": 3
   },
   "file_extension": ".py",
   "mimetype": "text/x-python",
   "name": "python",
   "nbconvert_exporter": "python",
   "pygments_lexer": "ipython3",
   "version": "3.9.12"
  }
 },
 "nbformat": 4,
 "nbformat_minor": 5
}
