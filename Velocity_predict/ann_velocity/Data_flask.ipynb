{
 "cells": [
  {
   "cell_type": "code",
   "execution_count": 1,
   "id": "36186ff5",
   "metadata": {},
   "outputs": [],
   "source": [
    "import pandas as pd\n",
    "import numpy as np\n",
    "import matplotlib.pyplot as plt\n",
    "import tensorflow as tf\n",
    "from tensorflow import keras\n",
    "from tensorflow.keras.models import Sequential"
   ]
  },
  {
   "cell_type": "code",
   "execution_count": 2,
   "id": "10e71c4b",
   "metadata": {},
   "outputs": [],
   "source": [
    "#Importing Input data\n",
    "data_cohesion = np.load('Inputs/4ft_cohesion.npy')\n",
    "data_friction = np.load('Inputs/4ft_friction.npy')\n",
    "data_poly = np.load('Inputs/4ft_poly_feature.npy')\n",
    "data_watertable = np.load('Inputs/4ft_water_table.npy')\n",
    "data_velo = np.load(\"Targets/4ft_velocity_plots.npy\")\n",
    "data_watertable = np.squeeze(data_watertable)\n",
    "data_velo = np.load(\"Targets/4ft_velocity_plots.npy\")"
   ]
  },
  {
   "cell_type": "code",
   "execution_count": 3,
   "id": "6d61b93f",
   "metadata": {},
   "outputs": [
    {
     "name": "stdout",
     "output_type": "stream",
     "text": [
      "(236091, 16)\n",
      "(236091, 16)\n",
      "(236091,)\n",
      "(33, 33, 236091)\n"
     ]
    }
   ],
   "source": [
    "#Size\n",
    "data_cohesion = np.transpose(data_cohesion)\n",
    "data_friction = np.transpose(data_friction)\n",
    "data_watertable = np.transpose(data_watertable)\n",
    "data_watertable = np.squeeze(data_watertable)\n",
    "data_velo = data_velo[0:33,:,:]\n",
    "print(np.shape(data_cohesion))\n",
    "print(np.shape(data_friction))\n",
    "print(np.shape(data_watertable))\n",
    "print(np.shape(data_velo))\n",
    "m = np.shape(data_cohesion)[1]\n",
    "n_sim = np.shape(data_velo)[2]\n",
    "n_final_test = 0\n",
    "n_remain = n_sim - n_final_test\n",
    "mo = np.shape(data_velo)[0]"
   ]
  },
  {
   "cell_type": "code",
   "execution_count": 4,
   "id": "8fbc1350",
   "metadata": {},
   "outputs": [],
   "source": [
    "data_arr= np.zeros((n_remain,2*m + 1))\n",
    "data_arr[0:n_remain,0:m] = data_cohesion[0:n_remain,:]\n",
    "data_arr[0:n_remain,m:2*m] = data_friction[0:n_remain,:]\n",
    "data_arr[0:n_remain,2*m] = data_watertable[0:n_remain]"
   ]
  },
  {
   "cell_type": "code",
   "execution_count": 5,
   "id": "419db169",
   "metadata": {},
   "outputs": [],
   "source": [
    "li= []\n",
    "for i in range (n_sim):\n",
    "    temp = np.reshape(data_velo[:,:,i],(mo*mo,1))\n",
    "    li.append(temp)\n",
    "data = np.array(li)\n",
    "data_y = data[0:n_remain,:,:]\n",
    "data_y = np.reshape(data_y, (n_remain,mo*mo))"
   ]
  },
  {
   "cell_type": "code",
   "execution_count": 6,
   "id": "97a51084",
   "metadata": {},
   "outputs": [],
   "source": [
    "data_y1 = np.zeros((np.shape(data_y)))\n",
    "for i in range(n_sim):\n",
    "    data_y1[i,:] = data_y[i,:]/np.max(data_y[i,:]) "
   ]
  },
  {
   "cell_type": "code",
   "execution_count": 7,
   "id": "67fe38dc",
   "metadata": {},
   "outputs": [],
   "source": [
    "case = 11\n",
    "b = np.reshape(data_y1[case,:],(33,33))\n",
    "a = data_arr[case]\n",
    "\n",
    "np.save('actual.npy',b)\n",
    "np.save('input.npy',a)"
   ]
  },
  {
   "cell_type": "code",
   "execution_count": 8,
   "id": "c96d5f22",
   "metadata": {},
   "outputs": [
    {
     "data": {
      "text/html": [
       "<div>\n",
       "<style scoped>\n",
       "    .dataframe tbody tr th:only-of-type {\n",
       "        vertical-align: middle;\n",
       "    }\n",
       "\n",
       "    .dataframe tbody tr th {\n",
       "        vertical-align: top;\n",
       "    }\n",
       "\n",
       "    .dataframe thead th {\n",
       "        text-align: right;\n",
       "    }\n",
       "</style>\n",
       "<table border=\"1\" class=\"dataframe\">\n",
       "  <thead>\n",
       "    <tr style=\"text-align: right;\">\n",
       "      <th></th>\n",
       "      <th>Cohesion</th>\n",
       "      <th>Friction</th>\n",
       "      <th>Water Table</th>\n",
       "    </tr>\n",
       "  </thead>\n",
       "  <tbody>\n",
       "    <tr>\n",
       "      <th>0</th>\n",
       "      <td>0.000000</td>\n",
       "      <td>32.347001</td>\n",
       "      <td>0.853807</td>\n",
       "    </tr>\n",
       "    <tr>\n",
       "      <th>1</th>\n",
       "      <td>0.000000</td>\n",
       "      <td>37.364651</td>\n",
       "      <td>0.853807</td>\n",
       "    </tr>\n",
       "    <tr>\n",
       "      <th>2</th>\n",
       "      <td>0.000000</td>\n",
       "      <td>39.617031</td>\n",
       "      <td>0.853807</td>\n",
       "    </tr>\n",
       "    <tr>\n",
       "      <th>3</th>\n",
       "      <td>0.000000</td>\n",
       "      <td>36.102059</td>\n",
       "      <td>0.853807</td>\n",
       "    </tr>\n",
       "    <tr>\n",
       "      <th>4</th>\n",
       "      <td>219547.682447</td>\n",
       "      <td>0.000000</td>\n",
       "      <td>0.853807</td>\n",
       "    </tr>\n",
       "    <tr>\n",
       "      <th>5</th>\n",
       "      <td>31621.597031</td>\n",
       "      <td>0.000000</td>\n",
       "      <td>0.853807</td>\n",
       "    </tr>\n",
       "    <tr>\n",
       "      <th>6</th>\n",
       "      <td>0.000000</td>\n",
       "      <td>39.043152</td>\n",
       "      <td>0.853807</td>\n",
       "    </tr>\n",
       "    <tr>\n",
       "      <th>7</th>\n",
       "      <td>322911.890713</td>\n",
       "      <td>0.000000</td>\n",
       "      <td>0.853807</td>\n",
       "    </tr>\n",
       "    <tr>\n",
       "      <th>8</th>\n",
       "      <td>0.000000</td>\n",
       "      <td>39.199453</td>\n",
       "      <td>0.853807</td>\n",
       "    </tr>\n",
       "    <tr>\n",
       "      <th>9</th>\n",
       "      <td>0.000000</td>\n",
       "      <td>32.662891</td>\n",
       "      <td>0.853807</td>\n",
       "    </tr>\n",
       "    <tr>\n",
       "      <th>10</th>\n",
       "      <td>231845.821937</td>\n",
       "      <td>0.000000</td>\n",
       "      <td>0.853807</td>\n",
       "    </tr>\n",
       "    <tr>\n",
       "      <th>11</th>\n",
       "      <td>24802.793513</td>\n",
       "      <td>0.000000</td>\n",
       "      <td>0.853807</td>\n",
       "    </tr>\n",
       "    <tr>\n",
       "      <th>12</th>\n",
       "      <td>217043.217088</td>\n",
       "      <td>0.000000</td>\n",
       "      <td>0.853807</td>\n",
       "    </tr>\n",
       "    <tr>\n",
       "      <th>13</th>\n",
       "      <td>108893.162232</td>\n",
       "      <td>0.000000</td>\n",
       "      <td>0.853807</td>\n",
       "    </tr>\n",
       "    <tr>\n",
       "      <th>14</th>\n",
       "      <td>0.000000</td>\n",
       "      <td>36.629467</td>\n",
       "      <td>0.853807</td>\n",
       "    </tr>\n",
       "    <tr>\n",
       "      <th>15</th>\n",
       "      <td>106493.504304</td>\n",
       "      <td>0.000000</td>\n",
       "      <td>0.853807</td>\n",
       "    </tr>\n",
       "  </tbody>\n",
       "</table>\n",
       "</div>"
      ],
      "text/plain": [
       "         Cohesion   Friction  Water Table\n",
       "0        0.000000  32.347001     0.853807\n",
       "1        0.000000  37.364651     0.853807\n",
       "2        0.000000  39.617031     0.853807\n",
       "3        0.000000  36.102059     0.853807\n",
       "4   219547.682447   0.000000     0.853807\n",
       "5    31621.597031   0.000000     0.853807\n",
       "6        0.000000  39.043152     0.853807\n",
       "7   322911.890713   0.000000     0.853807\n",
       "8        0.000000  39.199453     0.853807\n",
       "9        0.000000  32.662891     0.853807\n",
       "10  231845.821937   0.000000     0.853807\n",
       "11   24802.793513   0.000000     0.853807\n",
       "12  217043.217088   0.000000     0.853807\n",
       "13  108893.162232   0.000000     0.853807\n",
       "14       0.000000  36.629467     0.853807\n",
       "15  106493.504304   0.000000     0.853807"
      ]
     },
     "execution_count": 8,
     "metadata": {},
     "output_type": "execute_result"
    }
   ],
   "source": [
    "df = pd.DataFrame({\"Cohesion\":a[0:16],\"Friction\":a[16:32],\"Water Table\": a[32]})\n",
    "df"
   ]
  },
  {
   "cell_type": "code",
   "execution_count": 9,
   "id": "a4809747",
   "metadata": {},
   "outputs": [
    {
     "data": {
      "text/plain": [
       "<matplotlib.image.AxesImage at 0x275e54e08b0>"
      ]
     },
     "execution_count": 9,
     "metadata": {},
     "output_type": "execute_result"
    },
    {
     "data": {
      "image/png": "[encoded data removed]",
      "text/plain": [
       "<Figure size 432x288 with 1 Axes>"
      ]
     },
     "metadata": {
      "needs_background": "light"
     },
     "output_type": "display_data"
    }
   ],
   "source": [
    "plt.imshow(b, aspect =0.5)"
   ]
  },
  {
   "cell_type": "code",
   "execution_count": 10,
   "id": "2e914ad7",
   "metadata": {},
   "outputs": [
    {
     "data": {
      "text/plain": [
       "array([0.00000000e+00, 0.00000000e+00, 0.00000000e+00, 0.00000000e+00,\n",
       "       2.19547682e+05, 3.16215970e+04, 0.00000000e+00, 3.22911891e+05,\n",
       "       0.00000000e+00, 0.00000000e+00, 2.31845822e+05, 2.48027935e+04,\n",
       "       2.17043217e+05, 1.08893162e+05, 0.00000000e+00, 1.06493504e+05,\n",
       "       3.23470005e+01, 3.73646508e+01, 3.96170309e+01, 3.61020589e+01,\n",
       "       0.00000000e+00, 0.00000000e+00, 3.90431519e+01, 0.00000000e+00,\n",
       "       3.91994534e+01, 3.26628907e+01, 0.00000000e+00, 0.00000000e+00,\n",
       "       0.00000000e+00, 0.00000000e+00, 3.66294665e+01, 0.00000000e+00,\n",
       "       8.53806714e-01])"
      ]
     },
     "execution_count": 10,
     "metadata": {},
     "output_type": "execute_result"
    }
   ],
   "source": [
    "a"
   ]
  },
  {
   "cell_type": "code",
   "execution_count": 11,
   "id": "9907aeb2",
   "metadata": {},
   "outputs": [],
   "source": [
    "from pickle import load\n",
    "scaler = load(open('scaler.pkl', 'rb'))\n",
    "a = scaler.transform(a.reshape(-1,1))"
   ]
  },
  {
   "cell_type": "code",
   "execution_count": 12,
   "id": "8931981d",
   "metadata": {},
   "outputs": [
    {
     "data": {
      "text/plain": [
       "array([[-0.85137752],\n",
       "       [-0.85137752],\n",
       "       [-0.85137752],\n",
       "       [-0.85137752],\n",
       "       [ 0.54146879],\n",
       "       [-0.65076495],\n",
       "       [-0.85137752],\n",
       "       [ 1.19722819],\n",
       "       [-0.85137752],\n",
       "       [-0.85137752],\n",
       "       [ 0.61949019],\n",
       "       [-0.69402455],\n",
       "       [ 0.52558005],\n",
       "       [-0.16054154],\n",
       "       [-0.85137752],\n",
       "       [-0.17576536],\n",
       "       [-0.8511723 ],\n",
       "       [-0.85114047],\n",
       "       [-0.85112618],\n",
       "       [-0.85114848],\n",
       "       [-0.85137752],\n",
       "       [-0.85137752],\n",
       "       [-0.85112982],\n",
       "       [-0.85137752],\n",
       "       [-0.85112883],\n",
       "       [-0.8511703 ],\n",
       "       [-0.85137752],\n",
       "       [-0.85137752],\n",
       "       [-0.85137752],\n",
       "       [-0.85137752],\n",
       "       [-0.85114513],\n",
       "       [-0.85137752],\n",
       "       [-0.8513721 ]])"
      ]
     },
     "execution_count": 12,
     "metadata": {},
     "output_type": "execute_result"
    }
   ],
   "source": [
    "a"
   ]
  },
  {
   "cell_type": "code",
   "execution_count": 13,
   "id": "12448bff",
   "metadata": {},
   "outputs": [
    {
     "data": {
      "text/plain": [
       "array([[0.00000000e+00],\n",
       "       [0.00000000e+00],\n",
       "       [0.00000000e+00],\n",
       "       [0.00000000e+00],\n",
       "       [2.19547682e+05],\n",
       "       [3.16215970e+04],\n",
       "       [0.00000000e+00],\n",
       "       [3.22911891e+05],\n",
       "       [0.00000000e+00],\n",
       "       [0.00000000e+00],\n",
       "       [2.31845822e+05],\n",
       "       [2.48027935e+04],\n",
       "       [2.17043217e+05],\n",
       "       [1.08893162e+05],\n",
       "       [0.00000000e+00],\n",
       "       [1.06493504e+05],\n",
       "       [3.23470005e+01],\n",
       "       [3.73646508e+01],\n",
       "       [3.96170309e+01],\n",
       "       [3.61020589e+01],\n",
       "       [0.00000000e+00],\n",
       "       [0.00000000e+00],\n",
       "       [3.90431519e+01],\n",
       "       [0.00000000e+00],\n",
       "       [3.91994534e+01],\n",
       "       [3.26628907e+01],\n",
       "       [0.00000000e+00],\n",
       "       [0.00000000e+00],\n",
       "       [0.00000000e+00],\n",
       "       [0.00000000e+00],\n",
       "       [3.66294665e+01],\n",
       "       [0.00000000e+00],\n",
       "       [8.53806714e-01]])"
      ]
     },
     "execution_count": 13,
     "metadata": {},
     "output_type": "execute_result"
    }
   ],
   "source": [
    "scaler.inverse_transform(a)"
   ]
  },
  {
   "cell_type": "code",
   "execution_count": null,
   "id": "0e6ae136",
   "metadata": {},
   "outputs": [],
   "source": []
  },
  {
   "cell_type": "code",
   "execution_count": null,
   "id": "f41dd0f3",
   "metadata": {},
   "outputs": [],
   "source": []
  }
 ],
 "metadata": {
  "kernelspec": {
   "display_name": "Python 3 (ipykernel)",
   "language": "python",
   "name": "python3"
  },
  "language_info": {
   "codemirror_mode": {
    "name": "ipython",
    "version": 3
   },
   "file_extension": ".py",
   "mimetype": "text/x-python",
   "name": "python",
   "nbconvert_exporter": "python",
   "pygments_lexer": "ipython3",
   "version": "3.9.12"
  }
 },
 "nbformat": 4,
 "nbformat_minor": 5
}
