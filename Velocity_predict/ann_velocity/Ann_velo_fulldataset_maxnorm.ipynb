{
 "cells": [
  {
   "cell_type": "code",
   "execution_count": 116,
   "id": "f698cecb",
   "metadata": {},
   "outputs": [],
   "source": [
    "import pandas as pd\n",
    "import numpy as np\n",
    "import matplotlib.pyplot as plt\n",
    "import tensorflow as tf\n",
    "from tensorflow import keras\n",
    "from tensorflow.keras.models import Sequential\n",
    "from sklearn.datasets import make_blobs\n",
    "from sklearn.model_selection import train_test_split\n",
    "from sklearn.preprocessing import MinMaxScaler\n",
    "from sklearn.linear_model import LogisticRegression\n",
    "from pickle import dump"
   ]
  },
  {
   "cell_type": "code",
   "execution_count": 2,
   "id": "6be8c8cc",
   "metadata": {},
   "outputs": [
    {
     "name": "stdout",
     "output_type": "stream",
     "text": [
      "Num GPUs Available:  1\n"
     ]
    }
   ],
   "source": [
    "import tensorflow as tf\n",
    "#sess = tf.Session(config=tf.ConfigProto(log_device_placement=True))\n",
    "print(\"Num GPUs Available: \", len(tf.config.list_physical_devices('GPU')))"
   ]
  },
  {
   "cell_type": "code",
   "execution_count": 3,
   "id": "6fee37a9",
   "metadata": {},
   "outputs": [],
   "source": [
    "#Importing Input data\n",
    "data_cohesion = np.load('Inputs/4ft_cohesion.npy')\n",
    "data_friction = np.load('Inputs/4ft_friction.npy')\n",
    "data_poly = np.load('Inputs/4ft_poly_feature.npy')\n",
    "data_watertable = np.load('Inputs/4ft_water_table.npy')\n",
    "data_velo = np.load(\"Targets/4ft_velocity_plots.npy\")\n",
    "data_watertable = np.squeeze(data_watertable)"
   ]
  },
  {
   "cell_type": "code",
   "execution_count": 4,
   "id": "a5427e71",
   "metadata": {},
   "outputs": [
    {
     "name": "stdout",
     "output_type": "stream",
     "text": [
      "(144807, 16)\n",
      "(144807, 16)\n",
      "(144807,)\n",
      "(33, 33, 144807)\n"
     ]
    }
   ],
   "source": [
    "#Size\n",
    "data_cohesion = np.transpose(data_cohesion)\n",
    "data_friction = np.transpose(data_friction)\n",
    "data_watertable = np.transpose(data_watertable)\n",
    "data_watertable = np.squeeze(data_watertable)\n",
    "print(np.shape(data_cohesion))\n",
    "print(np.shape(data_friction))\n",
    "print(np.shape(data_watertable))\n",
    "print(np.shape(data_velo))\n",
    "m = np.shape(data_cohesion)[1]\n",
    "n_sim = np.shape(data_velo)[2]\n",
    "n_final_test = 0\n",
    "n_remain = n_sim - n_final_test\n",
    "mo = np.shape(data_velo)[0]"
   ]
  },
  {
   "cell_type": "code",
   "execution_count": 5,
   "id": "a6fe6cac",
   "metadata": {},
   "outputs": [],
   "source": [
    "li= []\n",
    "for i in range (n_sim):\n",
    "    temp = np.reshape(data_velo[:,:,i],(mo*mo,1))\n",
    "    li.append(temp)\n",
    "data = np.array(li)"
   ]
  },
  {
   "cell_type": "code",
   "execution_count": 6,
   "id": "206e8c5e",
   "metadata": {},
   "outputs": [],
   "source": [
    "data_arr= np.zeros((n_remain,2*m + 1))\n",
    "data_arr[0:n_remain,0:m] = data_cohesion[0:n_remain,:]\n",
    "data_arr[0:n_remain,m:2*m] = data_friction[0:n_remain,:]\n",
    "data_arr[0:n_remain,2*m] = data_watertable[0:n_remain]"
   ]
  },
  {
   "cell_type": "code",
   "execution_count": 7,
   "id": "7aaa6452",
   "metadata": {},
   "outputs": [],
   "source": [
    "data_x = data_arr\n",
    "data_y = data[0:n_remain,:,:]\n",
    "data_y = np.reshape(data_y, (n_remain,mo*mo))"
   ]
  },
  {
   "cell_type": "code",
   "execution_count": 8,
   "id": "c637d5a4",
   "metadata": {},
   "outputs": [
    {
     "data": {
      "text/plain": [
       "(144807, 1089)"
      ]
     },
     "execution_count": 8,
     "metadata": {},
     "output_type": "execute_result"
    }
   ],
   "source": [
    "np.shape(data_y)"
   ]
  },
  {
   "cell_type": "code",
   "execution_count": 9,
   "id": "a114d077",
   "metadata": {},
   "outputs": [],
   "source": [
    "data_y1 = np.zeros((np.shape(data_y)))\n",
    "for i in range(n_sim):\n",
    "    data_y1[i,:] = data_y[i,:]/np.max(data_y[i,:]) \n",
    "    "
   ]
  },
  {
   "cell_type": "code",
   "execution_count": 10,
   "id": "6566fde5",
   "metadata": {},
   "outputs": [
    {
     "data": {
      "text/plain": [
       "(144807, 33)"
      ]
     },
     "execution_count": 10,
     "metadata": {},
     "output_type": "execute_result"
    }
   ],
   "source": [
    "np.shape(data_arr)"
   ]
  },
  {
   "cell_type": "code",
   "execution_count": 11,
   "id": "b7f47101",
   "metadata": {},
   "outputs": [
    {
     "name": "stdout",
     "output_type": "stream",
     "text": [
      "Epoch 1/100\n",
      "57/57 [==============================] - 5s 63ms/step - loss: 0.0216 - accuracy: 0.0229\n",
      "Epoch 2/100\n",
      "57/57 [==============================] - 4s 63ms/step - loss: 0.0127 - accuracy: 0.0605\n",
      "Epoch 3/100\n",
      "57/57 [==============================] - 4s 63ms/step - loss: 0.0098 - accuracy: 0.0885\n",
      "Epoch 4/100\n",
      "57/57 [==============================] - 4s 63ms/step - loss: 0.0073 - accuracy: 0.1608\n",
      "Epoch 5/100\n",
      "57/57 [==============================] - 4s 63ms/step - loss: 0.0059 - accuracy: 0.2276\n",
      "Epoch 6/100\n",
      "57/57 [==============================] - 4s 63ms/step - loss: 0.0048 - accuracy: 0.2623\n",
      "Epoch 7/100\n",
      "57/57 [==============================] - 4s 64ms/step - loss: 0.0043 - accuracy: 0.2840\n",
      "Epoch 8/100\n",
      "57/57 [==============================] - 4s 67ms/step - loss: 0.0036 - accuracy: 0.3022\n",
      "Epoch 9/100\n",
      "57/57 [==============================] - 4s 69ms/step - loss: 0.0033 - accuracy: 0.3114\n",
      "Epoch 10/100\n",
      "57/57 [==============================] - 4s 73ms/step - loss: 0.0029 - accuracy: 0.3223\n",
      "Epoch 11/100\n",
      "57/57 [==============================] - 4s 73ms/step - loss: 0.0026 - accuracy: 0.3302\n",
      "Epoch 12/100\n",
      "57/57 [==============================] - 4s 73ms/step - loss: 0.0023 - accuracy: 0.3401\n",
      "Epoch 13/100\n",
      "57/57 [==============================] - 4s 73ms/step - loss: 0.0022 - accuracy: 0.3464\n",
      "Epoch 14/100\n",
      "57/57 [==============================] - 4s 74ms/step - loss: 0.0021 - accuracy: 0.3528\n",
      "Epoch 15/100\n",
      "57/57 [==============================] - 4s 73ms/step - loss: 0.0019 - accuracy: 0.3585\n",
      "Epoch 16/100\n",
      "57/57 [==============================] - 4s 76ms/step - loss: 0.0017 - accuracy: 0.3674\n",
      "Epoch 17/100\n",
      "57/57 [==============================] - 4s 74ms/step - loss: 0.0016 - accuracy: 0.3735\n",
      "Epoch 18/100\n",
      "57/57 [==============================] - 4s 74ms/step - loss: 0.0015 - accuracy: 0.3789\n",
      "Epoch 19/100\n",
      "57/57 [==============================] - 4s 77ms/step - loss: 0.0014 - accuracy: 0.3870\n",
      "Epoch 20/100\n",
      "57/57 [==============================] - 4s 77ms/step - loss: 0.0013 - accuracy: 0.3924\n",
      "Epoch 21/100\n",
      "57/57 [==============================] - 4s 77ms/step - loss: 0.0012 - accuracy: 0.3962\n",
      "Epoch 22/100\n",
      "57/57 [==============================] - 4s 77ms/step - loss: 0.0012 - accuracy: 0.4008\n",
      "Epoch 23/100\n",
      "57/57 [==============================] - 4s 77ms/step - loss: 0.0012 - accuracy: 0.4055\n",
      "Epoch 24/100\n",
      "57/57 [==============================] - 4s 77ms/step - loss: 0.0011 - accuracy: 0.4088\n",
      "Epoch 25/100\n",
      "57/57 [==============================] - 4s 78ms/step - loss: 0.0010 - accuracy: 0.4148\n",
      "Epoch 26/100\n",
      "57/57 [==============================] - 4s 77ms/step - loss: 9.8758e-04 - accuracy: 0.4168\n",
      "Epoch 27/100\n",
      "57/57 [==============================] - 4s 78ms/step - loss: 9.4701e-04 - accuracy: 0.4218\n",
      "Epoch 28/100\n",
      "57/57 [==============================] - 4s 78ms/step - loss: 9.2158e-04 - accuracy: 0.4244\n",
      "Epoch 29/100\n",
      "57/57 [==============================] - 4s 73ms/step - loss: 8.7041e-04 - accuracy: 0.4283\n",
      "Epoch 30/100\n",
      "57/57 [==============================] - 4s 73ms/step - loss: 8.4668e-04 - accuracy: 0.4312\n",
      "Epoch 31/100\n",
      "57/57 [==============================] - 4s 71ms/step - loss: 8.4454e-04 - accuracy: 0.4314\n",
      "Epoch 32/100\n",
      "57/57 [==============================] - 4s 71ms/step - loss: 8.1551e-04 - accuracy: 0.4371\n",
      "Epoch 33/100\n",
      "57/57 [==============================] - 4s 71ms/step - loss: 7.9143e-04 - accuracy: 0.4386\n",
      "Epoch 34/100\n",
      "57/57 [==============================] - 4s 71ms/step - loss: 7.5815e-04 - accuracy: 0.4423\n",
      "Epoch 35/100\n",
      "57/57 [==============================] - 4s 71ms/step - loss: 7.6093e-04 - accuracy: 0.4441\n",
      "Epoch 36/100\n",
      "57/57 [==============================] - 4s 70ms/step - loss: 7.4219e-04 - accuracy: 0.4449\n",
      "Epoch 37/100\n",
      "57/57 [==============================] - 4s 70ms/step - loss: 7.2969e-04 - accuracy: 0.4482\n",
      "Epoch 38/100\n",
      "57/57 [==============================] - 4s 70ms/step - loss: 7.0904e-04 - accuracy: 0.4509\n",
      "Epoch 39/100\n",
      "57/57 [==============================] - 4s 69ms/step - loss: 7.0812e-04 - accuracy: 0.4505\n",
      "Epoch 40/100\n",
      "57/57 [==============================] - 4s 70ms/step - loss: 6.9625e-04 - accuracy: 0.4520\n",
      "Epoch 41/100\n",
      "57/57 [==============================] - 4s 69ms/step - loss: 6.4360e-04 - accuracy: 0.4589\n",
      "Epoch 42/100\n",
      "57/57 [==============================] - 4s 69ms/step - loss: 6.1599e-04 - accuracy: 0.4601\n",
      "Epoch 43/100\n",
      "57/57 [==============================] - 4s 68ms/step - loss: 5.9290e-04 - accuracy: 0.4624\n",
      "Epoch 44/100\n",
      "57/57 [==============================] - 4s 69ms/step - loss: 5.9295e-04 - accuracy: 0.4630\n",
      "Epoch 45/100\n",
      "57/57 [==============================] - 4s 68ms/step - loss: 5.8071e-04 - accuracy: 0.4649\n",
      "Epoch 46/100\n",
      "57/57 [==============================] - 4s 68ms/step - loss: 5.6581e-04 - accuracy: 0.4659\n",
      "Epoch 47/100\n",
      "57/57 [==============================] - 4s 67ms/step - loss: 5.3757e-04 - accuracy: 0.4691\n",
      "Epoch 48/100\n",
      "57/57 [==============================] - 4s 68ms/step - loss: 5.4572e-04 - accuracy: 0.4702\n",
      "Epoch 49/100\n",
      "57/57 [==============================] - 4s 68ms/step - loss: 5.5127e-04 - accuracy: 0.4706\n",
      "Epoch 50/100\n",
      "57/57 [==============================] - 4s 68ms/step - loss: 5.4907e-04 - accuracy: 0.4717\n",
      "Epoch 51/100\n",
      "57/57 [==============================] - 4s 68ms/step - loss: 5.3910e-04 - accuracy: 0.4723\n",
      "Epoch 52/100\n",
      "57/57 [==============================] - 4s 67ms/step - loss: 5.3330e-04 - accuracy: 0.4740\n",
      "Epoch 53/100\n",
      "57/57 [==============================] - 4s 67ms/step - loss: 5.2138e-04 - accuracy: 0.4758\n",
      "Epoch 54/100\n",
      "57/57 [==============================] - 4s 66ms/step - loss: 5.1045e-04 - accuracy: 0.4780\n",
      "Epoch 55/100\n",
      "57/57 [==============================] - 4s 67ms/step - loss: 5.1108e-04 - accuracy: 0.4782\n",
      "Epoch 56/100\n",
      "57/57 [==============================] - 4s 66ms/step - loss: 4.8254e-04 - accuracy: 0.4810\n",
      "Epoch 57/100\n",
      "57/57 [==============================] - 4s 67ms/step - loss: 4.6351e-04 - accuracy: 0.4823\n",
      "Epoch 58/100\n",
      "57/57 [==============================] - 4s 66ms/step - loss: 4.5870e-04 - accuracy: 0.4833\n",
      "Epoch 59/100\n",
      "57/57 [==============================] - 4s 67ms/step - loss: 4.7206e-04 - accuracy: 0.4848\n",
      "Epoch 60/100\n",
      "57/57 [==============================] - 4s 66ms/step - loss: 4.8313e-04 - accuracy: 0.4834\n",
      "Epoch 61/100\n",
      "57/57 [==============================] - 4s 67ms/step - loss: 4.7875e-04 - accuracy: 0.4852\n",
      "Epoch 62/100\n",
      "57/57 [==============================] - 4s 66ms/step - loss: 4.7520e-04 - accuracy: 0.4861\n",
      "Epoch 63/100\n",
      "57/57 [==============================] - 4s 66ms/step - loss: 4.8246e-04 - accuracy: 0.4865\n",
      "Epoch 64/100\n",
      "57/57 [==============================] - 4s 67ms/step - loss: 4.6802e-04 - accuracy: 0.4856\n",
      "Epoch 65/100\n",
      "57/57 [==============================] - 4s 65ms/step - loss: 4.6384e-04 - accuracy: 0.4882\n",
      "Epoch 66/100\n",
      "57/57 [==============================] - 4s 67ms/step - loss: 4.3988e-04 - accuracy: 0.4906\n",
      "Epoch 67/100\n",
      "57/57 [==============================] - 4s 66ms/step - loss: 4.0290e-04 - accuracy: 0.4947\n",
      "Epoch 68/100\n",
      "57/57 [==============================] - 4s 64ms/step - loss: 4.0079e-04 - accuracy: 0.4960\n",
      "Epoch 69/100\n",
      "57/57 [==============================] - 4s 65ms/step - loss: 4.0173e-04 - accuracy: 0.4973\n",
      "Epoch 70/100\n",
      "57/57 [==============================] - 4s 65ms/step - loss: 3.8087e-04 - accuracy: 0.5009\n",
      "Epoch 71/100\n",
      "57/57 [==============================] - 4s 66ms/step - loss: 3.7549e-04 - accuracy: 0.5005\n",
      "Epoch 72/100\n",
      "57/57 [==============================] - 4s 65ms/step - loss: 3.7987e-04 - accuracy: 0.5002\n",
      "Epoch 73/100\n",
      "57/57 [==============================] - 4s 65ms/step - loss: 3.8831e-04 - accuracy: 0.4991\n",
      "Epoch 74/100\n",
      "57/57 [==============================] - 4s 66ms/step - loss: 3.8489e-04 - accuracy: 0.5018\n",
      "Epoch 75/100\n",
      "57/57 [==============================] - 4s 65ms/step - loss: 3.8440e-04 - accuracy: 0.5019\n",
      "Epoch 76/100\n",
      "57/57 [==============================] - 4s 65ms/step - loss: 3.8725e-04 - accuracy: 0.5022\n",
      "Epoch 77/100\n",
      "57/57 [==============================] - 4s 65ms/step - loss: 3.8486e-04 - accuracy: 0.5039\n",
      "Epoch 78/100\n",
      "57/57 [==============================] - 4s 65ms/step - loss: 3.8760e-04 - accuracy: 0.5032\n",
      "Epoch 79/100\n",
      "57/57 [==============================] - 4s 65ms/step - loss: 3.7677e-04 - accuracy: 0.5048\n",
      "Epoch 80/100\n"
     ]
    },
    {
     "name": "stdout",
     "output_type": "stream",
     "text": [
      "57/57 [==============================] - 4s 68ms/step - loss: 3.7472e-04 - accuracy: 0.5040\n",
      "Epoch 81/100\n",
      "57/57 [==============================] - 4s 69ms/step - loss: 3.4648e-04 - accuracy: 0.5090\n",
      "Epoch 82/100\n",
      "57/57 [==============================] - 4s 70ms/step - loss: 3.3729e-04 - accuracy: 0.5109\n",
      "Epoch 83/100\n",
      "57/57 [==============================] - 4s 69ms/step - loss: 3.3451e-04 - accuracy: 0.5113\n",
      "Epoch 84/100\n",
      "57/57 [==============================] - 4s 68ms/step - loss: 3.4301e-04 - accuracy: 0.5112\n",
      "Epoch 85/100\n",
      "57/57 [==============================] - 4s 68ms/step - loss: 3.3353e-04 - accuracy: 0.5125\n",
      "Epoch 86/100\n",
      "57/57 [==============================] - 4s 68ms/step - loss: 3.3369e-04 - accuracy: 0.5129\n",
      "Epoch 87/100\n",
      "57/57 [==============================] - 4s 66ms/step - loss: 3.2388e-04 - accuracy: 0.5152\n",
      "Epoch 88/100\n",
      "57/57 [==============================] - 4s 65ms/step - loss: 3.2071e-04 - accuracy: 0.5155\n",
      "Epoch 89/100\n",
      "57/57 [==============================] - 4s 64ms/step - loss: 3.2268e-04 - accuracy: 0.5149\n",
      "Epoch 90/100\n",
      "57/57 [==============================] - 4s 64ms/step - loss: 3.2453e-04 - accuracy: 0.5163\n",
      "Epoch 91/100\n",
      "57/57 [==============================] - 4s 65ms/step - loss: 3.2916e-04 - accuracy: 0.5155\n",
      "Epoch 92/100\n",
      "57/57 [==============================] - 4s 64ms/step - loss: 3.2569e-04 - accuracy: 0.5178\n",
      "Epoch 93/100\n",
      "57/57 [==============================] - 4s 64ms/step - loss: 3.4907e-04 - accuracy: 0.5144\n",
      "Epoch 94/100\n",
      "57/57 [==============================] - 4s 65ms/step - loss: 3.5003e-04 - accuracy: 0.5146\n",
      "Epoch 95/100\n",
      "57/57 [==============================] - 4s 65ms/step - loss: 3.6084e-04 - accuracy: 0.5153\n",
      "Epoch 96/100\n",
      "57/57 [==============================] - 4s 65ms/step - loss: 3.9511e-04 - accuracy: 0.5104\n",
      "Epoch 97/100\n",
      "57/57 [==============================] - 4s 65ms/step - loss: 4.6197e-04 - accuracy: 0.5052\n",
      "Epoch 98/100\n",
      "57/57 [==============================] - 4s 65ms/step - loss: 4.9949e-04 - accuracy: 0.5018\n",
      "Epoch 99/100\n",
      "57/57 [==============================] - 4s 65ms/step - loss: 4.5214e-04 - accuracy: 0.5061\n",
      "Epoch 100/100\n",
      "57/57 [==============================] - 4s 64ms/step - loss: 4.1238e-04 - accuracy: 0.5098\n"
     ]
    },
    {
     "data": {
      "text/plain": [
       "<keras.callbacks.History at 0x167f18abd60>"
      ]
     },
     "execution_count": 11,
     "metadata": {},
     "output_type": "execute_result"
    }
   ],
   "source": [
    "import pandas as pd\n",
    "import numpy as np\n",
    "import matplotlib.pyplot as plt\n",
    "import tensorflow as tf\n",
    "from tensorflow import keras\n",
    "from tensorflow.keras.models import Sequential\n",
    "from sklearn.model_selection import train_test_split\n",
    "x_train, x_test, y_train, y_test = train_test_split(data_x, data_y1, test_size=0.2, random_state = 42)\n",
    "from sklearn.preprocessing import StandardScaler\n",
    "sc = StandardScaler()\n",
    "x_train = sc.fit_transform(x_train)\n",
    "x_test = sc.fit_transform(x_test)\n",
    "#y_train = sc.fit_transform(y_train)\n",
    "#y_test = sc.fit_transform(y_test)\n",
    "ann1 = tf.keras.models.Sequential()\n",
    "ann1.add(tf.keras.layers.Dense(units = 4096,activation = 'relu'))\n",
    "ann1.add(tf.keras.layers.Dense(units = 4096,activation = 'relu'))\n",
    "ann1.add(tf.keras.layers.Dense(units = 2048,activation = 'relu'))\n",
    "ann1.add(tf.keras.layers.Dense(units = 1024,activation = 'relu'))\n",
    "#Output Layer\n",
    "ann1.add(tf.keras.layers.Dense(units = 1089 , activation = 'linear'))\n",
    "ann1.compile(optimizer = 'adam', loss = 'mean_squared_error',metrics = ['accuracy'] )\n",
    "ann1.fit(x_train,y_train,batch_size = 2048, epochs = 100)\n",
    "#ann1.save('ann_velo_final_1.h5')"
   ]
  },
  {
   "cell_type": "code",
   "execution_count": 12,
   "id": "2c4c5c28",
   "metadata": {},
   "outputs": [
    {
     "name": "stdout",
     "output_type": "stream",
     "text": [
      "906/906 [==============================] - 2s 2ms/step\n"
     ]
    },
    {
     "data": {
      "text/plain": [
       "0.6376197899614747"
      ]
     },
     "execution_count": 12,
     "metadata": {},
     "output_type": "execute_result"
    }
   ],
   "source": [
    "y_pred = ann1.predict(x_test)\n",
    "#y_pred = sc.inverse_transform(y_pred)\n",
    "#y_actual = sc.inverse_transform(y_test)\n",
    "y_actual = y_test\n",
    "from sklearn.metrics import r2_score,mean_absolute_error,mean_squared_error\n",
    "r2 = r2_score(y_actual,y_pred)\n",
    "r2"
   ]
  },
  {
   "cell_type": "code",
   "execution_count": 48,
   "id": "39f3314b",
   "metadata": {},
   "outputs": [
    {
     "data": {
      "image/png": "[encoded data removed]",
      "text/plain": [
       "<Figure size 432x288 with 2 Axes>"
      ]
     },
     "metadata": {
      "needs_background": "light"
     },
     "output_type": "display_data"
    },
    {
     "data": {
      "image/png": "[encoded data removed]",
      "text/plain": [
       "<Figure size 432x288 with 2 Axes>"
      ]
     },
     "metadata": {
      "needs_background": "light"
     },
     "output_type": "display_data"
    }
   ],
   "source": [
    "case = 111\n",
    "a = np.reshape(y_pred[case,:],(33,33))\n",
    "b = np.reshape(y_actual[case,:],(33,33))\n",
    "fig, ax1 = plt.subplots()\n",
    "im1 = ax1.imshow(a, interpolation='nearest', aspect=0.5)\n",
    "fig.colorbar(im1)\n",
    "plt.title(\"Velocity field - ML PREDICTION\")\n",
    "fig, ax2 = plt.subplots()\n",
    "im2 = ax2.imshow(b, interpolation='nearest',aspect = 0.5)\n",
    "fig.colorbar(im2)\n",
    "plt.title(\"Velocity field - SIMULATION\")\n",
    "plt.show()\n"
   ]
  },
  {
   "cell_type": "code",
   "execution_count": 49,
   "id": "697b0e00",
   "metadata": {},
   "outputs": [],
   "source": [
    "ann1.save('ann_velo_deploy_norm.h5')"
   ]
  },
  {
   "cell_type": "code",
   "execution_count": 117,
   "id": "642d1145",
   "metadata": {},
   "outputs": [],
   "source": [
    "# save the scaler\n",
    "dump(sc, open('scaler.pkl', 'wb'))"
   ]
  }
 ],
 "metadata": {
  "kernelspec": {
   "display_name": "Python 3 (ipykernel)",
   "language": "python",
   "name": "python3"
  },
  "language_info": {
   "codemirror_mode": {
    "name": "ipython",
    "version": 3
   },
   "file_extension": ".py",
   "mimetype": "text/x-python",
   "name": "python",
   "nbconvert_exporter": "python",
   "pygments_lexer": "ipython3",
   "version": "3.9.12"
  }
 },
 "nbformat": 4,
 "nbformat_minor": 5
}
