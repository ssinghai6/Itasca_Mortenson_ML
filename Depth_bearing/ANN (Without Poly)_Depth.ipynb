{
 "cells": [
  {
   "cell_type": "code",
   "execution_count": 2,
   "id": "bd40506f",
   "metadata": {},
   "outputs": [],
   "source": [
    "import pandas as pd\n",
    "import numpy as np\n",
    "import matplotlib.pyplot as plt\n",
    "import tensorflow as tf\n",
    "from tensorflow import keras\n",
    "from tensorflow.keras.models import Sequential\n"
   ]
  },
  {
   "cell_type": "code",
   "execution_count": 3,
   "id": "8cbc1b09",
   "metadata": {},
   "outputs": [],
   "source": [
    "#Importing Input data\n",
    "data_cohesion = np.load('Inputs/4ft_cohesion.npy')\n",
    "data_cohesion = data_cohesion[0:16,:]\n",
    "data_friction = np.load('Inputs/4ft_friction.npy')\n",
    "data_friction = data_friction[0:16,:]\n",
    "data_watertable = np.load('Inputs/4ft_water_table.npy')\n",
    "data_watertable = np.squeeze(data_watertable)"
   ]
  },
  {
   "cell_type": "code",
   "execution_count": 4,
   "id": "59973bbf",
   "metadata": {},
   "outputs": [],
   "source": [
    "#Importing output Data\n",
    "data_depth = np.load('Targets/4ft_failure_depths.npy')"
   ]
  },
  {
   "cell_type": "code",
   "execution_count": 5,
   "id": "740d7550",
   "metadata": {},
   "outputs": [
    {
     "name": "stdout",
     "output_type": "stream",
     "text": [
      "(284107, 16)\n",
      "(284107, 16)\n",
      "(284107,)\n",
      "(284107,)\n"
     ]
    }
   ],
   "source": [
    "#Size\n",
    "data_cohesion = np.transpose(data_cohesion)\n",
    "data_friction = np.transpose(data_friction)\n",
    "data_watertable = np.transpose(data_watertable)\n",
    "data_watertable = np.squeeze(data_watertable)\n",
    "data_depth = np.squeeze(data_depth)\n",
    "print(np.shape(data_cohesion))\n",
    "print(np.shape(data_friction))\n",
    "print(np.shape(data_watertable))\n",
    "print(np.shape(data_depth))\n",
    "n_y = 25\n",
    "n_x =33\n",
    "n_sim = np.shape(data_cohesion)[0]\n",
    "n_final_test = 107\n",
    "n_remain = n_sim - n_final_test\n",
    "m = np.shape(data_cohesion)[1]"
   ]
  },
  {
   "cell_type": "code",
   "execution_count": 6,
   "id": "2813a25d",
   "metadata": {},
   "outputs": [],
   "source": [
    "data_arr= np.zeros((n_remain,2*m + 2))\n",
    "data_arr[0:n_remain,0:m] = data_cohesion[0:n_remain,:]\n",
    "data_arr[0:n_remain,m:2*m] = data_friction[0:n_remain,:]\n",
    "data_arr[0:n_remain,2*m] = data_watertable[0:n_remain]\n",
    "data_arr[0:n_remain,2*m+1] = data_depth[0:n_remain]\n"
   ]
  },
  {
   "cell_type": "code",
   "execution_count": 7,
   "id": "cd4c99c1",
   "metadata": {},
   "outputs": [],
   "source": [
    "# Validation\n",
    "data_val= np.zeros((n_final_test,2*m+2))\n",
    "data_val[:,0:m] = data_cohesion[n_remain:n_sim,:]\n",
    "data_val[:,m:2*m] = data_friction[n_remain:n_sim,:]\n",
    "data_val[:,2*m] = data_watertable[n_remain:n_sim]\n",
    "data_val[:,2*m+1] = data_depth[n_remain:n_sim]"
   ]
  },
  {
   "cell_type": "code",
   "execution_count": 8,
   "id": "1010d9a8",
   "metadata": {},
   "outputs": [],
   "source": [
    "data_x = data_arr[:,:-1]\n",
    "data_y = data_arr[:,-1].reshape(-1,1)"
   ]
  },
  {
   "cell_type": "code",
   "execution_count": 9,
   "id": "9aaece00",
   "metadata": {},
   "outputs": [],
   "source": [
    "# Spliting test and training\n",
    "from sklearn.model_selection import train_test_split\n",
    "x_train, x_test, y_train, y_test = train_test_split(data_x, data_y, test_size=0.2, random_state = 42)"
   ]
  },
  {
   "cell_type": "code",
   "execution_count": 10,
   "id": "49a658d0",
   "metadata": {},
   "outputs": [
    {
     "data": {
      "text/plain": [
       "array([[0.6096],\n",
       "       [1.3716],\n",
       "       [0.6096],\n",
       "       ...,\n",
       "       [0.1524],\n",
       "       [1.9812],\n",
       "       [3.5052]])"
      ]
     },
     "execution_count": 10,
     "metadata": {},
     "output_type": "execute_result"
    }
   ],
   "source": [
    "y_train"
   ]
  },
  {
   "cell_type": "code",
   "execution_count": 11,
   "id": "6720e021",
   "metadata": {},
   "outputs": [],
   "source": [
    "#Feature Scaling\n",
    "from sklearn.preprocessing import StandardScaler\n",
    "sc = StandardScaler()\n",
    "x_train = sc.fit_transform(x_train)\n",
    "x_test = sc.fit_transform(x_test)\n",
    "y_train = sc.fit_transform(y_train)\n",
    "y_test = sc.fit_transform(y_test)"
   ]
  },
  {
   "cell_type": "code",
   "execution_count": 12,
   "id": "d2169235",
   "metadata": {},
   "outputs": [],
   "source": [
    "ann1 = tf.keras.models.Sequential()"
   ]
  },
  {
   "cell_type": "code",
   "execution_count": 13,
   "id": "73f3a91b",
   "metadata": {},
   "outputs": [],
   "source": [
    "#Adding the input and first hidden layer, will be adding a dense layer\n",
    "ann1.add(tf.keras.layers.Dense(units = 256,activation = 'relu'))\n",
    "ann1.add(tf.keras.layers.Dense(units = 128,activation = 'relu'))\n",
    "ann1.add(tf.keras.layers.Dense(units = 64, activation = 'relu'))\n",
    "ann1.add(tf.keras.layers.Dense(units = 32, activation = 'relu'))\n",
    "ann1.add(tf.keras.layers.Dense(units = 4, activation = 'relu'))\n",
    "#Output Layer\n",
    "ann1.add(tf.keras.layers.Dense(units = 1, activation = 'linear'))"
   ]
  },
  {
   "cell_type": "code",
   "execution_count": 14,
   "id": "b2d3bcd3",
   "metadata": {},
   "outputs": [],
   "source": [
    "#compling ann\n",
    "ann1.compile(optimizer = 'adam', loss = 'mean_squared_error',metrics = ['accuracy'] )"
   ]
  },
  {
   "cell_type": "code",
   "execution_count": 15,
   "id": "5250808f",
   "metadata": {},
   "outputs": [
    {
     "name": "stdout",
     "output_type": "stream",
     "text": [
      "Epoch 1/100\n",
      "3550/3550 [==============================] - 20s 5ms/step - loss: 0.3148 - accuracy: 0.0000e+00\n",
      "Epoch 2/100\n",
      "3550/3550 [==============================] - 18s 5ms/step - loss: 0.2075 - accuracy: 0.0000e+00\n",
      "Epoch 3/100\n",
      "3550/3550 [==============================] - 18s 5ms/step - loss: 0.1717 - accuracy: 0.0000e+00\n",
      "Epoch 4/100\n",
      "3550/3550 [==============================] - 18s 5ms/step - loss: 0.1519 - accuracy: 0.0000e+00\n",
      "Epoch 5/100\n",
      "3550/3550 [==============================] - 17s 5ms/step - loss: 0.1396 - accuracy: 0.0000e+00\n",
      "Epoch 6/100\n",
      "3550/3550 [==============================] - 23s 6ms/step - loss: 0.1307 - accuracy: 0.0000e+00\n",
      "Epoch 7/100\n",
      "3550/3550 [==============================] - 27s 8ms/step - loss: 0.1227 - accuracy: 0.0000e+00\n",
      "Epoch 8/100\n",
      "3550/3550 [==============================] - 33s 9ms/step - loss: 0.1167 - accuracy: 0.0000e+00\n",
      "Epoch 9/100\n",
      "3550/3550 [==============================] - 33s 9ms/step - loss: 0.1091 - accuracy: 0.0000e+00\n",
      "Epoch 10/100\n",
      "3550/3550 [==============================] - 33s 9ms/step - loss: 0.1070 - accuracy: 0.0000e+00\n",
      "Epoch 11/100\n",
      "3550/3550 [==============================] - 33s 9ms/step - loss: 0.1016 - accuracy: 0.0000e+00\n",
      "Epoch 12/100\n",
      "3550/3550 [==============================] - 33s 9ms/step - loss: 0.0982 - accuracy: 0.0000e+00\n",
      "Epoch 13/100\n",
      "3550/3550 [==============================] - 34s 9ms/step - loss: 0.0957 - accuracy: 0.0000e+00\n",
      "Epoch 14/100\n",
      "3550/3550 [==============================] - 34s 9ms/step - loss: 0.0924 - accuracy: 0.0000e+00\n",
      "Epoch 15/100\n",
      "3550/3550 [==============================] - 33s 9ms/step - loss: 0.0883 - accuracy: 0.0000e+00\n",
      "Epoch 16/100\n",
      "3550/3550 [==============================] - 33s 9ms/step - loss: 0.0854 - accuracy: 0.0000e+00\n",
      "Epoch 17/100\n",
      "3550/3550 [==============================] - 33s 9ms/step - loss: 0.0836 - accuracy: 0.0000e+00\n",
      "Epoch 18/100\n",
      "3550/3550 [==============================] - 35s 10ms/step - loss: 0.0820 - accuracy: 0.0000e+00\n",
      "Epoch 19/100\n",
      "3550/3550 [==============================] - 34s 9ms/step - loss: 0.0800 - accuracy: 0.0000e+00\n",
      "Epoch 20/100\n",
      "3550/3550 [==============================] - 33s 9ms/step - loss: 0.0766 - accuracy: 0.0000e+00\n",
      "Epoch 21/100\n",
      "3550/3550 [==============================] - 33s 9ms/step - loss: 0.0775 - accuracy: 0.0000e+00\n",
      "Epoch 22/100\n",
      "3550/3550 [==============================] - 33s 9ms/step - loss: 0.0756 - accuracy: 0.0000e+00\n",
      "Epoch 23/100\n",
      "3550/3550 [==============================] - 34s 9ms/step - loss: 0.0735 - accuracy: 0.0000e+00\n",
      "Epoch 24/100\n",
      "3550/3550 [==============================] - 33s 9ms/step - loss: 0.0714 - accuracy: 0.0000e+00\n",
      "Epoch 25/100\n",
      "3550/3550 [==============================] - 33s 9ms/step - loss: 0.0682 - accuracy: 0.0000e+00\n",
      "Epoch 26/100\n",
      "3550/3550 [==============================] - 34s 9ms/step - loss: 0.0671 - accuracy: 0.0000e+00\n",
      "Epoch 27/100\n",
      "3550/3550 [==============================] - 34s 9ms/step - loss: 0.0668 - accuracy: 0.0000e+00\n",
      "Epoch 28/100\n",
      "3550/3550 [==============================] - 33s 9ms/step - loss: 0.0662 - accuracy: 0.0000e+00\n",
      "Epoch 29/100\n",
      "3550/3550 [==============================] - 34s 10ms/step - loss: 0.0628 - accuracy: 0.0000e+00\n",
      "Epoch 30/100\n",
      "3550/3550 [==============================] - 33s 9ms/step - loss: 0.0641 - accuracy: 0.0000e+00\n",
      "Epoch 31/100\n",
      "3550/3550 [==============================] - 33s 9ms/step - loss: 0.0627 - accuracy: 0.0000e+00\n",
      "Epoch 32/100\n",
      "3550/3550 [==============================] - 33s 9ms/step - loss: 0.0603 - accuracy: 0.0000e+00\n",
      "Epoch 33/100\n",
      "3550/3550 [==============================] - 34s 10ms/step - loss: 0.0592 - accuracy: 0.0000e+00\n",
      "Epoch 34/100\n",
      "3550/3550 [==============================] - 33s 9ms/step - loss: 0.0609 - accuracy: 0.0000e+00\n",
      "Epoch 35/100\n",
      "3550/3550 [==============================] - 33s 9ms/step - loss: 0.0581 - accuracy: 0.0000e+00\n",
      "Epoch 36/100\n",
      "3550/3550 [==============================] - 34s 10ms/step - loss: 0.0574 - accuracy: 0.0000e+00\n",
      "Epoch 37/100\n",
      "3550/3550 [==============================] - 33s 9ms/step - loss: 0.0557 - accuracy: 0.0000e+00\n",
      "Epoch 38/100\n",
      "3550/3550 [==============================] - 28s 8ms/step - loss: 0.0565 - accuracy: 0.0000e+00\n",
      "Epoch 39/100\n",
      "3550/3550 [==============================] - 23s 7ms/step - loss: 0.0539 - accuracy: 0.0000e+00\n",
      "Epoch 40/100\n",
      "3550/3550 [==============================] - 22s 6ms/step - loss: 0.0539 - accuracy: 0.0000e+00\n",
      "Epoch 41/100\n",
      "3550/3550 [==============================] - 23s 7ms/step - loss: 0.0522 - accuracy: 0.0000e+00\n",
      "Epoch 42/100\n",
      "3550/3550 [==============================] - 22s 6ms/step - loss: 0.0526 - accuracy: 0.0000e+00\n",
      "Epoch 43/100\n",
      "3550/3550 [==============================] - 22s 6ms/step - loss: 0.0502 - accuracy: 0.0000e+00\n",
      "Epoch 44/100\n",
      "3550/3550 [==============================] - 22s 6ms/step - loss: 0.0515 - accuracy: 0.0000e+00\n",
      "Epoch 45/100\n",
      "3550/3550 [==============================] - 21s 6ms/step - loss: 0.0500 - accuracy: 0.0000e+00\n",
      "Epoch 46/100\n",
      "3550/3550 [==============================] - 22s 6ms/step - loss: 0.0505 - accuracy: 0.0000e+00\n",
      "Epoch 47/100\n",
      "3550/3550 [==============================] - 22s 6ms/step - loss: 0.0502 - accuracy: 0.0000e+00\n",
      "Epoch 48/100\n",
      "3550/3550 [==============================] - 22s 6ms/step - loss: 0.0488 - accuracy: 0.0000e+00\n",
      "Epoch 49/100\n",
      "3550/3550 [==============================] - 22s 6ms/step - loss: 0.0482 - accuracy: 0.0000e+00\n",
      "Epoch 50/100\n",
      "3550/3550 [==============================] - 22s 6ms/step - loss: 0.0477 - accuracy: 0.0000e+00\n",
      "Epoch 51/100\n",
      "3550/3550 [==============================] - 21s 6ms/step - loss: 0.0484 - accuracy: 0.0000e+00\n",
      "Epoch 52/100\n",
      "3550/3550 [==============================] - 15s 4ms/step - loss: 0.0455 - accuracy: 0.0000e+00\n",
      "Epoch 53/100\n",
      "3550/3550 [==============================] - 15s 4ms/step - loss: 0.0479 - accuracy: 0.0000e+00\n",
      "Epoch 54/100\n",
      "3550/3550 [==============================] - 15s 4ms/step - loss: 0.0465 - accuracy: 0.0000e+00\n",
      "Epoch 55/100\n",
      "3550/3550 [==============================] - 14s 4ms/step - loss: 0.0445 - accuracy: 0.0000e+00\n",
      "Epoch 56/100\n",
      "3550/3550 [==============================] - 11s 3ms/step - loss: 0.0458 - accuracy: 0.0000e+00\n",
      "Epoch 57/100\n",
      "3550/3550 [==============================] - 12s 3ms/step - loss: 0.0435 - accuracy: 0.0000e+00\n",
      "Epoch 58/100\n",
      "3550/3550 [==============================] - 15s 4ms/step - loss: 0.0443 - accuracy: 0.0000e+00\n",
      "Epoch 59/100\n",
      "3550/3550 [==============================] - 13s 4ms/step - loss: 0.0443 - accuracy: 0.0000e+00\n",
      "Epoch 60/100\n",
      "3550/3550 [==============================] - 14s 4ms/step - loss: 0.0428 - accuracy: 0.0000e+00\n",
      "Epoch 61/100\n",
      "3550/3550 [==============================] - 15s 4ms/step - loss: 0.0433 - accuracy: 0.0000e+00\n",
      "Epoch 62/100\n",
      "3550/3550 [==============================] - 16s 4ms/step - loss: 0.0423 - accuracy: 0.0000e+00\n",
      "Epoch 63/100\n",
      "3550/3550 [==============================] - 16s 4ms/step - loss: 0.0426 - accuracy: 0.0000e+00\n",
      "Epoch 64/100\n",
      "3550/3550 [==============================] - 16s 4ms/step - loss: 0.0420 - accuracy: 0.0000e+00\n",
      "Epoch 65/100\n",
      "3550/3550 [==============================] - 15s 4ms/step - loss: 0.0412 - accuracy: 0.0000e+00\n",
      "Epoch 66/100\n",
      "3550/3550 [==============================] - 15s 4ms/step - loss: 0.0413 - accuracy: 0.0000e+00\n",
      "Epoch 67/100\n",
      "3550/3550 [==============================] - 15s 4ms/step - loss: 0.0388 - accuracy: 0.0000e+00\n",
      "Epoch 68/100\n",
      "3550/3550 [==============================] - 15s 4ms/step - loss: 0.0418 - accuracy: 0.0000e+00\n",
      "Epoch 69/100\n",
      "3550/3550 [==============================] - 15s 4ms/step - loss: 0.0395 - accuracy: 0.0000e+00\n",
      "Epoch 70/100\n",
      "3550/3550 [==============================] - 15s 4ms/step - loss: 0.0399 - accuracy: 0.0000e+00\n",
      "Epoch 71/100\n",
      "3550/3550 [==============================] - 15s 4ms/step - loss: 0.0402 - accuracy: 0.0000e+00\n",
      "Epoch 72/100\n",
      "3550/3550 [==============================] - 15s 4ms/step - loss: 0.0404 - accuracy: 0.0000e+00\n",
      "Epoch 73/100\n",
      "3550/3550 [==============================] - 15s 4ms/step - loss: 0.0383 - accuracy: 0.0000e+00\n",
      "Epoch 74/100\n",
      "3550/3550 [==============================] - 15s 4ms/step - loss: 0.0376 - accuracy: 0.0000e+00\n",
      "Epoch 75/100\n",
      "3550/3550 [==============================] - 15s 4ms/step - loss: 0.0392 - accuracy: 0.0000e+00\n",
      "Epoch 76/100\n"
     ]
    },
    {
     "name": "stdout",
     "output_type": "stream",
     "text": [
      "3550/3550 [==============================] - 15s 4ms/step - loss: 0.0361 - accuracy: 0.0000e+00\n",
      "Epoch 77/100\n",
      "3550/3550 [==============================] - 15s 4ms/step - loss: 0.0382 - accuracy: 0.0000e+00\n",
      "Epoch 78/100\n",
      "3550/3550 [==============================] - 15s 4ms/step - loss: 0.0361 - accuracy: 0.0000e+00\n",
      "Epoch 79/100\n",
      "3550/3550 [==============================] - 15s 4ms/step - loss: 0.0366 - accuracy: 0.0000e+00\n",
      "Epoch 80/100\n",
      "3550/3550 [==============================] - 15s 4ms/step - loss: 0.0376 - accuracy: 0.0000e+00\n",
      "Epoch 81/100\n",
      "3550/3550 [==============================] - 15s 4ms/step - loss: 0.0349 - accuracy: 0.0000e+00\n",
      "Epoch 82/100\n",
      "3550/3550 [==============================] - 15s 4ms/step - loss: 0.0360 - accuracy: 0.0000e+00\n",
      "Epoch 83/100\n",
      "3550/3550 [==============================] - 15s 4ms/step - loss: 0.0366 - accuracy: 0.0000e+00\n",
      "Epoch 84/100\n",
      "3550/3550 [==============================] - 15s 4ms/step - loss: 0.0347 - accuracy: 0.0000e+00\n",
      "Epoch 85/100\n",
      "3550/3550 [==============================] - 15s 4ms/step - loss: 0.0363 - accuracy: 0.0000e+00\n",
      "Epoch 86/100\n",
      "3550/3550 [==============================] - 15s 4ms/step - loss: 0.0361 - accuracy: 0.0000e+00\n",
      "Epoch 87/100\n",
      "3550/3550 [==============================] - 15s 4ms/step - loss: 0.0355 - accuracy: 0.0000e+00\n",
      "Epoch 88/100\n",
      "3550/3550 [==============================] - 15s 4ms/step - loss: 0.0338 - accuracy: 0.0000e+00\n",
      "Epoch 89/100\n",
      "3550/3550 [==============================] - 15s 4ms/step - loss: 0.0357 - accuracy: 0.0000e+00\n",
      "Epoch 90/100\n",
      "3550/3550 [==============================] - 15s 4ms/step - loss: 0.0348 - accuracy: 0.0000e+00\n",
      "Epoch 91/100\n",
      "3550/3550 [==============================] - 14s 4ms/step - loss: 0.0341 - accuracy: 0.0000e+00\n",
      "Epoch 92/100\n",
      "3550/3550 [==============================] - 14s 4ms/step - loss: 0.0346 - accuracy: 0.0000e+00\n",
      "Epoch 93/100\n",
      "3550/3550 [==============================] - 15s 4ms/step - loss: 0.0331 - accuracy: 0.0000e+00\n",
      "Epoch 94/100\n",
      "3550/3550 [==============================] - 15s 4ms/step - loss: 0.0343 - accuracy: 0.0000e+00\n",
      "Epoch 95/100\n",
      "3550/3550 [==============================] - 15s 4ms/step - loss: 0.0331 - accuracy: 0.0000e+00\n",
      "Epoch 96/100\n",
      "3550/3550 [==============================] - 15s 4ms/step - loss: 0.0339 - accuracy: 0.0000e+00\n",
      "Epoch 97/100\n",
      "3550/3550 [==============================] - 15s 4ms/step - loss: 0.0329 - accuracy: 0.0000e+00\n",
      "Epoch 98/100\n",
      "3550/3550 [==============================] - 15s 4ms/step - loss: 0.0343 - accuracy: 0.0000e+00\n",
      "Epoch 99/100\n",
      "3550/3550 [==============================] - 15s 4ms/step - loss: 0.0326 - accuracy: 0.0000e+00\n",
      "Epoch 100/100\n",
      "3550/3550 [==============================] - 15s 4ms/step - loss: 0.0309 - accuracy: 0.0000e+00\n"
     ]
    },
    {
     "data": {
      "text/plain": [
       "<keras.callbacks.History at 0x2511c7d5610>"
      ]
     },
     "execution_count": 15,
     "metadata": {},
     "output_type": "execute_result"
    }
   ],
   "source": [
    "#traing the model\n",
    "ann1.fit(x_train,y_train,batch_size = 64, epochs = 100)"
   ]
  },
  {
   "cell_type": "code",
   "execution_count": 16,
   "id": "b049f041",
   "metadata": {},
   "outputs": [
    {
     "name": "stdout",
     "output_type": "stream",
     "text": [
      "1775/1775 [==============================] - 2s 1ms/step\n"
     ]
    }
   ],
   "source": [
    "y_pred = ann1.predict(x_test)"
   ]
  },
  {
   "cell_type": "code",
   "execution_count": 17,
   "id": "a8bcd5f8",
   "metadata": {},
   "outputs": [],
   "source": [
    "y_pred = sc.inverse_transform(y_pred)\n"
   ]
  },
  {
   "cell_type": "code",
   "execution_count": 18,
   "id": "c8f85f0c",
   "metadata": {},
   "outputs": [
    {
     "data": {
      "text/plain": [
       "array([[1.0204287],\n",
       "       [0.6135429],\n",
       "       [2.2512488],\n",
       "       ...,\n",
       "       [1.5992073],\n",
       "       [1.0062838],\n",
       "       [1.8433905]], dtype=float32)"
      ]
     },
     "execution_count": 18,
     "metadata": {},
     "output_type": "execute_result"
    }
   ],
   "source": [
    "y_pred"
   ]
  },
  {
   "cell_type": "code",
   "execution_count": 19,
   "id": "72d9c511",
   "metadata": {},
   "outputs": [],
   "source": [
    "y_actual = sc.inverse_transform(y_test)"
   ]
  },
  {
   "cell_type": "code",
   "execution_count": 20,
   "id": "7c91d218",
   "metadata": {},
   "outputs": [
    {
     "data": {
      "text/plain": [
       "array([[1.0668],\n",
       "       [0.6096],\n",
       "       [2.5908],\n",
       "       ...,\n",
       "       [1.3716],\n",
       "       [1.0668],\n",
       "       [1.9812]])"
      ]
     },
     "execution_count": 20,
     "metadata": {},
     "output_type": "execute_result"
    }
   ],
   "source": [
    "y_actual"
   ]
  },
  {
   "cell_type": "code",
   "execution_count": 21,
   "id": "5918fbe0",
   "metadata": {},
   "outputs": [
    {
     "data": {
      "text/plain": [
       "0.8832126188440386"
      ]
     },
     "execution_count": 21,
     "metadata": {},
     "output_type": "execute_result"
    }
   ],
   "source": [
    "from sklearn.metrics import r2_score\n",
    "r2 = r2_score(y_actual,y_pred)\n",
    "r2"
   ]
  },
  {
   "cell_type": "code",
   "execution_count": 22,
   "id": "f220f56c",
   "metadata": {},
   "outputs": [
    {
     "name": "stdout",
     "output_type": "stream",
     "text": [
      "4/4 [==============================] - 0s 5ms/step\n"
     ]
    }
   ],
   "source": [
    "x_val  = data_val[:,:-1]\n",
    "x_val = sc.fit_transform(x_val)\n",
    "y_val = data_val[:,-1].reshape(-1,1)\n",
    "y_pred_val = ann1.predict(x_val)"
   ]
  },
  {
   "cell_type": "code",
   "execution_count": 23,
   "id": "3096f3a7",
   "metadata": {},
   "outputs": [
    {
     "data": {
      "text/plain": [
       "(107, 1)"
      ]
     },
     "execution_count": 23,
     "metadata": {},
     "output_type": "execute_result"
    }
   ],
   "source": [
    "y_val = sc.fit_transform(y_val)\n",
    "np.shape(y_val)"
   ]
  },
  {
   "cell_type": "code",
   "execution_count": 24,
   "id": "83bfbfbd",
   "metadata": {},
   "outputs": [
    {
     "data": {
      "text/plain": [
       "(107, 1)"
      ]
     },
     "execution_count": 24,
     "metadata": {},
     "output_type": "execute_result"
    }
   ],
   "source": [
    "np.shape(y_val)"
   ]
  },
  {
   "cell_type": "code",
   "execution_count": 25,
   "id": "efb545ab",
   "metadata": {},
   "outputs": [
    {
     "data": {
      "text/plain": [
       "0.7775432184051144"
      ]
     },
     "execution_count": 25,
     "metadata": {},
     "output_type": "execute_result"
    }
   ],
   "source": [
    "from sklearn.metrics import r2_score\n",
    "r2_val = r2_score(y_val,y_pred_val)\n",
    "r2_val"
   ]
  },
  {
   "cell_type": "code",
   "execution_count": 26,
   "id": "686cd221",
   "metadata": {},
   "outputs": [],
   "source": [
    "df = pd.DataFrame({\"depth\": data_depth})"
   ]
  },
  {
   "cell_type": "code",
   "execution_count": 27,
   "id": "30db32c9",
   "metadata": {},
   "outputs": [
    {
     "name": "stdout",
     "output_type": "stream",
     "text": [
      "[0.     0.1524 0.3048 0.4572 0.6096 0.762  0.9144 1.0668 1.2192 1.3716\n",
      " 1.524  1.6764 1.8288 1.9812 2.1336 2.286  2.4384 2.5908 2.7432 2.8956\n",
      " 3.048  3.2004 3.3528 3.5052]\n"
     ]
    }
   ],
   "source": [
    "print(np.unique(df[['depth']].values))"
   ]
  },
  {
   "cell_type": "code",
   "execution_count": 28,
   "id": "02643bdd",
   "metadata": {},
   "outputs": [],
   "source": [
    "ann1.save(\"ann_depth_without_poly.h5\")"
   ]
  },
  {
   "cell_type": "code",
   "execution_count": null,
   "id": "846a895b",
   "metadata": {},
   "outputs": [],
   "source": []
  }
 ],
 "metadata": {
  "kernelspec": {
   "display_name": "Python 3 (ipykernel)",
   "language": "python",
   "name": "python3"
  },
  "language_info": {
   "codemirror_mode": {
    "name": "ipython",
    "version": 3
   },
   "file_extension": ".py",
   "mimetype": "text/x-python",
   "name": "python",
   "nbconvert_exporter": "python",
   "pygments_lexer": "ipython3",
   "version": "3.9.12"
  }
 },
 "nbformat": 4,
 "nbformat_minor": 5
}
