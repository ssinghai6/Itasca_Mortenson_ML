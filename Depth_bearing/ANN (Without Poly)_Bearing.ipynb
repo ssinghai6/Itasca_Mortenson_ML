{
 "cells": [
  {
   "cell_type": "code",
   "execution_count": 1,
   "id": "bd40506f",
   "metadata": {},
   "outputs": [],
   "source": [
    "import pandas as pd\n",
    "import numpy as np\n",
    "import matplotlib.pyplot as plt\n",
    "import tensorflow as tf\n",
    "from tensorflow import keras\n",
    "from tensorflow.keras.models import Sequential\n"
   ]
  },
  {
   "cell_type": "code",
   "execution_count": 2,
   "id": "8cbc1b09",
   "metadata": {},
   "outputs": [],
   "source": [
    "#Importing Input data\n",
    "data_cohesion = np.load('Inputs/4ft_cohesion.npy')\n",
    "data_cohesion = data_cohesion[0:16,:]\n",
    "data_friction = np.load('Inputs/4ft_friction.npy')\n",
    "data_friction = data_friction[0:16,:]\n",
    "data_watertable = np.load('Inputs/4ft_water_table.npy')\n",
    "data_watertable = np.squeeze(data_watertable)"
   ]
  },
  {
   "cell_type": "code",
   "execution_count": 3,
   "id": "59973bbf",
   "metadata": {},
   "outputs": [],
   "source": [
    "#Importing output Data\n",
    "data_bearning = np.load('Targets/4ft_bearing_capacity.npy')"
   ]
  },
  {
   "cell_type": "code",
   "execution_count": 4,
   "id": "740d7550",
   "metadata": {},
   "outputs": [
    {
     "name": "stdout",
     "output_type": "stream",
     "text": [
      "(284107, 16)\n",
      "(284107, 16)\n",
      "(284107,)\n",
      "(284107,)\n"
     ]
    }
   ],
   "source": [
    "#Size\n",
    "data_cohesion = np.transpose(data_cohesion)\n",
    "data_friction = np.transpose(data_friction)\n",
    "data_watertable = np.transpose(data_watertable)\n",
    "data_watertable = np.squeeze(data_watertable)\n",
    "print(np.shape(data_cohesion))\n",
    "print(np.shape(data_friction))\n",
    "print(np.shape(data_watertable))\n",
    "print(np.shape(data_bearning))\n",
    "n_y = 25\n",
    "n_x =33\n",
    "n_sim = np.shape(data_cohesion)[0]\n",
    "n_final_test = 107\n",
    "n_remain = n_sim - n_final_test\n",
    "m = np.shape(data_cohesion)[1]"
   ]
  },
  {
   "cell_type": "code",
   "execution_count": 5,
   "id": "2813a25d",
   "metadata": {},
   "outputs": [],
   "source": [
    "data_arr= np.zeros((n_remain,2*m + 2))\n",
    "data_arr[0:n_remain,0:m] = data_cohesion[0:n_remain,:]\n",
    "data_arr[0:n_remain,m:2*m] = data_friction[0:n_remain,:]\n",
    "data_arr[0:n_remain,2*m] = data_watertable[0:n_remain]\n",
    "data_arr[0:n_remain,2*m+1] = data_bearning[0:n_remain]\n"
   ]
  },
  {
   "cell_type": "code",
   "execution_count": 6,
   "id": "cd4c99c1",
   "metadata": {},
   "outputs": [],
   "source": [
    "# Validation\n",
    "data_val= np.zeros((n_final_test,2*m+2))\n",
    "data_val[:,0:m] = data_cohesion[n_remain:n_sim,:]\n",
    "data_val[:,m:2*m] = data_friction[n_remain:n_sim,:]\n",
    "data_val[:,2*m] = data_watertable[n_remain:n_sim]\n",
    "data_val[:,2*m+1] = data_bearning[n_remain:n_sim]"
   ]
  },
  {
   "cell_type": "code",
   "execution_count": 7,
   "id": "1010d9a8",
   "metadata": {},
   "outputs": [],
   "source": [
    "data_x = data_arr[:,:-1]\n",
    "data_y = data_arr[:,-1].reshape(-1,1)"
   ]
  },
  {
   "cell_type": "code",
   "execution_count": 8,
   "id": "9aaece00",
   "metadata": {},
   "outputs": [],
   "source": [
    "# Spliting test and training\n",
    "from sklearn.model_selection import train_test_split\n",
    "x_train, x_test, y_train, y_test = train_test_split(data_x, data_y, test_size=0.2, random_state = 42)"
   ]
  },
  {
   "cell_type": "code",
   "execution_count": 9,
   "id": "49a658d0",
   "metadata": {},
   "outputs": [
    {
     "data": {
      "text/plain": [
       "array([[ 570468.7982592 ],\n",
       "       [1555472.06480088],\n",
       "       [ 195230.32009017],\n",
       "       ...,\n",
       "       [  68935.46117079],\n",
       "       [ 431434.44040234],\n",
       "       [ 283381.16806185]])"
      ]
     },
     "execution_count": 9,
     "metadata": {},
     "output_type": "execute_result"
    }
   ],
   "source": [
    "y_train"
   ]
  },
  {
   "cell_type": "code",
   "execution_count": 10,
   "id": "6720e021",
   "metadata": {},
   "outputs": [],
   "source": [
    "#Feature Scaling\n",
    "from sklearn.preprocessing import StandardScaler\n",
    "sc = StandardScaler()\n",
    "x_train = sc.fit_transform(x_train)\n",
    "x_test = sc.fit_transform(x_test)\n",
    "y_train = sc.fit_transform(y_train)\n",
    "y_test = sc.fit_transform(y_test)"
   ]
  },
  {
   "cell_type": "code",
   "execution_count": 11,
   "id": "d2169235",
   "metadata": {},
   "outputs": [],
   "source": [
    "ann1 = tf.keras.models.Sequential()"
   ]
  },
  {
   "cell_type": "code",
   "execution_count": 12,
   "id": "73f3a91b",
   "metadata": {},
   "outputs": [],
   "source": [
    "#Adding the input and first hidden layer, will be adding a dense layer\n",
    "ann1.add(tf.keras.layers.Dense(units = 256,activation = 'relu'))\n",
    "ann1.add(tf.keras.layers.Dense(units = 64, activation = 'relu'))\n",
    "ann1.add(tf.keras.layers.Dense(units = 32, activation = 'relu'))\n",
    "ann1.add(tf.keras.layers.Dense(units = 4, activation = 'relu'))\n",
    "#Output Layer\n",
    "ann1.add(tf.keras.layers.Dense(units = 1, activation = 'linear'))"
   ]
  },
  {
   "cell_type": "code",
   "execution_count": 13,
   "id": "b2d3bcd3",
   "metadata": {},
   "outputs": [],
   "source": [
    "#compling ann\n",
    "ann1.compile(optimizer = 'adam', loss = 'mean_squared_error',metrics = ['accuracy'] )"
   ]
  },
  {
   "cell_type": "code",
   "execution_count": 14,
   "id": "5250808f",
   "metadata": {},
   "outputs": [
    {
     "name": "stdout",
     "output_type": "stream",
     "text": [
      "Epoch 1/100\n",
      "1775/1775 [==============================] - 17s 8ms/step - loss: 0.0709 - accuracy: 0.0000e+00\n",
      "Epoch 2/100\n",
      "1775/1775 [==============================] - 14s 8ms/step - loss: 0.0232 - accuracy: 0.0000e+00\n",
      "Epoch 3/100\n",
      "1775/1775 [==============================] - 15s 8ms/step - loss: 0.0157 - accuracy: 0.0000e+00\n",
      "Epoch 4/100\n",
      "1775/1775 [==============================] - 14s 8ms/step - loss: 0.0119 - accuracy: 0.0000e+00\n",
      "Epoch 5/100\n",
      "1775/1775 [==============================] - 14s 8ms/step - loss: 0.0097 - accuracy: 0.0000e+00\n",
      "Epoch 6/100\n",
      "1775/1775 [==============================] - 14s 8ms/step - loss: 0.0082 - accuracy: 0.0000e+00\n",
      "Epoch 7/100\n",
      "1775/1775 [==============================] - 15s 8ms/step - loss: 0.0073 - accuracy: 0.0000e+00\n",
      "Epoch 8/100\n",
      "1775/1775 [==============================] - 14s 8ms/step - loss: 0.0065 - accuracy: 0.0000e+00\n",
      "Epoch 9/100\n",
      "1775/1775 [==============================] - 14s 8ms/step - loss: 0.0060 - accuracy: 0.0000e+00\n",
      "Epoch 10/100\n",
      "1775/1775 [==============================] - 14s 8ms/step - loss: 0.0056 - accuracy: 0.0000e+00\n",
      "Epoch 11/100\n",
      "1775/1775 [==============================] - 15s 8ms/step - loss: 0.0053 - accuracy: 0.0000e+00\n",
      "Epoch 12/100\n",
      "1775/1775 [==============================] - 14s 8ms/step - loss: 0.0050 - accuracy: 0.0000e+00\n",
      "Epoch 13/100\n",
      "1775/1775 [==============================] - 14s 8ms/step - loss: 0.0048 - accuracy: 0.0000e+00\n",
      "Epoch 14/100\n",
      "1775/1775 [==============================] - 15s 8ms/step - loss: 0.0046 - accuracy: 0.0000e+00\n",
      "Epoch 15/100\n",
      "1775/1775 [==============================] - 15s 8ms/step - loss: 0.0044 - accuracy: 0.0000e+00\n",
      "Epoch 16/100\n",
      "1775/1775 [==============================] - 14s 8ms/step - loss: 0.0043 - accuracy: 0.0000e+00\n",
      "Epoch 17/100\n",
      "1775/1775 [==============================] - 15s 8ms/step - loss: 0.0041 - accuracy: 0.0000e+00\n",
      "Epoch 18/100\n",
      "1775/1775 [==============================] - 14s 8ms/step - loss: 0.0040 - accuracy: 0.0000e+00\n",
      "Epoch 19/100\n",
      "1775/1775 [==============================] - 14s 8ms/step - loss: 0.0039 - accuracy: 0.0000e+00\n",
      "Epoch 20/100\n",
      "1775/1775 [==============================] - 15s 8ms/step - loss: 0.0038 - accuracy: 0.0000e+00\n",
      "Epoch 21/100\n",
      "1775/1775 [==============================] - 15s 8ms/step - loss: 0.0037 - accuracy: 0.0000e+00\n",
      "Epoch 22/100\n",
      "1775/1775 [==============================] - 15s 8ms/step - loss: 0.0036 - accuracy: 0.0000e+00\n",
      "Epoch 23/100\n",
      "1775/1775 [==============================] - 14s 8ms/step - loss: 0.0036 - accuracy: 0.0000e+00\n",
      "Epoch 24/100\n",
      "1775/1775 [==============================] - 15s 8ms/step - loss: 0.0035 - accuracy: 0.0000e+00\n",
      "Epoch 25/100\n",
      "1775/1775 [==============================] - 15s 9ms/step - loss: 0.0034 - accuracy: 0.0000e+00\n",
      "Epoch 26/100\n",
      "1775/1775 [==============================] - 15s 8ms/step - loss: 0.0034 - accuracy: 0.0000e+00\n",
      "Epoch 27/100\n",
      "1775/1775 [==============================] - 15s 8ms/step - loss: 0.0033 - accuracy: 0.0000e+00\n",
      "Epoch 28/100\n",
      "1775/1775 [==============================] - 15s 8ms/step - loss: 0.0033 - accuracy: 0.0000e+00\n",
      "Epoch 29/100\n",
      "1775/1775 [==============================] - 15s 8ms/step - loss: 0.0033 - accuracy: 0.0000e+00\n",
      "Epoch 30/100\n",
      "1775/1775 [==============================] - 15s 8ms/step - loss: 0.0032 - accuracy: 0.0000e+00\n",
      "Epoch 31/100\n",
      "1775/1775 [==============================] - 15s 8ms/step - loss: 0.0032 - accuracy: 0.0000e+00\n",
      "Epoch 32/100\n",
      "1775/1775 [==============================] - 15s 8ms/step - loss: 0.0031 - accuracy: 0.0000e+00\n",
      "Epoch 33/100\n",
      "1775/1775 [==============================] - 14s 8ms/step - loss: 0.0031 - accuracy: 0.0000e+00\n",
      "Epoch 34/100\n",
      "1775/1775 [==============================] - 14s 8ms/step - loss: 0.0030 - accuracy: 0.0000e+00\n",
      "Epoch 35/100\n",
      "1775/1775 [==============================] - 14s 8ms/step - loss: 0.0030 - accuracy: 0.0000e+00\n",
      "Epoch 36/100\n",
      "1775/1775 [==============================] - 15s 8ms/step - loss: 0.0030 - accuracy: 0.0000e+00\n",
      "Epoch 37/100\n",
      "1775/1775 [==============================] - 14s 8ms/step - loss: 0.0030 - accuracy: 0.0000e+00\n",
      "Epoch 38/100\n",
      "1775/1775 [==============================] - 14s 8ms/step - loss: 0.0029 - accuracy: 0.0000e+00\n",
      "Epoch 39/100\n",
      "1775/1775 [==============================] - 14s 8ms/step - loss: 0.0029 - accuracy: 0.0000e+00\n",
      "Epoch 40/100\n",
      "1775/1775 [==============================] - 15s 8ms/step - loss: 0.0029 - accuracy: 0.0000e+00\n",
      "Epoch 41/100\n",
      "1775/1775 [==============================] - 14s 8ms/step - loss: 0.0029 - accuracy: 0.0000e+00\n",
      "Epoch 42/100\n",
      "1775/1775 [==============================] - 15s 8ms/step - loss: 0.0028 - accuracy: 0.0000e+00\n",
      "Epoch 43/100\n",
      "1775/1775 [==============================] - 14s 8ms/step - loss: 0.0028 - accuracy: 0.0000e+00\n",
      "Epoch 44/100\n",
      "1775/1775 [==============================] - 15s 8ms/step - loss: 0.0028 - accuracy: 0.0000e+00\n",
      "Epoch 45/100\n",
      "1775/1775 [==============================] - 14s 8ms/step - loss: 0.0028 - accuracy: 0.0000e+00\n",
      "Epoch 46/100\n",
      "1775/1775 [==============================] - 15s 8ms/step - loss: 0.0028 - accuracy: 0.0000e+00\n",
      "Epoch 47/100\n",
      "1775/1775 [==============================] - 15s 8ms/step - loss: 0.0027 - accuracy: 0.0000e+00\n",
      "Epoch 48/100\n",
      "1775/1775 [==============================] - 14s 8ms/step - loss: 0.0027 - accuracy: 0.0000e+00\n",
      "Epoch 49/100\n",
      "1775/1775 [==============================] - 15s 8ms/step - loss: 0.0027 - accuracy: 0.0000e+00\n",
      "Epoch 50/100\n",
      "1775/1775 [==============================] - 15s 8ms/step - loss: 0.0027 - accuracy: 0.0000e+00\n",
      "Epoch 51/100\n",
      "1775/1775 [==============================] - 15s 8ms/step - loss: 0.0027 - accuracy: 0.0000e+00\n",
      "Epoch 52/100\n",
      "1775/1775 [==============================] - 15s 8ms/step - loss: 0.0027 - accuracy: 0.0000e+00\n",
      "Epoch 53/100\n",
      "1775/1775 [==============================] - 15s 8ms/step - loss: 0.0026 - accuracy: 0.0000e+00\n",
      "Epoch 54/100\n",
      "1775/1775 [==============================] - 14s 8ms/step - loss: 0.0026 - accuracy: 0.0000e+00\n",
      "Epoch 55/100\n",
      "1775/1775 [==============================] - 15s 8ms/step - loss: 0.0026 - accuracy: 0.0000e+00\n",
      "Epoch 56/100\n",
      "1775/1775 [==============================] - 15s 8ms/step - loss: 0.0026 - accuracy: 0.0000e+00\n",
      "Epoch 57/100\n",
      "1775/1775 [==============================] - 15s 8ms/step - loss: 0.0026 - accuracy: 0.0000e+00\n",
      "Epoch 58/100\n",
      "1775/1775 [==============================] - 15s 8ms/step - loss: 0.0026 - accuracy: 0.0000e+00\n",
      "Epoch 59/100\n",
      "1775/1775 [==============================] - 15s 8ms/step - loss: 0.0025 - accuracy: 0.0000e+00\n",
      "Epoch 60/100\n",
      "1775/1775 [==============================] - 15s 8ms/step - loss: 0.0026 - accuracy: 0.0000e+00\n",
      "Epoch 61/100\n",
      "1775/1775 [==============================] - 14s 8ms/step - loss: 0.0025 - accuracy: 0.0000e+00\n",
      "Epoch 62/100\n",
      "1775/1775 [==============================] - 15s 8ms/step - loss: 0.0025 - accuracy: 0.0000e+00\n",
      "Epoch 63/100\n",
      "1775/1775 [==============================] - 15s 8ms/step - loss: 0.0025 - accuracy: 0.0000e+00\n",
      "Epoch 64/100\n",
      "1775/1775 [==============================] - 15s 8ms/step - loss: 0.0025 - accuracy: 0.0000e+00\n",
      "Epoch 65/100\n",
      "1775/1775 [==============================] - 15s 8ms/step - loss: 0.0025 - accuracy: 0.0000e+00\n",
      "Epoch 66/100\n",
      "1775/1775 [==============================] - 15s 8ms/step - loss: 0.0025 - accuracy: 0.0000e+00\n",
      "Epoch 67/100\n",
      "1775/1775 [==============================] - 15s 8ms/step - loss: 0.0025 - accuracy: 0.0000e+00\n",
      "Epoch 68/100\n",
      "1775/1775 [==============================] - 15s 8ms/step - loss: 0.0025 - accuracy: 0.0000e+00\n",
      "Epoch 69/100\n",
      "1775/1775 [==============================] - 14s 8ms/step - loss: 0.0025 - accuracy: 0.0000e+00\n",
      "Epoch 70/100\n",
      "1775/1775 [==============================] - 14s 8ms/step - loss: 0.0024 - accuracy: 0.0000e+00\n",
      "Epoch 71/100\n",
      "1775/1775 [==============================] - 11s 6ms/step - loss: 0.0024 - accuracy: 0.0000e+00\n",
      "Epoch 72/100\n",
      "1775/1775 [==============================] - 10s 6ms/step - loss: 0.0024 - accuracy: 0.0000e+00\n",
      "Epoch 73/100\n",
      "1775/1775 [==============================] - 10s 6ms/step - loss: 0.0024 - accuracy: 0.0000e+00\n",
      "Epoch 74/100\n",
      "1775/1775 [==============================] - 10s 6ms/step - loss: 0.0024 - accuracy: 0.0000e+00\n",
      "Epoch 75/100\n",
      "1775/1775 [==============================] - 9s 5ms/step - loss: 0.0024 - accuracy: 0.0000e+00\n",
      "Epoch 76/100\n"
     ]
    },
    {
     "name": "stdout",
     "output_type": "stream",
     "text": [
      "1775/1775 [==============================] - 9s 5ms/step - loss: 0.0024 - accuracy: 0.0000e+00\n",
      "Epoch 77/100\n",
      "1775/1775 [==============================] - 10s 6ms/step - loss: 0.0024 - accuracy: 0.0000e+00\n",
      "Epoch 78/100\n",
      "1775/1775 [==============================] - 10s 6ms/step - loss: 0.0024 - accuracy: 0.0000e+00\n",
      "Epoch 79/100\n",
      "1775/1775 [==============================] - 10s 6ms/step - loss: 0.0024 - accuracy: 0.0000e+00\n",
      "Epoch 80/100\n",
      "1775/1775 [==============================] - 10s 5ms/step - loss: 0.0024 - accuracy: 0.0000e+00\n",
      "Epoch 81/100\n",
      "1775/1775 [==============================] - 10s 5ms/step - loss: 0.0023 - accuracy: 0.0000e+00\n",
      "Epoch 82/100\n",
      "1775/1775 [==============================] - 10s 5ms/step - loss: 0.0023 - accuracy: 0.0000e+00\n",
      "Epoch 83/100\n",
      "1775/1775 [==============================] - 9s 5ms/step - loss: 0.0023 - accuracy: 0.0000e+00\n",
      "Epoch 84/100\n",
      "1775/1775 [==============================] - 9s 5ms/step - loss: 0.0023 - accuracy: 0.0000e+00\n",
      "Epoch 85/100\n",
      "1775/1775 [==============================] - 10s 5ms/step - loss: 0.0023 - accuracy: 0.0000e+00\n",
      "Epoch 86/100\n",
      "1775/1775 [==============================] - 10s 6ms/step - loss: 0.0023 - accuracy: 0.0000e+00\n",
      "Epoch 87/100\n",
      "1775/1775 [==============================] - 10s 5ms/step - loss: 0.0023 - accuracy: 0.0000e+00\n",
      "Epoch 88/100\n",
      "1775/1775 [==============================] - 10s 5ms/step - loss: 0.0023 - accuracy: 0.0000e+00\n",
      "Epoch 89/100\n",
      "1775/1775 [==============================] - 9s 5ms/step - loss: 0.0023 - accuracy: 0.0000e+00\n",
      "Epoch 90/100\n",
      "1775/1775 [==============================] - 10s 5ms/step - loss: 0.0023 - accuracy: 0.0000e+00\n",
      "Epoch 91/100\n",
      "1775/1775 [==============================] - 10s 5ms/step - loss: 0.0023 - accuracy: 0.0000e+00\n",
      "Epoch 92/100\n",
      "1775/1775 [==============================] - 10s 5ms/step - loss: 0.0023 - accuracy: 0.0000e+00\n",
      "Epoch 93/100\n",
      "1775/1775 [==============================] - 10s 5ms/step - loss: 0.0023 - accuracy: 0.0000e+00\n",
      "Epoch 94/100\n",
      "1775/1775 [==============================] - 10s 6ms/step - loss: 0.0023 - accuracy: 0.0000e+00\n",
      "Epoch 95/100\n",
      "1775/1775 [==============================] - 10s 5ms/step - loss: 0.0023 - accuracy: 0.0000e+00\n",
      "Epoch 96/100\n",
      "1775/1775 [==============================] - 10s 5ms/step - loss: 0.0023 - accuracy: 0.0000e+00\n",
      "Epoch 97/100\n",
      "1775/1775 [==============================] - 10s 5ms/step - loss: 0.0023 - accuracy: 0.0000e+00\n",
      "Epoch 98/100\n",
      "1775/1775 [==============================] - 10s 6ms/step - loss: 0.0022 - accuracy: 0.0000e+00\n",
      "Epoch 99/100\n",
      "1775/1775 [==============================] - 10s 5ms/step - loss: 0.0022 - accuracy: 0.0000e+00\n",
      "Epoch 100/100\n",
      "1775/1775 [==============================] - 10s 6ms/step - loss: 0.0022 - accuracy: 0.0000e+00\n"
     ]
    },
    {
     "data": {
      "text/plain": [
       "<keras.callbacks.History at 0x1eebfb99400>"
      ]
     },
     "execution_count": 14,
     "metadata": {},
     "output_type": "execute_result"
    }
   ],
   "source": [
    "#traing the model\n",
    "ann1.fit(x_train,y_train,batch_size = 128, epochs = 100)"
   ]
  },
  {
   "cell_type": "code",
   "execution_count": 15,
   "id": "b049f041",
   "metadata": {},
   "outputs": [
    {
     "name": "stdout",
     "output_type": "stream",
     "text": [
      "1775/1775 [==============================] - 3s 2ms/step\n"
     ]
    }
   ],
   "source": [
    "y_pred = ann1.predict(x_test)"
   ]
  },
  {
   "cell_type": "code",
   "execution_count": 16,
   "id": "a8bcd5f8",
   "metadata": {},
   "outputs": [],
   "source": [
    "y_pred = sc.inverse_transform(y_pred)\n"
   ]
  },
  {
   "cell_type": "code",
   "execution_count": 17,
   "id": "c8f85f0c",
   "metadata": {},
   "outputs": [
    {
     "data": {
      "text/plain": [
       "array([[ 526298.5 ],\n",
       "       [ 694447.06],\n",
       "       [1437403.4 ],\n",
       "       ...,\n",
       "       [1142217.1 ],\n",
       "       [ 403472.8 ],\n",
       "       [ 890954.25]], dtype=float32)"
      ]
     },
     "execution_count": 17,
     "metadata": {},
     "output_type": "execute_result"
    }
   ],
   "source": [
    "y_pred"
   ]
  },
  {
   "cell_type": "code",
   "execution_count": 18,
   "id": "72d9c511",
   "metadata": {},
   "outputs": [],
   "source": [
    "y_actual = sc.inverse_transform(y_test)"
   ]
  },
  {
   "cell_type": "code",
   "execution_count": 19,
   "id": "7c91d218",
   "metadata": {},
   "outputs": [
    {
     "data": {
      "text/plain": [
       "array([[ 556107.6384464 ],\n",
       "       [ 675475.78921502],\n",
       "       [1414716.44999281],\n",
       "       ...,\n",
       "       [1167433.62285317],\n",
       "       [ 400579.32270175],\n",
       "       [ 922156.1406706 ]])"
      ]
     },
     "execution_count": 19,
     "metadata": {},
     "output_type": "execute_result"
    }
   ],
   "source": [
    "y_actual"
   ]
  },
  {
   "cell_type": "code",
   "execution_count": 20,
   "id": "5918fbe0",
   "metadata": {},
   "outputs": [
    {
     "data": {
      "text/plain": [
       "0.9972315669936507"
      ]
     },
     "execution_count": 20,
     "metadata": {},
     "output_type": "execute_result"
    }
   ],
   "source": [
    "from sklearn.metrics import r2_score\n",
    "r2 = r2_score(y_actual,y_pred)\n",
    "r2"
   ]
  },
  {
   "cell_type": "code",
   "execution_count": 21,
   "id": "f220f56c",
   "metadata": {},
   "outputs": [
    {
     "name": "stdout",
     "output_type": "stream",
     "text": [
      "4/4 [==============================] - 0s 0s/step\n"
     ]
    }
   ],
   "source": [
    "x_val  = data_val[:,:-1]\n",
    "x_val = sc.fit_transform(x_val)\n",
    "y_val = data_val[:,-1].reshape(-1,1)\n",
    "y_pred_val = ann1.predict(x_val)"
   ]
  },
  {
   "cell_type": "code",
   "execution_count": 22,
   "id": "3096f3a7",
   "metadata": {},
   "outputs": [
    {
     "data": {
      "text/plain": [
       "(107, 1)"
      ]
     },
     "execution_count": 22,
     "metadata": {},
     "output_type": "execute_result"
    }
   ],
   "source": [
    "y_val = sc.fit_transform(y_val)\n",
    "np.shape(y_val)"
   ]
  },
  {
   "cell_type": "code",
   "execution_count": 23,
   "id": "83bfbfbd",
   "metadata": {},
   "outputs": [
    {
     "data": {
      "text/plain": [
       "(107, 1)"
      ]
     },
     "execution_count": 23,
     "metadata": {},
     "output_type": "execute_result"
    }
   ],
   "source": [
    "np.shape(y_val)"
   ]
  },
  {
   "cell_type": "code",
   "execution_count": 24,
   "id": "efb545ab",
   "metadata": {},
   "outputs": [
    {
     "data": {
      "text/plain": [
       "0.9857757977517083"
      ]
     },
     "execution_count": 24,
     "metadata": {},
     "output_type": "execute_result"
    }
   ],
   "source": [
    "from sklearn.metrics import r2_score\n",
    "r2_val = r2_score(y_val,y_pred_val)\n",
    "r2_val"
   ]
  },
  {
   "cell_type": "code",
   "execution_count": 25,
   "id": "686cd221",
   "metadata": {},
   "outputs": [],
   "source": [
    "ann1.save(\"ann_bearing_without_poly.h5\")"
   ]
  },
  {
   "cell_type": "code",
   "execution_count": null,
   "id": "113a6a5e",
   "metadata": {},
   "outputs": [],
   "source": []
  }
 ],
 "metadata": {
  "kernelspec": {
   "display_name": "Python 3 (ipykernel)",
   "language": "python",
   "name": "python3"
  },
  "language_info": {
   "codemirror_mode": {
    "name": "ipython",
    "version": 3
   },
   "file_extension": ".py",
   "mimetype": "text/x-python",
   "name": "python",
   "nbconvert_exporter": "python",
   "pygments_lexer": "ipython3",
   "version": "3.9.12"
  }
 },
 "nbformat": 4,
 "nbformat_minor": 5
}
