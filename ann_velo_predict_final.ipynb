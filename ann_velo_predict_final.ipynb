{
 "cells": [
  {
   "cell_type": "code",
   "execution_count": 1,
   "id": "a1e40e49",
   "metadata": {},
   "outputs": [],
   "source": [
    "import pandas as pd\n",
    "import numpy as np\n",
    "import matplotlib.pyplot as plt"
   ]
  },
  {
   "cell_type": "code",
   "execution_count": 2,
   "id": "c124030c",
   "metadata": {},
   "outputs": [],
   "source": [
    "#Importing Input data\n",
    "data_cohesion_load = np.load('Inputs/4ft_cohesion.npy')\n",
    "data_friction_load = np.load('Inputs/4ft_friction.npy')\n",
    "data_poly_load = np.load('Inputs/4ft_poly_feature.npy')\n",
    "data_watertable_load = np.load('Inputs/4ft_water_table.npy')\n",
    "data_pos = np.load('Inputs/4ft_positions.npy')"
   ]
  },
  {
   "cell_type": "code",
   "execution_count": 3,
   "id": "2017e423",
   "metadata": {},
   "outputs": [
    {
     "name": "stdout",
     "output_type": "stream",
     "text": [
      "(25, 131072)\n",
      "(25, 131072)\n",
      "(25, 131072)\n",
      "(1, 131072)\n"
     ]
    }
   ],
   "source": [
    "print(np.shape(data_cohesion_load))\n",
    "print(np.shape(data_friction_load))\n",
    "print(np.shape(data_poly_load))\n",
    "print(np.shape(data_watertable_load))"
   ]
  },
  {
   "cell_type": "code",
   "execution_count": 4,
   "id": "1e431bb5",
   "metadata": {},
   "outputs": [],
   "source": [
    "data_cohesion = data_cohesion_load\n",
    "data_friction = data_friction_load\n",
    "data_poly = data_poly_load\n",
    "data_watertable = data_watertable_load"
   ]
  },
  {
   "cell_type": "code",
   "execution_count": 5,
   "id": "e375606d",
   "metadata": {},
   "outputs": [],
   "source": [
    "# Importing Target data\n",
    "data_failure_depth = np.load('Targets/4ft_failure_depths.npy')\n",
    "data_velocity_plot = np.load('Targets/4ft_velocity_plots.npy')"
   ]
  },
  {
   "cell_type": "code",
   "execution_count": 6,
   "id": "71b87d16",
   "metadata": {},
   "outputs": [
    {
     "data": {
      "text/plain": [
       "<matplotlib.image.AxesImage at 0x23dcdf050d0>"
      ]
     },
     "execution_count": 6,
     "metadata": {},
     "output_type": "execute_result"
    },
    {
     "data": {
      "image/png": "[encoded data removed]",
      "text/plain": [
       "<Figure size 432x288 with 1 Axes>"
      ]
     },
     "metadata": {
      "needs_background": "light"
     },
     "output_type": "display_data"
    }
   ],
   "source": [
    "# Loading the velocity plots\n",
    "plt.imshow(data_velocity_plot[:,:,100])"
   ]
  },
  {
   "cell_type": "code",
   "execution_count": 7,
   "id": "c7bbd4d7",
   "metadata": {},
   "outputs": [],
   "source": [
    "# Generating equaly spaced quad nodes \n",
    "cord_x = []\n",
    "cord_z = []\n",
    "for i in range(len(data_pos)):\n",
    "    temp_z = data_pos[:,:,1][i][0]\n",
    "    cord_z.append(temp_z)\n",
    "cord_z = np.array(cord_z)\n",
    "z_node = cord_z\n",
    "x_node = cord_x\n",
    "for i in range(len(data_pos[:,:,0][0])):\n",
    "    temp_x = data_pos[:,:,0][0][i]\n",
    "    cord_x.append(temp_x)\n",
    "cord_x = np.array(cord_x)\n",
    "nodes = len(x_node)*len(z_node)\n",
    "cord = np.zeros((nodes,2))\n",
    "for i in range(len(x_node)):\n",
    "    cord[(len(z_node))*i:((len(z_node))+((len(z_node))*i)),0] = x_node[i]\n",
    "for k in range(len(x_node)):\n",
    "    cord[(len(z_node))*k:((len(z_node))*(k+1)),1] = z_node"
   ]
  },
  {
   "cell_type": "code",
   "execution_count": 8,
   "id": "1c2ed4ff",
   "metadata": {},
   "outputs": [],
   "source": [
    "data_cohesion_upd = np.zeros(((len(z_node)*len(x_node)),len(data_cohesion[0,:])))\n",
    "data_friction_upd = np.zeros(((len(z_node)*len(x_node)),len(data_cohesion[0,:])))\n",
    "data_poly_upd = np.zeros(((len(z_node)*len(x_node)),len(data_cohesion[0,:])))\n",
    "data_watertable_upd = np.zeros(((len(z_node)*len(x_node)),len(data_cohesion[0,:])))"
   ]
  },
  {
   "cell_type": "code",
   "execution_count": 9,
   "id": "6e627ea0",
   "metadata": {},
   "outputs": [
    {
     "name": "stdout",
     "output_type": "stream",
     "text": [
      "(825, 131072)\n",
      "(825, 131072)\n",
      "(825, 131072)\n",
      "(825, 131072)\n"
     ]
    }
   ],
   "source": [
    "print(np.shape(data_cohesion_upd))\n",
    "print(np.shape(data_friction_upd))\n",
    "print(np.shape(data_poly_upd))\n",
    "print(np.shape(data_watertable_upd))"
   ]
  },
  {
   "cell_type": "code",
   "execution_count": 10,
   "id": "f26a8200",
   "metadata": {},
   "outputs": [],
   "source": [
    "for j in range(len(data_cohesion[0,:])):\n",
    "    for i in range(len(z_node)):\n",
    "        data_cohesion_upd[i,j] = data_cohesion[i,j]\n",
    "        data_friction_upd[i,j] = data_friction[i,j]\n",
    "        data_poly_upd[i,j] = data_poly[i,j]\n",
    "        data_watertable_upd[:,j] = data_watertable[:,j]"
   ]
  },
  {
   "cell_type": "code",
   "execution_count": 11,
   "id": "1721fb81",
   "metadata": {},
   "outputs": [],
   "source": [
    "for j in range(len(data_cohesion[0,:])):\n",
    "    for i in range(1,len(z_node)):\n",
    "        data_cohesion_upd[len(z_node)*i:(len(z_node)+(len(z_node)*i)),j] = data_cohesion_upd[(len(z_node)*(i-1)):len(z_node)*i,j]\n",
    "        data_friction_upd[len(z_node)*i:(len(z_node)+(len(z_node)*i)),j] = data_friction_upd[(len(z_node)*(i-1)):len(z_node)*i,j]\n",
    "        data_poly_upd[len(z_node)*i:(len(z_node)+(len(z_node)*i)),j] = data_poly_upd[(len(z_node)*(i-1)):len(z_node)*i,j]"
   ]
  },
  {
   "cell_type": "code",
   "execution_count": 12,
   "id": "edf6932d",
   "metadata": {},
   "outputs": [],
   "source": [
    "W = []\n",
    "for j in range(len(data_cohesion[0,:])):\n",
    "    temp = data_velocity_plot[:,:,j].reshape(825)\n",
    "    W.append(temp)\n",
    "W = np.array(W)\n",
    "data_velocity_upd = np.reshape(W,((len(z_node)*len(x_node)),len(data_cohesion[0,:])))"
   ]
  },
  {
   "cell_type": "code",
   "execution_count": 13,
   "id": "ca1e8c62",
   "metadata": {},
   "outputs": [],
   "source": [
    "df_temp = []\n",
    "for i in range(len(data_cohesion[0,:])):\n",
    "    temp = pd.DataFrame({'X':cord[:,0], 'Y': cord[:,1], 'cohesion': data_cohesion_upd[:,i], 'friction': data_friction_upd[:,i], 'water_table': data_watertable_upd[:,i],'poly': data_poly_upd[:,i], 'data_velo':data_velocity_upd[:,i]})\n",
    "    df_temp.append(temp)"
   ]
  },
  {
   "cell_type": "code",
   "execution_count": null,
   "id": "09e9b859",
   "metadata": {},
   "outputs": [],
   "source": [
    "df_global = pd.concat(df_temp)"
   ]
  },
  {
   "cell_type": "code",
   "execution_count": null,
   "id": "2d74ff7f",
   "metadata": {},
   "outputs": [],
   "source": [
    "df_global"
   ]
  },
  {
   "cell_type": "code",
   "execution_count": null,
   "id": "351f7015",
   "metadata": {},
   "outputs": [],
   "source": [
    "data_x = df_global.iloc[:,:-1].values\n",
    "data_y = df_global.iloc[:,-1].values"
   ]
  },
  {
   "cell_type": "code",
   "execution_count": null,
   "id": "4fdac75e",
   "metadata": {},
   "outputs": [],
   "source": [
    "# Spliting test and training\n",
    "from sklearn.model_selection import train_test_split\n",
    "x_train, x_test, y_train, y_test = train_test_split(data_x, data_y, test_size=0.1, random_state = 42)"
   ]
  },
  {
   "cell_type": "code",
   "execution_count": null,
   "id": "003eebb8",
   "metadata": {},
   "outputs": [],
   "source": [
    "#Feature Scaling\n",
    "from sklearn.preprocessing import StandardScaler\n",
    "sc = StandardScaler()\n",
    "x_train = sc.fit_transform(x_train)\n",
    "x_test = sc.fit_transform(x_test)"
   ]
  },
  {
   "cell_type": "code",
   "execution_count": null,
   "id": "2357cac1",
   "metadata": {},
   "outputs": [],
   "source": [
    "import tensorflow as tf\n",
    "print(tf.__version__)\n",
    "# Part 2:Building an ANN using keras\n",
    "#Initializing ANN\n",
    "ann = tf.keras.models.Sequential([tf.keras.layers.Dense(units = 18,activation = 'relu'),\n",
    "                                  tf.keras.layers.Dense(units = 15, activation = 'relu'),  \n",
    "                                  tf.keras.layers.Dense(units = 1, activation = 'linear')\n",
    "])"
   ]
  },
  {
   "cell_type": "code",
   "execution_count": null,
   "id": "d5dba8fb",
   "metadata": {},
   "outputs": [],
   "source": [
    "#compling ann\n",
    "ann.compile(optimizer = 'adam', loss = 'mean_squared_error',metrics = 'accuracy')"
   ]
  },
  {
   "cell_type": "code",
   "execution_count": null,
   "id": "690a24c1",
   "metadata": {},
   "outputs": [],
   "source": [
    "#traing the model\n",
    "ann.fit(x_train,y_train,batch_size = 128, epochs = 20)"
   ]
  },
  {
   "cell_type": "code",
   "execution_count": null,
   "id": "932c2573",
   "metadata": {},
   "outputs": [],
   "source": [
    "ann.summary"
   ]
  },
  {
   "cell_type": "code",
   "execution_count": null,
   "id": "62bff099",
   "metadata": {},
   "outputs": [],
   "source": [
    "ann_prediction = ann.predict(x_test)"
   ]
  },
  {
   "cell_type": "code",
   "execution_count": null,
   "id": "0dd88e0d",
   "metadata": {},
   "outputs": [],
   "source": [
    "from sklearn.metrics import r2_score\n",
    "r2score = r2_score(y_test,ann_prediction)\n",
    "r2score"
   ]
  },
  {
   "cell_type": "code",
   "execution_count": null,
   "id": "fd373663",
   "metadata": {},
   "outputs": [],
   "source": [
    "ann.save(\"ann_epoch_11.h5\")\n",
    "# import tensorflow as tf\n",
    "# from tensorflow import keras\n",
    "# ann_load = keras.models.load_model(\"ann.h5\")"
   ]
  },
  {
   "cell_type": "code",
   "execution_count": null,
   "id": "ca0ae573",
   "metadata": {},
   "outputs": [],
   "source": [
    "data_cohesion_out = data_cohesion_load[:,1000]\n",
    "data_friction_out = data_friction_load[:,1000]\n",
    "data_watertable_out = data_watertable_load[:,1000]\n",
    "data_poly_out = data_poly_load[:,1000]"
   ]
  },
  {
   "cell_type": "code",
   "execution_count": null,
   "id": "dfe4f2ec",
   "metadata": {},
   "outputs": [],
   "source": [
    "data_cohesion_upd1 = np.zeros(((len(z_node)*len(x_node)),1))\n",
    "data_friction_upd1 = np.zeros(((len(z_node)*len(x_node)),1))\n",
    "data_poly_upd1 = np.zeros(((len(z_node)*len(x_node)),1))\n",
    "data_watertable_upd1 = np.zeros(((len(z_node)*len(x_node)),1))\n",
    "data_velocity_upd1 = data_velocity_plot[:,:,1000].reshape(len(x_node)*len(z_node),1)"
   ]
  },
  {
   "cell_type": "code",
   "execution_count": null,
   "id": "f65d1982",
   "metadata": {},
   "outputs": [],
   "source": [
    "for i in range(len(x_node)*len(z_node)):\n",
    "    data_watertable_upd1[i] = data_watertable_out\n",
    "for k in range(len(x_node)):\n",
    "    data_cohesion_upd1[(len(z_node))*k:((len(z_node))*(k+1)),0] = data_cohesion_out\n",
    "    data_friction_upd1[(len(z_node))*k:((len(z_node))*(k+1)),0] = data_friction_out\n",
    "    data_poly_upd1[(len(z_node))*k:((len(z_node))*(k+1)),0] = data_poly_out"
   ]
  },
  {
   "cell_type": "code",
   "execution_count": null,
   "id": "2b3e367b",
   "metadata": {},
   "outputs": [],
   "source": [
    "data_cohesion_upd1 = np.squeeze(data_cohesion_upd1)\n",
    "data_friction_upd1 = np.squeeze(data_friction_upd1)\n",
    "data_poly_upd1 = np.squeeze(data_poly_upd1)\n",
    "data_watertable_upd1 = np.squeeze(data_watertable_upd1)\n",
    "df_out = pd.DataFrame({'X':cord[:,0],'Y': cord[:,1],'cohesion': data_cohesion_upd1, 'friction': data_friction_upd1, 'poly': data_poly_upd1, 'watertable': data_watertable_upd1 })"
   ]
  },
  {
   "cell_type": "code",
   "execution_count": null,
   "id": "c3d02267",
   "metadata": {},
   "outputs": [],
   "source": [
    "df_out"
   ]
  },
  {
   "cell_type": "code",
   "execution_count": null,
   "id": "da52227a",
   "metadata": {},
   "outputs": [],
   "source": [
    "output_100 = ann.predict(sc.transform(df_out.values.tolist()))"
   ]
  },
  {
   "cell_type": "code",
   "execution_count": null,
   "id": "9200b3aa",
   "metadata": {},
   "outputs": [],
   "source": [
    "output_100"
   ]
  },
  {
   "cell_type": "code",
   "execution_count": null,
   "id": "9f6d4332",
   "metadata": {},
   "outputs": [],
   "source": [
    "pl = np.reshape(output_100,(len(z_node),len(x_node)))\n",
    "plt.imshow(pl)"
   ]
  },
  {
   "cell_type": "code",
   "execution_count": null,
   "id": "f9def5ab",
   "metadata": {},
   "outputs": [],
   "source": [
    "pl"
   ]
  },
  {
   "cell_type": "code",
   "execution_count": null,
   "id": "98ba7d1a",
   "metadata": {},
   "outputs": [],
   "source": [
    "plt.imshow(data_velocity_plot[:,:,234100])"
   ]
  },
  {
   "cell_type": "code",
   "execution_count": null,
   "id": "2cf6f657",
   "metadata": {},
   "outputs": [],
   "source": [
    "data_velocity_plot[:,:,234100]"
   ]
  },
  {
   "cell_type": "code",
   "execution_count": null,
   "id": "63c0054e",
   "metadata": {},
   "outputs": [],
   "source": [
    "print(ann.layers[0].weights)\n"
   ]
  },
  {
   "cell_type": "code",
   "execution_count": null,
   "id": "5857b209",
   "metadata": {},
   "outputs": [],
   "source": []
  }
 ],
 "metadata": {
  "kernelspec": {
   "display_name": "Python 3 (ipykernel)",
   "language": "python",
   "name": "python3"
  },
  "language_info": {
   "codemirror_mode": {
    "name": "ipython",
    "version": 3
   },
   "file_extension": ".py",
   "mimetype": "text/x-python",
   "name": "python",
   "nbconvert_exporter": "python",
   "pygments_lexer": "ipython3",
   "version": "3.9.12"
  }
 },
 "nbformat": 4,
 "nbformat_minor": 5
}
